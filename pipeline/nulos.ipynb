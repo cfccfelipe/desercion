{
 "cells": [
  {
   "attachments": {},
   "cell_type": "markdown",
   "metadata": {},
   "source": [
    "<h1>Analisis univariado Nulos y atipicos</h1>\n",
    "<p>Proyecto aplicado - Rescindidos Funeraria La Aurora</´p>\n",
    "<p>Carlos Felipe Cortés Cataño - Carlos Luis Mora Cañas </p>"
   ]
  },
  {
   "attachments": {},
   "cell_type": "markdown",
   "metadata": {},
   "source": [
    "<h3> Carga de datos más librerías </h3>"
   ]
  },
  {
   "cell_type": "code",
   "execution_count": 52,
   "metadata": {},
   "outputs": [],
   "source": [
    "import pandas as pd\n",
    "import numpy as np\n",
    "from datetime import datetime\n",
    "import datetime as dt\n",
    "import plotly.express as px\n",
    "import plotly.graph_objects as go\n",
    "from plotly.subplots import make_subplots\n",
    "import seaborn as sns\n",
    "import re\n",
    "import requests\n"
   ]
  },
  {
   "cell_type": "code",
   "execution_count": 53,
   "metadata": {},
   "outputs": [
    {
     "data": {
      "text/html": [
       "<div>\n",
       "<style scoped>\n",
       "    .dataframe tbody tr th:only-of-type {\n",
       "        vertical-align: middle;\n",
       "    }\n",
       "\n",
       "    .dataframe tbody tr th {\n",
       "        vertical-align: top;\n",
       "    }\n",
       "\n",
       "    .dataframe thead th {\n",
       "        text-align: right;\n",
       "    }\n",
       "</style>\n",
       "<table border=\"1\" class=\"dataframe\">\n",
       "  <thead>\n",
       "    <tr style=\"text-align: right;\">\n",
       "      <th></th>\n",
       "      <th>CodigoPrograma</th>\n",
       "      <th>fechaSolicitud</th>\n",
       "      <th>tomador</th>\n",
       "      <th>edad</th>\n",
       "      <th>fechaNacimiento</th>\n",
       "      <th>#_inscritos_activos</th>\n",
       "      <th>#_mascotas_activas</th>\n",
       "      <th>TipoPrograma</th>\n",
       "      <th>EstadoActual</th>\n",
       "      <th>FechaRescindido</th>\n",
       "      <th>...</th>\n",
       "      <th>Localidad</th>\n",
       "      <th>Longitud</th>\n",
       "      <th>Latitud</th>\n",
       "      <th>nom_plan</th>\n",
       "      <th>profesion_tomador</th>\n",
       "      <th>moda_prof_inscritos</th>\n",
       "      <th>moda_parentesco</th>\n",
       "      <th>Neutral Score</th>\n",
       "      <th>Negative Score</th>\n",
       "      <th>Positive Score</th>\n",
       "    </tr>\n",
       "  </thead>\n",
       "  <tbody>\n",
       "    <tr>\n",
       "      <th>0</th>\n",
       "      <td>56</td>\n",
       "      <td>2018-09-07</td>\n",
       "      <td>Leon Dario Cardona Velez</td>\n",
       "      <td>64.0</td>\n",
       "      <td>1958-09-28</td>\n",
       "      <td>0.0</td>\n",
       "      <td>0.0</td>\n",
       "      <td>Familiar</td>\n",
       "      <td>Inactivo - Influencia de seres cercanos</td>\n",
       "      <td>2020-07-23 05:00:00.000</td>\n",
       "      <td>...</td>\n",
       "      <td>0</td>\n",
       "      <td>-74.668116</td>\n",
       "      <td>5.454237</td>\n",
       "      <td>NaN</td>\n",
       "      <td>NaN</td>\n",
       "      <td>NaN</td>\n",
       "      <td>NaN</td>\n",
       "      <td>0.662207</td>\n",
       "      <td>0.304082</td>\n",
       "      <td>0.033711</td>\n",
       "    </tr>\n",
       "    <tr>\n",
       "      <th>1</th>\n",
       "      <td>59</td>\n",
       "      <td>2018-09-10</td>\n",
       "      <td>Luis Roberto Murillo</td>\n",
       "      <td>68.0</td>\n",
       "      <td>1954-12-18</td>\n",
       "      <td>5.0</td>\n",
       "      <td>0.0</td>\n",
       "      <td>Familiar</td>\n",
       "      <td>Inactivo - Dificultad para ubicarlo</td>\n",
       "      <td>2021-04-07 05:00:00.000</td>\n",
       "      <td>...</td>\n",
       "      <td>0</td>\n",
       "      <td>-74.674757</td>\n",
       "      <td>5.479989</td>\n",
       "      <td>NaN</td>\n",
       "      <td>NaN</td>\n",
       "      <td>NaN</td>\n",
       "      <td>NaN</td>\n",
       "      <td>0.421943</td>\n",
       "      <td>0.563205</td>\n",
       "      <td>0.014852</td>\n",
       "    </tr>\n",
       "  </tbody>\n",
       "</table>\n",
       "<p>2 rows × 42 columns</p>\n",
       "</div>"
      ],
      "text/plain": [
       "   CodigoPrograma fechaSolicitud                   tomador  edad  \\\n",
       "0              56     2018-09-07  Leon Dario Cardona Velez  64.0   \n",
       "1              59     2018-09-10     Luis Roberto Murillo   68.0   \n",
       "\n",
       "  fechaNacimiento  #_inscritos_activos  #_mascotas_activas TipoPrograma  \\\n",
       "0      1958-09-28                  0.0                 0.0     Familiar   \n",
       "1      1954-12-18                  5.0                 0.0     Familiar   \n",
       "\n",
       "                              EstadoActual          FechaRescindido  ...  \\\n",
       "0  Inactivo - Influencia de seres cercanos  2020-07-23 05:00:00.000  ...   \n",
       "1      Inactivo - Dificultad para ubicarlo  2021-04-07 05:00:00.000  ...   \n",
       "\n",
       "   Localidad   Longitud   Latitud  nom_plan  profesion_tomador  \\\n",
       "0          0 -74.668116  5.454237       NaN                NaN   \n",
       "1          0 -74.674757  5.479989       NaN                NaN   \n",
       "\n",
       "  moda_prof_inscritos moda_parentesco Neutral Score Negative Score  \\\n",
       "0                 NaN             NaN      0.662207       0.304082   \n",
       "1                 NaN             NaN      0.421943       0.563205   \n",
       "\n",
       "  Positive Score  \n",
       "0       0.033711  \n",
       "1       0.014852  \n",
       "\n",
       "[2 rows x 42 columns]"
      ]
     },
     "execution_count": 53,
     "metadata": {},
     "output_type": "execute_result"
    }
   ],
   "source": [
    "data= pd.read_csv(\"../data/outputs/principal_v0.3.csv\")\n",
    "data.head(2)\n"
   ]
  },
  {
   "attachments": {},
   "cell_type": "markdown",
   "metadata": {},
   "source": [
    "Para el presente análisis transformamos nuestra variable objetivo como 0 para usuario inactivos o 1 para usuarios activos, adicionalmente separamos el motivo en una variable adicional"
   ]
  },
  {
   "cell_type": "code",
   "execution_count": 54,
   "metadata": {},
   "outputs": [
    {
     "data": {
      "text/plain": [
       "0    0\n",
       "1    0\n",
       "2    0\n",
       "3    1\n",
       "4    0\n",
       "Name: estado, dtype: int64"
      ]
     },
     "execution_count": 54,
     "metadata": {},
     "output_type": "execute_result"
    }
   ],
   "source": [
    "data[\"motivo\"] = data[\"EstadoActual\"].str.split(pat=\"-\", expand=True, n=1)[1]\n",
    "data[\"estado\"] = data[\"EstadoActual\"].str.split(pat=\"-\", expand=True, n=1)[0]\n",
    "data[\"estado\"].where(data[\"estado\"] == \"Inactivo \", 1, inplace=True)\n",
    "data[\"estado\"].where(data[\"estado\"] != \"Inactivo \", 0, inplace=True)\n",
    "data[\"estado\"] = data[\"estado\"].astype(int)\n",
    "data[\"estado\"].head()\n"
   ]
  },
  {
   "attachments": {},
   "cell_type": "markdown",
   "metadata": {},
   "source": [
    "<h3> Estadisticas generales </h3>"
   ]
  },
  {
   "attachments": {},
   "cell_type": "markdown",
   "metadata": {},
   "source": [
    "<h4>Descripción dataset </h4>"
   ]
  },
  {
   "cell_type": "code",
   "execution_count": 55,
   "metadata": {},
   "outputs": [
    {
     "data": {
      "text/html": [
       "<div>\n",
       "<style scoped>\n",
       "    .dataframe tbody tr th:only-of-type {\n",
       "        vertical-align: middle;\n",
       "    }\n",
       "\n",
       "    .dataframe tbody tr th {\n",
       "        vertical-align: top;\n",
       "    }\n",
       "\n",
       "    .dataframe thead th {\n",
       "        text-align: right;\n",
       "    }\n",
       "</style>\n",
       "<table border=\"1\" class=\"dataframe\">\n",
       "  <thead>\n",
       "    <tr style=\"text-align: right;\">\n",
       "      <th></th>\n",
       "      <th>count</th>\n",
       "      <th>mean</th>\n",
       "      <th>std</th>\n",
       "      <th>min</th>\n",
       "      <th>25%</th>\n",
       "      <th>50%</th>\n",
       "      <th>75%</th>\n",
       "      <th>max</th>\n",
       "    </tr>\n",
       "  </thead>\n",
       "  <tbody>\n",
       "    <tr>\n",
       "      <th>CodigoPrograma</th>\n",
       "      <td>9380.0</td>\n",
       "      <td>69655.781343</td>\n",
       "      <td>53389.496557</td>\n",
       "      <td>56.000000</td>\n",
       "      <td>24124.500000</td>\n",
       "      <td>53186.500000</td>\n",
       "      <td>127496.750000</td>\n",
       "      <td>1.740390e+05</td>\n",
       "    </tr>\n",
       "    <tr>\n",
       "      <th>edad</th>\n",
       "      <td>9380.0</td>\n",
       "      <td>47.544456</td>\n",
       "      <td>13.599783</td>\n",
       "      <td>18.000000</td>\n",
       "      <td>37.000000</td>\n",
       "      <td>47.000000</td>\n",
       "      <td>57.000000</td>\n",
       "      <td>1.010000e+02</td>\n",
       "    </tr>\n",
       "    <tr>\n",
       "      <th>#_inscritos_activos</th>\n",
       "      <td>9380.0</td>\n",
       "      <td>3.817058</td>\n",
       "      <td>2.636811</td>\n",
       "      <td>0.000000</td>\n",
       "      <td>1.000000</td>\n",
       "      <td>5.000000</td>\n",
       "      <td>6.000000</td>\n",
       "      <td>1.400000e+01</td>\n",
       "    </tr>\n",
       "    <tr>\n",
       "      <th>#_mascotas_activas</th>\n",
       "      <td>9380.0</td>\n",
       "      <td>0.234648</td>\n",
       "      <td>0.568436</td>\n",
       "      <td>0.000000</td>\n",
       "      <td>0.000000</td>\n",
       "      <td>0.000000</td>\n",
       "      <td>0.000000</td>\n",
       "      <td>6.000000e+00</td>\n",
       "    </tr>\n",
       "    <tr>\n",
       "      <th>valorCuota_1</th>\n",
       "      <td>9380.0</td>\n",
       "      <td>26820.092492</td>\n",
       "      <td>91873.911378</td>\n",
       "      <td>0.000000</td>\n",
       "      <td>15100.000000</td>\n",
       "      <td>18100.000000</td>\n",
       "      <td>22000.000000</td>\n",
       "      <td>4.500000e+06</td>\n",
       "    </tr>\n",
       "    <tr>\n",
       "      <th>valorUltimaCuota</th>\n",
       "      <td>9380.0</td>\n",
       "      <td>28521.563674</td>\n",
       "      <td>92206.446270</td>\n",
       "      <td>0.000000</td>\n",
       "      <td>16100.000000</td>\n",
       "      <td>19500.000000</td>\n",
       "      <td>24600.000000</td>\n",
       "      <td>4.500000e+06</td>\n",
       "    </tr>\n",
       "    <tr>\n",
       "      <th>qinactivos</th>\n",
       "      <td>9380.0</td>\n",
       "      <td>1.779211</td>\n",
       "      <td>0.824494</td>\n",
       "      <td>1.000000</td>\n",
       "      <td>1.000000</td>\n",
       "      <td>2.000000</td>\n",
       "      <td>2.000000</td>\n",
       "      <td>6.000000e+00</td>\n",
       "    </tr>\n",
       "    <tr>\n",
       "      <th>qactivos</th>\n",
       "      <td>9380.0</td>\n",
       "      <td>2.256290</td>\n",
       "      <td>0.857590</td>\n",
       "      <td>1.000000</td>\n",
       "      <td>1.000000</td>\n",
       "      <td>3.000000</td>\n",
       "      <td>3.000000</td>\n",
       "      <td>5.000000e+00</td>\n",
       "    </tr>\n",
       "    <tr>\n",
       "      <th>recauExitoso</th>\n",
       "      <td>9380.0</td>\n",
       "      <td>12.636674</td>\n",
       "      <td>10.643051</td>\n",
       "      <td>1.000000</td>\n",
       "      <td>5.000000</td>\n",
       "      <td>10.000000</td>\n",
       "      <td>16.000000</td>\n",
       "      <td>8.400000e+01</td>\n",
       "    </tr>\n",
       "    <tr>\n",
       "      <th>recauFallido</th>\n",
       "      <td>9380.0</td>\n",
       "      <td>11.498401</td>\n",
       "      <td>12.574787</td>\n",
       "      <td>1.000000</td>\n",
       "      <td>3.000000</td>\n",
       "      <td>7.000000</td>\n",
       "      <td>15.000000</td>\n",
       "      <td>1.270000e+02</td>\n",
       "    </tr>\n",
       "    <tr>\n",
       "      <th>Nivel Socio Economico</th>\n",
       "      <td>3868.0</td>\n",
       "      <td>2.245863</td>\n",
       "      <td>1.342082</td>\n",
       "      <td>0.000000</td>\n",
       "      <td>1.000000</td>\n",
       "      <td>2.000000</td>\n",
       "      <td>3.000000</td>\n",
       "      <td>6.000000e+00</td>\n",
       "    </tr>\n",
       "    <tr>\n",
       "      <th>Longitud</th>\n",
       "      <td>5869.0</td>\n",
       "      <td>-75.113879</td>\n",
       "      <td>2.684069</td>\n",
       "      <td>-121.987052</td>\n",
       "      <td>-75.518494</td>\n",
       "      <td>-75.498274</td>\n",
       "      <td>-74.798253</td>\n",
       "      <td>3.520342e+01</td>\n",
       "    </tr>\n",
       "    <tr>\n",
       "      <th>Latitud</th>\n",
       "      <td>5869.0</td>\n",
       "      <td>5.173530</td>\n",
       "      <td>2.200548</td>\n",
       "      <td>-25.670707</td>\n",
       "      <td>5.049344</td>\n",
       "      <td>5.065466</td>\n",
       "      <td>5.076924</td>\n",
       "      <td>5.007554e+01</td>\n",
       "    </tr>\n",
       "    <tr>\n",
       "      <th>Neutral Score</th>\n",
       "      <td>9249.0</td>\n",
       "      <td>0.639096</td>\n",
       "      <td>0.119493</td>\n",
       "      <td>0.039241</td>\n",
       "      <td>0.573472</td>\n",
       "      <td>0.658494</td>\n",
       "      <td>0.717897</td>\n",
       "      <td>9.366916e-01</td>\n",
       "    </tr>\n",
       "    <tr>\n",
       "      <th>Negative Score</th>\n",
       "      <td>9249.0</td>\n",
       "      <td>0.270190</td>\n",
       "      <td>0.140859</td>\n",
       "      <td>0.009932</td>\n",
       "      <td>0.175412</td>\n",
       "      <td>0.249277</td>\n",
       "      <td>0.351775</td>\n",
       "      <td>9.585801e-01</td>\n",
       "    </tr>\n",
       "    <tr>\n",
       "      <th>Positive Score</th>\n",
       "      <td>9249.0</td>\n",
       "      <td>0.090714</td>\n",
       "      <td>0.077807</td>\n",
       "      <td>0.002179</td>\n",
       "      <td>0.039893</td>\n",
       "      <td>0.076128</td>\n",
       "      <td>0.110861</td>\n",
       "      <td>7.830659e-01</td>\n",
       "    </tr>\n",
       "    <tr>\n",
       "      <th>estado</th>\n",
       "      <td>9380.0</td>\n",
       "      <td>0.330490</td>\n",
       "      <td>0.470415</td>\n",
       "      <td>0.000000</td>\n",
       "      <td>0.000000</td>\n",
       "      <td>0.000000</td>\n",
       "      <td>1.000000</td>\n",
       "      <td>1.000000e+00</td>\n",
       "    </tr>\n",
       "  </tbody>\n",
       "</table>\n",
       "</div>"
      ],
      "text/plain": [
       "                        count          mean           std         min  \\\n",
       "CodigoPrograma         9380.0  69655.781343  53389.496557   56.000000   \n",
       "edad                   9380.0     47.544456     13.599783   18.000000   \n",
       "#_inscritos_activos    9380.0      3.817058      2.636811    0.000000   \n",
       "#_mascotas_activas     9380.0      0.234648      0.568436    0.000000   \n",
       "valorCuota_1           9380.0  26820.092492  91873.911378    0.000000   \n",
       "valorUltimaCuota       9380.0  28521.563674  92206.446270    0.000000   \n",
       "qinactivos             9380.0      1.779211      0.824494    1.000000   \n",
       "qactivos               9380.0      2.256290      0.857590    1.000000   \n",
       "recauExitoso           9380.0     12.636674     10.643051    1.000000   \n",
       "recauFallido           9380.0     11.498401     12.574787    1.000000   \n",
       "Nivel Socio Economico  3868.0      2.245863      1.342082    0.000000   \n",
       "Longitud               5869.0    -75.113879      2.684069 -121.987052   \n",
       "Latitud                5869.0      5.173530      2.200548  -25.670707   \n",
       "Neutral Score          9249.0      0.639096      0.119493    0.039241   \n",
       "Negative Score         9249.0      0.270190      0.140859    0.009932   \n",
       "Positive Score         9249.0      0.090714      0.077807    0.002179   \n",
       "estado                 9380.0      0.330490      0.470415    0.000000   \n",
       "\n",
       "                                25%           50%            75%           max  \n",
       "CodigoPrograma         24124.500000  53186.500000  127496.750000  1.740390e+05  \n",
       "edad                      37.000000     47.000000      57.000000  1.010000e+02  \n",
       "#_inscritos_activos        1.000000      5.000000       6.000000  1.400000e+01  \n",
       "#_mascotas_activas         0.000000      0.000000       0.000000  6.000000e+00  \n",
       "valorCuota_1           15100.000000  18100.000000   22000.000000  4.500000e+06  \n",
       "valorUltimaCuota       16100.000000  19500.000000   24600.000000  4.500000e+06  \n",
       "qinactivos                 1.000000      2.000000       2.000000  6.000000e+00  \n",
       "qactivos                   1.000000      3.000000       3.000000  5.000000e+00  \n",
       "recauExitoso               5.000000     10.000000      16.000000  8.400000e+01  \n",
       "recauFallido               3.000000      7.000000      15.000000  1.270000e+02  \n",
       "Nivel Socio Economico      1.000000      2.000000       3.000000  6.000000e+00  \n",
       "Longitud                 -75.518494    -75.498274     -74.798253  3.520342e+01  \n",
       "Latitud                    5.049344      5.065466       5.076924  5.007554e+01  \n",
       "Neutral Score              0.573472      0.658494       0.717897  9.366916e-01  \n",
       "Negative Score             0.175412      0.249277       0.351775  9.585801e-01  \n",
       "Positive Score             0.039893      0.076128       0.110861  7.830659e-01  \n",
       "estado                     0.000000      0.000000       1.000000  1.000000e+00  "
      ]
     },
     "execution_count": 55,
     "metadata": {},
     "output_type": "execute_result"
    }
   ],
   "source": [
    "vars_numb = data.describe().columns\n",
    "data[vars_numb].describe().T\n"
   ]
  },
  {
   "attachments": {},
   "cell_type": "markdown",
   "metadata": {},
   "source": [
    "Tenemos 9380 registros, pero de los 9380, solo 3868 tienen datos importantes como el nivel socio economico o solo 5869 datos como longitud y latitud"
   ]
  },
  {
   "cell_type": "code",
   "execution_count": 56,
   "metadata": {},
   "outputs": [
    {
     "data": {
      "text/html": [
       "<div>\n",
       "<style scoped>\n",
       "    .dataframe tbody tr th:only-of-type {\n",
       "        vertical-align: middle;\n",
       "    }\n",
       "\n",
       "    .dataframe tbody tr th {\n",
       "        vertical-align: top;\n",
       "    }\n",
       "\n",
       "    .dataframe thead th {\n",
       "        text-align: right;\n",
       "    }\n",
       "</style>\n",
       "<table border=\"1\" class=\"dataframe\">\n",
       "  <thead>\n",
       "    <tr style=\"text-align: right;\">\n",
       "      <th></th>\n",
       "      <th>count</th>\n",
       "      <th>unique</th>\n",
       "      <th>top</th>\n",
       "      <th>freq</th>\n",
       "    </tr>\n",
       "  </thead>\n",
       "  <tbody>\n",
       "    <tr>\n",
       "      <th>fechaSolicitud</th>\n",
       "      <td>9380</td>\n",
       "      <td>3187</td>\n",
       "      <td>2020-02-29</td>\n",
       "      <td>48</td>\n",
       "    </tr>\n",
       "    <tr>\n",
       "      <th>tomador</th>\n",
       "      <td>9380</td>\n",
       "      <td>8318</td>\n",
       "      <td>Fabiola Salazar Jaramillo</td>\n",
       "      <td>20</td>\n",
       "    </tr>\n",
       "    <tr>\n",
       "      <th>fechaNacimiento</th>\n",
       "      <td>9380</td>\n",
       "      <td>6710</td>\n",
       "      <td>1956-01-24</td>\n",
       "      <td>20</td>\n",
       "    </tr>\n",
       "    <tr>\n",
       "      <th>TipoPrograma</th>\n",
       "      <td>9380</td>\n",
       "      <td>1</td>\n",
       "      <td>Familiar</td>\n",
       "      <td>9380</td>\n",
       "    </tr>\n",
       "    <tr>\n",
       "      <th>EstadoActual</th>\n",
       "      <td>9380</td>\n",
       "      <td>46</td>\n",
       "      <td>Activo - Activo</td>\n",
       "      <td>2600</td>\n",
       "    </tr>\n",
       "    <tr>\n",
       "      <th>FechaRescindido</th>\n",
       "      <td>9380</td>\n",
       "      <td>1758</td>\n",
       "      <td>9999-12-31 00:00:00.000</td>\n",
       "      <td>2930</td>\n",
       "    </tr>\n",
       "    <tr>\n",
       "      <th>fechaIdealPago_CuotaCancelada</th>\n",
       "      <td>9380</td>\n",
       "      <td>1891</td>\n",
       "      <td>2023-02-01</td>\n",
       "      <td>90</td>\n",
       "    </tr>\n",
       "    <tr>\n",
       "      <th>fechaactivoi</th>\n",
       "      <td>9380</td>\n",
       "      <td>3196</td>\n",
       "      <td>2020-02-29</td>\n",
       "      <td>48</td>\n",
       "    </tr>\n",
       "    <tr>\n",
       "      <th>motivoactivoi</th>\n",
       "      <td>9380</td>\n",
       "      <td>4</td>\n",
       "      <td>Creacion de Solicitud</td>\n",
       "      <td>8968</td>\n",
       "    </tr>\n",
       "    <tr>\n",
       "      <th>fechainactivof</th>\n",
       "      <td>9380</td>\n",
       "      <td>1020</td>\n",
       "      <td>2021-12-31</td>\n",
       "      <td>77</td>\n",
       "    </tr>\n",
       "    <tr>\n",
       "      <th>motivoinactivof</th>\n",
       "      <td>9380</td>\n",
       "      <td>43</td>\n",
       "      <td>Inactivo para reactivación</td>\n",
       "      <td>4140</td>\n",
       "    </tr>\n",
       "    <tr>\n",
       "      <th>fechainactivoi</th>\n",
       "      <td>9380</td>\n",
       "      <td>1097</td>\n",
       "      <td>2021-12-31</td>\n",
       "      <td>48</td>\n",
       "    </tr>\n",
       "    <tr>\n",
       "      <th>motivoinactivoi</th>\n",
       "      <td>9380</td>\n",
       "      <td>45</td>\n",
       "      <td>Pendiente primer pago</td>\n",
       "      <td>4452</td>\n",
       "    </tr>\n",
       "    <tr>\n",
       "      <th>fechaactivof</th>\n",
       "      <td>9380</td>\n",
       "      <td>2658</td>\n",
       "      <td>2020-09-16</td>\n",
       "      <td>39</td>\n",
       "    </tr>\n",
       "    <tr>\n",
       "      <th>motivoactivof</th>\n",
       "      <td>9380</td>\n",
       "      <td>5</td>\n",
       "      <td>Activo</td>\n",
       "      <td>5097</td>\n",
       "    </tr>\n",
       "    <tr>\n",
       "      <th>inactivof_activoi</th>\n",
       "      <td>9380</td>\n",
       "      <td>3024</td>\n",
       "      <td>0 days</td>\n",
       "      <td>762</td>\n",
       "    </tr>\n",
       "    <tr>\n",
       "      <th>inactivof_activof</th>\n",
       "      <td>9380</td>\n",
       "      <td>2388</td>\n",
       "      <td>0 days</td>\n",
       "      <td>2101</td>\n",
       "    </tr>\n",
       "    <tr>\n",
       "      <th>inactivoi_activoi</th>\n",
       "      <td>9380</td>\n",
       "      <td>2878</td>\n",
       "      <td>0 days</td>\n",
       "      <td>1482</td>\n",
       "    </tr>\n",
       "    <tr>\n",
       "      <th>Direccion</th>\n",
       "      <td>9380</td>\n",
       "      <td>8019</td>\n",
       "      <td>Carrera 35 A - Calle 99 # 57</td>\n",
       "      <td>20</td>\n",
       "    </tr>\n",
       "    <tr>\n",
       "      <th>LocalidadVenta</th>\n",
       "      <td>9380</td>\n",
       "      <td>19</td>\n",
       "      <td>Manizales</td>\n",
       "      <td>6278</td>\n",
       "    </tr>\n",
       "    <tr>\n",
       "      <th>Barrio</th>\n",
       "      <td>3868</td>\n",
       "      <td>368</td>\n",
       "      <td>0</td>\n",
       "      <td>485</td>\n",
       "    </tr>\n",
       "    <tr>\n",
       "      <th>Localidad</th>\n",
       "      <td>3868</td>\n",
       "      <td>42</td>\n",
       "      <td>0</td>\n",
       "      <td>709</td>\n",
       "    </tr>\n",
       "    <tr>\n",
       "      <th>nom_plan</th>\n",
       "      <td>3734</td>\n",
       "      <td>57</td>\n",
       "      <td>Aurora Plus 2020</td>\n",
       "      <td>945</td>\n",
       "    </tr>\n",
       "    <tr>\n",
       "      <th>profesion_tomador</th>\n",
       "      <td>3734</td>\n",
       "      <td>119</td>\n",
       "      <td>Ama de casa</td>\n",
       "      <td>710</td>\n",
       "    </tr>\n",
       "    <tr>\n",
       "      <th>moda_prof_inscritos</th>\n",
       "      <td>3458</td>\n",
       "      <td>423</td>\n",
       "      <td>Estudiante</td>\n",
       "      <td>706</td>\n",
       "    </tr>\n",
       "    <tr>\n",
       "      <th>moda_parentesco</th>\n",
       "      <td>3734</td>\n",
       "      <td>666</td>\n",
       "      <td>Hijo</td>\n",
       "      <td>594</td>\n",
       "    </tr>\n",
       "    <tr>\n",
       "      <th>motivo</th>\n",
       "      <td>9380</td>\n",
       "      <td>46</td>\n",
       "      <td>Activo</td>\n",
       "      <td>2600</td>\n",
       "    </tr>\n",
       "  </tbody>\n",
       "</table>\n",
       "</div>"
      ],
      "text/plain": [
       "                              count unique                           top  freq\n",
       "fechaSolicitud                 9380   3187                    2020-02-29    48\n",
       "tomador                        9380   8318     Fabiola Salazar Jaramillo    20\n",
       "fechaNacimiento                9380   6710                    1956-01-24    20\n",
       "TipoPrograma                   9380      1                      Familiar  9380\n",
       "EstadoActual                   9380     46               Activo - Activo  2600\n",
       "FechaRescindido                9380   1758       9999-12-31 00:00:00.000  2930\n",
       "fechaIdealPago_CuotaCancelada  9380   1891                    2023-02-01    90\n",
       "fechaactivoi                   9380   3196                    2020-02-29    48\n",
       "motivoactivoi                  9380      4         Creacion de Solicitud  8968\n",
       "fechainactivof                 9380   1020                    2021-12-31    77\n",
       "motivoinactivof                9380     43    Inactivo para reactivación  4140\n",
       "fechainactivoi                 9380   1097                    2021-12-31    48\n",
       "motivoinactivoi                9380     45         Pendiente primer pago  4452\n",
       "fechaactivof                   9380   2658                    2020-09-16    39\n",
       "motivoactivof                  9380      5                        Activo  5097\n",
       "inactivof_activoi              9380   3024                        0 days   762\n",
       "inactivof_activof              9380   2388                        0 days  2101\n",
       "inactivoi_activoi              9380   2878                        0 days  1482\n",
       "Direccion                      9380   8019  Carrera 35 A - Calle 99 # 57    20\n",
       "LocalidadVenta                 9380     19                     Manizales  6278\n",
       "Barrio                         3868    368                             0   485\n",
       "Localidad                      3868     42                             0   709\n",
       "nom_plan                       3734     57              Aurora Plus 2020   945\n",
       "profesion_tomador              3734    119                   Ama de casa   710\n",
       "moda_prof_inscritos            3458    423                    Estudiante   706\n",
       "moda_parentesco                3734    666                          Hijo   594\n",
       "motivo                         9380     46                        Activo  2600"
      ]
     },
     "execution_count": 56,
     "metadata": {},
     "output_type": "execute_result"
    }
   ],
   "source": [
    "variables_categoricas = data.drop(vars_numb, axis=1).columns\n",
    "data[variables_categoricas].describe().T\n"
   ]
  },
  {
   "attachments": {},
   "cell_type": "markdown",
   "metadata": {},
   "source": [
    "En nuestras variables categorícas, empiezan a aparecer datos que posiblemente no aporten valor a la clasificación, en este caso eliminamos estas columnas que no aportan valor. El primer caso es estado actual, el cual lo dividimos anteriormente, el segundo es tipo de programa donde solo tomamos familiares, también observamos que fechas como inactivo - activo estan teniendo diferencias de 0 días o que los motivos en 5000 datos son iguales Activo."
   ]
  },
  {
   "cell_type": "code",
   "execution_count": 57,
   "metadata": {},
   "outputs": [
    {
     "data": {
      "text/plain": [
       "Index(['fechaSolicitud', 'tomador', 'fechaNacimiento', 'FechaRescindido',\n",
       "       'fechaIdealPago_CuotaCancelada', 'fechaactivoi', 'motivoactivoi',\n",
       "       'fechainactivof', 'motivoinactivof', 'fechainactivoi',\n",
       "       'motivoinactivoi', 'fechaactivof', 'inactivof_activoi',\n",
       "       'inactivof_activof', 'inactivoi_activoi', 'Direccion', 'LocalidadVenta',\n",
       "       'Barrio', 'Localidad', 'nom_plan', 'profesion_tomador',\n",
       "       'moda_prof_inscritos', 'moda_parentesco', 'motivo'],\n",
       "      dtype='object')"
      ]
     },
     "execution_count": 57,
     "metadata": {},
     "output_type": "execute_result"
    }
   ],
   "source": [
    "data.drop([\"EstadoActual\", \"motivoactivof\", \"TipoPrograma\"], axis=1, inplace=True)\n",
    "variables_categoricas = data.drop(vars_numb, axis=1).columns\n",
    "variables_categoricas\n"
   ]
  },
  {
   "cell_type": "code",
   "execution_count": 58,
   "metadata": {},
   "outputs": [
    {
     "data": {
      "text/plain": [
       "<AxesSubplot:>"
      ]
     },
     "execution_count": 58,
     "metadata": {},
     "output_type": "execute_result"
    },
    {
     "data": {
      "image/png": "[encoded data removed]",
      "text/plain": [
       "<Figure size 432x288 with 1 Axes>"
      ]
     },
     "metadata": {
      "needs_background": "light"
     },
     "output_type": "display_data"
    }
   ],
   "source": [
    "sns.heatmap(data.isnull(), cbar=False)"
   ]
  },
  {
   "attachments": {},
   "cell_type": "markdown",
   "metadata": {},
   "source": [
    "Los ultimos datos adicionados presentan gran cantidad de nulos casi el 30% de los 9000 registros, revisaremos si aportan valor, en caso de ser así se tendrian en cuenta esos 3000 registros.Casi todos los datos nulos estan presentes en Nivel SocioEconomico, Localidad, Latitud, profesion del tomador y la moda del parentesco"
   ]
  },
  {
   "cell_type": "code",
   "execution_count": 59,
   "metadata": {},
   "outputs": [
    {
     "data": {
      "text/plain": [
       "index                      estado\n",
       "CodigoPrograma           0.317662\n",
       "edad                    -0.005813\n",
       "#_inscritos_activos      0.017374\n",
       "#_mascotas_activas       0.050874\n",
       "valorCuota_1             0.056241\n",
       "valorUltimaCuota         0.056796\n",
       "qinactivos              -0.480678\n",
       "qactivos                 0.309882\n",
       "recauExitoso             0.168393\n",
       "recauFallido            -0.076605\n",
       "Nivel Socio Economico    0.028694\n",
       "Longitud                -0.030594\n",
       "Latitud                   0.00737\n",
       "Neutral Score            0.258462\n",
       "Negative Score          -0.316817\n",
       "Positive Score           0.176617\n",
       "estado                        1.0\n",
       "Name: 16, dtype: object"
      ]
     },
     "execution_count": 59,
     "metadata": {},
     "output_type": "execute_result"
    }
   ],
   "source": [
    "data.corr().reset_index().iloc[-1]"
   ]
  },
  {
   "attachments": {},
   "cell_type": "markdown",
   "metadata": {},
   "source": [
    "Resalta la cantidad de veces que un usuario a estado inactivo o ativo, recaudo exitoso y los score del sentimiento"
   ]
  },
  {
   "attachments": {},
   "cell_type": "markdown",
   "metadata": {},
   "source": [
    "<h4>Atipicos y análisis univariado</h4>"
   ]
  },
  {
   "cell_type": "code",
   "execution_count": 60,
   "metadata": {},
   "outputs": [
    {
     "data": {
      "text/plain": [
       "Index(['CodigoPrograma', 'fechaSolicitud', 'tomador', 'edad',\n",
       "       'fechaNacimiento', '#_inscritos_activos', '#_mascotas_activas',\n",
       "       'FechaRescindido', 'valorCuota_1', 'valorUltimaCuota',\n",
       "       'fechaIdealPago_CuotaCancelada', 'qinactivos', 'qactivos',\n",
       "       'fechaactivoi', 'motivoactivoi', 'fechainactivof', 'motivoinactivof',\n",
       "       'fechainactivoi', 'motivoinactivoi', 'fechaactivof',\n",
       "       'inactivof_activoi', 'inactivof_activof', 'inactivoi_activoi',\n",
       "       'recauExitoso', 'recauFallido', 'Direccion', 'LocalidadVenta',\n",
       "       'Nivel Socio Economico', 'Barrio', 'Localidad', 'Longitud', 'Latitud',\n",
       "       'nom_plan', 'profesion_tomador', 'moda_prof_inscritos',\n",
       "       'moda_parentesco', 'Neutral Score', 'Negative Score', 'Positive Score',\n",
       "       'motivo', 'estado'],\n",
       "      dtype='object')"
      ]
     },
     "execution_count": 60,
     "metadata": {},
     "output_type": "execute_result"
    }
   ],
   "source": [
    "data.columns"
   ]
  },
  {
   "cell_type": "code",
   "execution_count": 61,
   "metadata": {},
   "outputs": [
    {
     "data": {
      "text/plain": [
       "1062"
      ]
     },
     "execution_count": 61,
     "metadata": {},
     "output_type": "execute_result"
    }
   ],
   "source": [
    "data[\"tomador\"].duplicated().sum()"
   ]
  },
  {
   "cell_type": "code",
   "execution_count": 62,
   "metadata": {},
   "outputs": [
    {
     "data": {
      "text/html": [
       "<div>\n",
       "<style scoped>\n",
       "    .dataframe tbody tr th:only-of-type {\n",
       "        vertical-align: middle;\n",
       "    }\n",
       "\n",
       "    .dataframe tbody tr th {\n",
       "        vertical-align: top;\n",
       "    }\n",
       "\n",
       "    .dataframe thead th {\n",
       "        text-align: right;\n",
       "    }\n",
       "</style>\n",
       "<table border=\"1\" class=\"dataframe\">\n",
       "  <thead>\n",
       "    <tr style=\"text-align: right;\">\n",
       "      <th></th>\n",
       "      <th>CodigoPrograma</th>\n",
       "      <th>fechaSolicitud</th>\n",
       "      <th>tomador</th>\n",
       "      <th>edad</th>\n",
       "      <th>fechaNacimiento</th>\n",
       "      <th>#_inscritos_activos</th>\n",
       "      <th>#_mascotas_activas</th>\n",
       "      <th>FechaRescindido</th>\n",
       "      <th>valorCuota_1</th>\n",
       "      <th>valorUltimaCuota</th>\n",
       "      <th>...</th>\n",
       "      <th>Latitud</th>\n",
       "      <th>nom_plan</th>\n",
       "      <th>profesion_tomador</th>\n",
       "      <th>moda_prof_inscritos</th>\n",
       "      <th>moda_parentesco</th>\n",
       "      <th>Neutral Score</th>\n",
       "      <th>Negative Score</th>\n",
       "      <th>Positive Score</th>\n",
       "      <th>motivo</th>\n",
       "      <th>estado</th>\n",
       "    </tr>\n",
       "  </thead>\n",
       "  <tbody>\n",
       "    <tr>\n",
       "      <th>8151</th>\n",
       "      <td>154641</td>\n",
       "      <td>2022-06-16</td>\n",
       "      <td>Abilian Bedoya Henao</td>\n",
       "      <td>58.0</td>\n",
       "      <td>1964-11-15</td>\n",
       "      <td>0.0</td>\n",
       "      <td>1.0</td>\n",
       "      <td>9999-12-31 00:00:00.000</td>\n",
       "      <td>8500.0</td>\n",
       "      <td>9800.0</td>\n",
       "      <td>...</td>\n",
       "      <td>NaN</td>\n",
       "      <td>Aurora Plus 2020</td>\n",
       "      <td>Ama de casa</td>\n",
       "      <td>Ama de casa</td>\n",
       "      <td>TITULAR</td>\n",
       "      <td>0.867696</td>\n",
       "      <td>0.048420</td>\n",
       "      <td>0.083884</td>\n",
       "      <td>Activo para verificación</td>\n",
       "      <td>1</td>\n",
       "    </tr>\n",
       "    <tr>\n",
       "      <th>8152</th>\n",
       "      <td>154641</td>\n",
       "      <td>2022-06-16</td>\n",
       "      <td>Abilian Bedoya Henao</td>\n",
       "      <td>58.0</td>\n",
       "      <td>1964-11-15</td>\n",
       "      <td>0.0</td>\n",
       "      <td>1.0</td>\n",
       "      <td>9999-12-31 00:00:00.000</td>\n",
       "      <td>8500.0</td>\n",
       "      <td>9800.0</td>\n",
       "      <td>...</td>\n",
       "      <td>NaN</td>\n",
       "      <td>Asistencia Exequial Mascota 2020</td>\n",
       "      <td>Ama de casa</td>\n",
       "      <td>Ama de casa</td>\n",
       "      <td>TITULAR</td>\n",
       "      <td>0.867696</td>\n",
       "      <td>0.048420</td>\n",
       "      <td>0.083884</td>\n",
       "      <td>Activo para verificación</td>\n",
       "      <td>1</td>\n",
       "    </tr>\n",
       "    <tr>\n",
       "      <th>7369</th>\n",
       "      <td>128131</td>\n",
       "      <td>2021-09-15</td>\n",
       "      <td>Ada Melva Gonzalez Vargas</td>\n",
       "      <td>55.0</td>\n",
       "      <td>1967-04-17</td>\n",
       "      <td>0.0</td>\n",
       "      <td>2.0</td>\n",
       "      <td>9999-12-31 00:00:00.000</td>\n",
       "      <td>17000.0</td>\n",
       "      <td>19600.0</td>\n",
       "      <td>...</td>\n",
       "      <td>NaN</td>\n",
       "      <td>Asistencia Exequial Mascota 2020</td>\n",
       "      <td>Independiente</td>\n",
       "      <td>Independiente</td>\n",
       "      <td>Mascota</td>\n",
       "      <td>0.741749</td>\n",
       "      <td>0.186246</td>\n",
       "      <td>0.072005</td>\n",
       "      <td>Activo</td>\n",
       "      <td>1</td>\n",
       "    </tr>\n",
       "    <tr>\n",
       "      <th>5473</th>\n",
       "      <td>70895</td>\n",
       "      <td>2019-02-06</td>\n",
       "      <td>Ada Melva Gonzalez Vargas</td>\n",
       "      <td>55.0</td>\n",
       "      <td>1967-04-17</td>\n",
       "      <td>0.0</td>\n",
       "      <td>1.0</td>\n",
       "      <td>2022-02-08 05:00:00.000</td>\n",
       "      <td>7500.0</td>\n",
       "      <td>9800.0</td>\n",
       "      <td>...</td>\n",
       "      <td>NaN</td>\n",
       "      <td>Asistencia Exequial Mascota 2020</td>\n",
       "      <td>Independiente</td>\n",
       "      <td>Independiente</td>\n",
       "      <td>Mascota</td>\n",
       "      <td>0.746060</td>\n",
       "      <td>0.175735</td>\n",
       "      <td>0.078205</td>\n",
       "      <td>Fallecimiento de la mascota</td>\n",
       "      <td>0</td>\n",
       "    </tr>\n",
       "    <tr>\n",
       "      <th>3134</th>\n",
       "      <td>30725</td>\n",
       "      <td>2019-08-24</td>\n",
       "      <td>Adolfo Garcia Garcia</td>\n",
       "      <td>68.0</td>\n",
       "      <td>1955-01-01</td>\n",
       "      <td>8.0</td>\n",
       "      <td>0.0</td>\n",
       "      <td>2021-06-25 05:00:00.000</td>\n",
       "      <td>22600.0</td>\n",
       "      <td>23600.0</td>\n",
       "      <td>...</td>\n",
       "      <td>NaN</td>\n",
       "      <td>Maval Plus Promotora La Aurora</td>\n",
       "      <td>Agricultor</td>\n",
       "      <td>Agricultor - Ama de casa</td>\n",
       "      <td>Hija</td>\n",
       "      <td>0.409690</td>\n",
       "      <td>0.511536</td>\n",
       "      <td>0.078774</td>\n",
       "      <td>Incumplimiento en compromiso de pago</td>\n",
       "      <td>0</td>\n",
       "    </tr>\n",
       "    <tr>\n",
       "      <th>8682</th>\n",
       "      <td>148605</td>\n",
       "      <td>2022-02-26</td>\n",
       "      <td>Adolfo Garcia Garcia</td>\n",
       "      <td>68.0</td>\n",
       "      <td>1955-01-01</td>\n",
       "      <td>8.0</td>\n",
       "      <td>0.0</td>\n",
       "      <td>2022-09-11 06:00:01.330</td>\n",
       "      <td>17000.0</td>\n",
       "      <td>19100.0</td>\n",
       "      <td>...</td>\n",
       "      <td>5.126926</td>\n",
       "      <td>Maval Plus Promotora La Aurora</td>\n",
       "      <td>Agricultor</td>\n",
       "      <td>Agricultor - Ama de casa</td>\n",
       "      <td>Hija</td>\n",
       "      <td>0.505632</td>\n",
       "      <td>0.471268</td>\n",
       "      <td>0.023100</td>\n",
       "      <td>Inactivo rescindido</td>\n",
       "      <td>0</td>\n",
       "    </tr>\n",
       "  </tbody>\n",
       "</table>\n",
       "<p>6 rows × 41 columns</p>\n",
       "</div>"
      ],
      "text/plain": [
       "      CodigoPrograma fechaSolicitud                    tomador  edad  \\\n",
       "8151          154641     2022-06-16       Abilian Bedoya Henao  58.0   \n",
       "8152          154641     2022-06-16       Abilian Bedoya Henao  58.0   \n",
       "7369          128131     2021-09-15  Ada Melva Gonzalez Vargas  55.0   \n",
       "5473           70895     2019-02-06  Ada Melva Gonzalez Vargas  55.0   \n",
       "3134           30725     2019-08-24       Adolfo Garcia Garcia  68.0   \n",
       "8682          148605     2022-02-26       Adolfo Garcia Garcia  68.0   \n",
       "\n",
       "     fechaNacimiento  #_inscritos_activos  #_mascotas_activas  \\\n",
       "8151      1964-11-15                  0.0                 1.0   \n",
       "8152      1964-11-15                  0.0                 1.0   \n",
       "7369      1967-04-17                  0.0                 2.0   \n",
       "5473      1967-04-17                  0.0                 1.0   \n",
       "3134      1955-01-01                  8.0                 0.0   \n",
       "8682      1955-01-01                  8.0                 0.0   \n",
       "\n",
       "              FechaRescindido  valorCuota_1  valorUltimaCuota  ...   Latitud  \\\n",
       "8151  9999-12-31 00:00:00.000        8500.0            9800.0  ...       NaN   \n",
       "8152  9999-12-31 00:00:00.000        8500.0            9800.0  ...       NaN   \n",
       "7369  9999-12-31 00:00:00.000       17000.0           19600.0  ...       NaN   \n",
       "5473  2022-02-08 05:00:00.000        7500.0            9800.0  ...       NaN   \n",
       "3134  2021-06-25 05:00:00.000       22600.0           23600.0  ...       NaN   \n",
       "8682  2022-09-11 06:00:01.330       17000.0           19100.0  ...  5.126926   \n",
       "\n",
       "                              nom_plan  profesion_tomador  \\\n",
       "8151                  Aurora Plus 2020        Ama de casa   \n",
       "8152  Asistencia Exequial Mascota 2020        Ama de casa   \n",
       "7369  Asistencia Exequial Mascota 2020      Independiente   \n",
       "5473  Asistencia Exequial Mascota 2020      Independiente   \n",
       "3134    Maval Plus Promotora La Aurora         Agricultor   \n",
       "8682    Maval Plus Promotora La Aurora         Agricultor   \n",
       "\n",
       "           moda_prof_inscritos moda_parentesco Neutral Score Negative Score  \\\n",
       "8151               Ama de casa         TITULAR      0.867696       0.048420   \n",
       "8152               Ama de casa         TITULAR      0.867696       0.048420   \n",
       "7369             Independiente         Mascota      0.741749       0.186246   \n",
       "5473             Independiente         Mascota      0.746060       0.175735   \n",
       "3134  Agricultor - Ama de casa            Hija      0.409690       0.511536   \n",
       "8682  Agricultor - Ama de casa            Hija      0.505632       0.471268   \n",
       "\n",
       "     Positive Score                                 motivo estado  \n",
       "8151       0.083884               Activo para verificación      1  \n",
       "8152       0.083884               Activo para verificación      1  \n",
       "7369       0.072005                                 Activo      1  \n",
       "5473       0.078205            Fallecimiento de la mascota      0  \n",
       "3134       0.078774   Incumplimiento en compromiso de pago      0  \n",
       "8682       0.023100                    Inactivo rescindido      0  \n",
       "\n",
       "[6 rows x 41 columns]"
      ]
     },
     "execution_count": 62,
     "metadata": {},
     "output_type": "execute_result"
    }
   ],
   "source": [
    "data[data[\"tomador\"].duplicated(keep=False)].sort_values(\"tomador\").head(6)\n"
   ]
  },
  {
   "attachments": {},
   "cell_type": "markdown",
   "metadata": {},
   "source": [
    "Existe la posibilidad que un mismo tomador este en varios programas,sin embargo, no es valido que se repita el codigo del programa, como en el caso anterior eliminaremos codigos de programa repetidos, segundo existen usuarios que se les han cambiado los programas por alguna razón, en el caso anterior se presentan 2 uno por fallecimiento de la mascota y 2 por incumplimiento, se conservan estos registros podrían aportar información."
   ]
  },
  {
   "cell_type": "code",
   "execution_count": 63,
   "metadata": {},
   "outputs": [],
   "source": [
    "data.drop(data[data[\"CodigoPrograma\"].duplicated(keep=\"first\")].index, inplace=True)\n"
   ]
  },
  {
   "cell_type": "code",
   "execution_count": 64,
   "metadata": {},
   "outputs": [
    {
     "data": {
      "text/plain": [
       "<AxesSubplot:ylabel='Frequency'>"
      ]
     },
     "execution_count": 64,
     "metadata": {},
     "output_type": "execute_result"
    },
    {
     "data": {
      "image/png": "[encoded data removed]",
      "text/plain": [
       "<Figure size 432x288 with 1 Axes>"
      ]
     },
     "metadata": {
      "needs_background": "light"
     },
     "output_type": "display_data"
    }
   ],
   "source": [
    "data[\"edad\"].plot.hist(bins=20)"
   ]
  },
  {
   "cell_type": "code",
   "execution_count": 65,
   "metadata": {},
   "outputs": [
    {
     "data": {
      "text/html": [
       "<div>\n",
       "<style scoped>\n",
       "    .dataframe tbody tr th:only-of-type {\n",
       "        vertical-align: middle;\n",
       "    }\n",
       "\n",
       "    .dataframe tbody tr th {\n",
       "        vertical-align: top;\n",
       "    }\n",
       "\n",
       "    .dataframe thead th {\n",
       "        text-align: right;\n",
       "    }\n",
       "</style>\n",
       "<table border=\"1\" class=\"dataframe\">\n",
       "  <thead>\n",
       "    <tr style=\"text-align: right;\">\n",
       "      <th></th>\n",
       "      <th>edad</th>\n",
       "      <th>CodigoPrograma</th>\n",
       "    </tr>\n",
       "  </thead>\n",
       "  <tbody>\n",
       "    <tr>\n",
       "      <th>79</th>\n",
       "      <td>101.0</td>\n",
       "      <td>1</td>\n",
       "    </tr>\n",
       "    <tr>\n",
       "      <th>77</th>\n",
       "      <td>96.0</td>\n",
       "      <td>1</td>\n",
       "    </tr>\n",
       "    <tr>\n",
       "      <th>76</th>\n",
       "      <td>94.0</td>\n",
       "      <td>1</td>\n",
       "    </tr>\n",
       "    <tr>\n",
       "      <th>75</th>\n",
       "      <td>93.0</td>\n",
       "      <td>1</td>\n",
       "    </tr>\n",
       "    <tr>\n",
       "      <th>74</th>\n",
       "      <td>92.0</td>\n",
       "      <td>1</td>\n",
       "    </tr>\n",
       "    <tr>\n",
       "      <th>...</th>\n",
       "      <td>...</td>\n",
       "      <td>...</td>\n",
       "    </tr>\n",
       "    <tr>\n",
       "      <th>25</th>\n",
       "      <td>43.0</td>\n",
       "      <td>242</td>\n",
       "    </tr>\n",
       "    <tr>\n",
       "      <th>34</th>\n",
       "      <td>52.0</td>\n",
       "      <td>244</td>\n",
       "    </tr>\n",
       "    <tr>\n",
       "      <th>33</th>\n",
       "      <td>51.0</td>\n",
       "      <td>251</td>\n",
       "    </tr>\n",
       "    <tr>\n",
       "      <th>32</th>\n",
       "      <td>50.0</td>\n",
       "      <td>265</td>\n",
       "    </tr>\n",
       "    <tr>\n",
       "      <th>26</th>\n",
       "      <td>44.0</td>\n",
       "      <td>289</td>\n",
       "    </tr>\n",
       "  </tbody>\n",
       "</table>\n",
       "<p>80 rows × 2 columns</p>\n",
       "</div>"
      ],
      "text/plain": [
       "     edad  CodigoPrograma\n",
       "79  101.0               1\n",
       "77   96.0               1\n",
       "76   94.0               1\n",
       "75   93.0               1\n",
       "74   92.0               1\n",
       "..    ...             ...\n",
       "25   43.0             242\n",
       "34   52.0             244\n",
       "33   51.0             251\n",
       "32   50.0             265\n",
       "26   44.0             289\n",
       "\n",
       "[80 rows x 2 columns]"
      ]
     },
     "execution_count": 65,
     "metadata": {},
     "output_type": "execute_result"
    }
   ],
   "source": [
    "data[[\"CodigoPrograma\", \"edad\"]].groupby(\"edad\")\\\n",
    "    .count().reset_index().sort_values(\"CodigoPrograma\")"
   ]
  },
  {
   "attachments": {},
   "cell_type": "markdown",
   "metadata": {},
   "source": [
    "Los tomadores se mantiene entre los 40 y 60 años, la edad tiene un comportamiento normal, donde la moda es 44 años. Se cuenta con personas de hasta los 100 años en mucha menor medida. El tomador con mayor edad tiene 101 años. Revisemos a partir de 80 cuantos programas estan activos"
   ]
  },
  {
   "cell_type": "code",
   "execution_count": 66,
   "metadata": {},
   "outputs": [
    {
     "data": {
      "text/plain": [
       "14"
      ]
     },
     "execution_count": 66,
     "metadata": {},
     "output_type": "execute_result"
    }
   ],
   "source": [
    "data[(data[\"edad\"] > 80) & (data[\"estado\"]==1)].count()[1]"
   ]
  },
  {
   "attachments": {},
   "cell_type": "markdown",
   "metadata": {},
   "source": [
    "Estos datos atipicos se deben conservar ya que incluso existen 14 programas que se encuentran activos despues de los 80 años. Podemos eliminar la columna Fecha de Nacimiento la cual es redundante con la edad"
   ]
  },
  {
   "cell_type": "code",
   "execution_count": 67,
   "metadata": {},
   "outputs": [],
   "source": [
    "data.drop(\"fechaNacimiento\", axis=1, inplace=True)"
   ]
  },
  {
   "cell_type": "code",
   "execution_count": 68,
   "metadata": {},
   "outputs": [
    {
     "data": {
      "text/plain": [
       "<AxesSubplot:ylabel='Frequency'>"
      ]
     },
     "execution_count": 68,
     "metadata": {},
     "output_type": "execute_result"
    },
    {
     "data": {
      "image/png": "[encoded data removed]",
      "text/plain": [
       "<Figure size 432x288 with 1 Axes>"
      ]
     },
     "metadata": {
      "needs_background": "light"
     },
     "output_type": "display_data"
    }
   ],
   "source": [
    "data[\"#_inscritos_activos\"].plot.hist(bins=20)\n"
   ]
  },
  {
   "cell_type": "code",
   "execution_count": 69,
   "metadata": {},
   "outputs": [
    {
     "data": {
      "text/plain": [
       "<AxesSubplot:>"
      ]
     },
     "execution_count": 69,
     "metadata": {},
     "output_type": "execute_result"
    },
    {
     "data": {
      "image/png": "[encoded data removed]",
      "text/plain": [
       "<Figure size 432x288 with 1 Axes>"
      ]
     },
     "metadata": {
      "needs_background": "light"
     },
     "output_type": "display_data"
    }
   ],
   "source": [
    "temp =data[(data[\"#_inscritos_activos\"] == 0) & (data[\"#_mascotas_activas\"] == 0)]\n",
    "sns.heatmap(temp.isnull(), cbar=False)\n"
   ]
  },
  {
   "attachments": {},
   "cell_type": "markdown",
   "metadata": {},
   "source": [
    "Existen 300 programa con 0 inscritos y 0 mascotas. Esto no tiene mucho sentido, dado que se debe tener algun inscrito, se procede a eliminar los registros. Estos mismos tienen mucho registro nulo"
   ]
  },
  {
   "cell_type": "code",
   "execution_count": 70,
   "metadata": {},
   "outputs": [],
   "source": [
    "data.drop(temp.index, inplace=True)"
   ]
  },
  {
   "cell_type": "code",
   "execution_count": 71,
   "metadata": {},
   "outputs": [
    {
     "data": {
      "text/plain": [
       "<AxesSubplot:ylabel='Frequency'>"
      ]
     },
     "execution_count": 71,
     "metadata": {},
     "output_type": "execute_result"
    },
    {
     "data": {
      "image/png": "[encoded data removed]",
      "text/plain": [
       "<Figure size 432x288 with 1 Axes>"
      ]
     },
     "metadata": {
      "needs_background": "light"
     },
     "output_type": "display_data"
    }
   ],
   "source": [
    "data[\"#_inscritos_activos\"].plot.hist(bins=20)\n"
   ]
  },
  {
   "attachments": {},
   "cell_type": "markdown",
   "metadata": {},
   "source": [
    "También observamos datos atipicos a partir de 9 inscritos"
   ]
  },
  {
   "cell_type": "code",
   "execution_count": 72,
   "metadata": {},
   "outputs": [
    {
     "data": {
      "text/html": [
       "<div>\n",
       "<style scoped>\n",
       "    .dataframe tbody tr th:only-of-type {\n",
       "        vertical-align: middle;\n",
       "    }\n",
       "\n",
       "    .dataframe tbody tr th {\n",
       "        vertical-align: top;\n",
       "    }\n",
       "\n",
       "    .dataframe thead th {\n",
       "        text-align: right;\n",
       "    }\n",
       "</style>\n",
       "<table border=\"1\" class=\"dataframe\">\n",
       "  <thead>\n",
       "    <tr style=\"text-align: right;\">\n",
       "      <th></th>\n",
       "      <th>#_inscritos_activos</th>\n",
       "      <th>CodigoPrograma</th>\n",
       "    </tr>\n",
       "  </thead>\n",
       "  <tbody>\n",
       "    <tr>\n",
       "      <th>13</th>\n",
       "      <td>13.0</td>\n",
       "      <td>1</td>\n",
       "    </tr>\n",
       "    <tr>\n",
       "      <th>14</th>\n",
       "      <td>14.0</td>\n",
       "      <td>2</td>\n",
       "    </tr>\n",
       "    <tr>\n",
       "      <th>11</th>\n",
       "      <td>11.0</td>\n",
       "      <td>10</td>\n",
       "    </tr>\n",
       "    <tr>\n",
       "      <th>12</th>\n",
       "      <td>12.0</td>\n",
       "      <td>10</td>\n",
       "    </tr>\n",
       "    <tr>\n",
       "      <th>10</th>\n",
       "      <td>10.0</td>\n",
       "      <td>28</td>\n",
       "    </tr>\n",
       "    <tr>\n",
       "      <th>9</th>\n",
       "      <td>9.0</td>\n",
       "      <td>84</td>\n",
       "    </tr>\n",
       "  </tbody>\n",
       "</table>\n",
       "</div>"
      ],
      "text/plain": [
       "    #_inscritos_activos  CodigoPrograma\n",
       "13                 13.0               1\n",
       "14                 14.0               2\n",
       "11                 11.0              10\n",
       "12                 12.0              10\n",
       "10                 10.0              28\n",
       "9                   9.0              84"
      ]
     },
     "execution_count": 72,
     "metadata": {},
     "output_type": "execute_result"
    }
   ],
   "source": [
    "data[[\"CodigoPrograma\", \"#_inscritos_activos\"]].groupby(\"#_inscritos_activos\")\\\n",
    "    .count().reset_index().sort_values(\"CodigoPrograma\").head(6)\n"
   ]
  },
  {
   "cell_type": "code",
   "execution_count": 73,
   "metadata": {},
   "outputs": [
    {
     "data": {
      "text/html": [
       "<div>\n",
       "<style scoped>\n",
       "    .dataframe tbody tr th:only-of-type {\n",
       "        vertical-align: middle;\n",
       "    }\n",
       "\n",
       "    .dataframe tbody tr th {\n",
       "        vertical-align: top;\n",
       "    }\n",
       "\n",
       "    .dataframe thead th {\n",
       "        text-align: right;\n",
       "    }\n",
       "</style>\n",
       "<table border=\"1\" class=\"dataframe\">\n",
       "  <thead>\n",
       "    <tr style=\"text-align: right;\">\n",
       "      <th></th>\n",
       "      <th>CodigoPrograma</th>\n",
       "      <th>fechaSolicitud</th>\n",
       "      <th>tomador</th>\n",
       "      <th>edad</th>\n",
       "      <th>#_inscritos_activos</th>\n",
       "      <th>#_mascotas_activas</th>\n",
       "      <th>FechaRescindido</th>\n",
       "      <th>valorCuota_1</th>\n",
       "      <th>valorUltimaCuota</th>\n",
       "      <th>fechaIdealPago_CuotaCancelada</th>\n",
       "      <th>...</th>\n",
       "      <th>Latitud</th>\n",
       "      <th>nom_plan</th>\n",
       "      <th>profesion_tomador</th>\n",
       "      <th>moda_prof_inscritos</th>\n",
       "      <th>moda_parentesco</th>\n",
       "      <th>Neutral Score</th>\n",
       "      <th>Negative Score</th>\n",
       "      <th>Positive Score</th>\n",
       "      <th>motivo</th>\n",
       "      <th>estado</th>\n",
       "    </tr>\n",
       "  </thead>\n",
       "  <tbody>\n",
       "    <tr>\n",
       "      <th>2</th>\n",
       "      <td>84</td>\n",
       "      <td>2018-11-16</td>\n",
       "      <td>Indris Isabel Morales Herrera</td>\n",
       "      <td>30.0</td>\n",
       "      <td>12.0</td>\n",
       "      <td>0.0</td>\n",
       "      <td>2020-12-18 06:00:00.790</td>\n",
       "      <td>30100.0</td>\n",
       "      <td>31100.0</td>\n",
       "      <td>2020-08-16</td>\n",
       "      <td>...</td>\n",
       "      <td>5.475582</td>\n",
       "      <td>NaN</td>\n",
       "      <td>NaN</td>\n",
       "      <td>NaN</td>\n",
       "      <td>NaN</td>\n",
       "      <td>0.671160</td>\n",
       "      <td>0.193641</td>\n",
       "      <td>0.135199</td>\n",
       "      <td>Incumplimiento en compromiso de pago</td>\n",
       "      <td>0</td>\n",
       "    </tr>\n",
       "    <tr>\n",
       "      <th>90</th>\n",
       "      <td>1505</td>\n",
       "      <td>2019-10-08</td>\n",
       "      <td>Jhon Jaime Castro Marin</td>\n",
       "      <td>57.0</td>\n",
       "      <td>10.0</td>\n",
       "      <td>0.0</td>\n",
       "      <td>9999-12-31 00:00:00.000</td>\n",
       "      <td>33300.0</td>\n",
       "      <td>33300.0</td>\n",
       "      <td>2023-11-09</td>\n",
       "      <td>...</td>\n",
       "      <td>NaN</td>\n",
       "      <td>Aurora Plus 2020</td>\n",
       "      <td>Empleado (a)</td>\n",
       "      <td>Estudiante</td>\n",
       "      <td>Hijo</td>\n",
       "      <td>0.742915</td>\n",
       "      <td>0.172037</td>\n",
       "      <td>0.085048</td>\n",
       "      <td>Activo</td>\n",
       "      <td>1</td>\n",
       "    </tr>\n",
       "    <tr>\n",
       "      <th>277</th>\n",
       "      <td>2598</td>\n",
       "      <td>2015-01-08</td>\n",
       "      <td>Laura Arango Zuluaga</td>\n",
       "      <td>51.0</td>\n",
       "      <td>9.0</td>\n",
       "      <td>0.0</td>\n",
       "      <td>2020-08-31 05:00:00.000</td>\n",
       "      <td>17000.0</td>\n",
       "      <td>17000.0</td>\n",
       "      <td>2020-04-01</td>\n",
       "      <td>...</td>\n",
       "      <td>5.073114</td>\n",
       "      <td>NaN</td>\n",
       "      <td>NaN</td>\n",
       "      <td>NaN</td>\n",
       "      <td>NaN</td>\n",
       "      <td>0.613547</td>\n",
       "      <td>0.357184</td>\n",
       "      <td>0.029270</td>\n",
       "      <td>Incumplimiento en compromiso de pago</td>\n",
       "      <td>0</td>\n",
       "    </tr>\n",
       "    <tr>\n",
       "      <th>298</th>\n",
       "      <td>2847</td>\n",
       "      <td>2019-01-31</td>\n",
       "      <td>William Viveros Andrade</td>\n",
       "      <td>56.0</td>\n",
       "      <td>9.0</td>\n",
       "      <td>0.0</td>\n",
       "      <td>9999-12-31 00:00:00.000</td>\n",
       "      <td>31500.0</td>\n",
       "      <td>34700.0</td>\n",
       "      <td>2023-04-01</td>\n",
       "      <td>...</td>\n",
       "      <td>40.685376</td>\n",
       "      <td>Aurora Plus Mas 2020</td>\n",
       "      <td>Ingeniero (a)</td>\n",
       "      <td>Empleado (a)</td>\n",
       "      <td>Hijo</td>\n",
       "      <td>0.381685</td>\n",
       "      <td>0.560704</td>\n",
       "      <td>0.057611</td>\n",
       "      <td>Activo</td>\n",
       "      <td>1</td>\n",
       "    </tr>\n",
       "    <tr>\n",
       "      <th>320</th>\n",
       "      <td>3084</td>\n",
       "      <td>2019-11-30</td>\n",
       "      <td>Fabian Perez Soto</td>\n",
       "      <td>39.0</td>\n",
       "      <td>9.0</td>\n",
       "      <td>0.0</td>\n",
       "      <td>2019-11-19 13:12:00.000</td>\n",
       "      <td>19100.0</td>\n",
       "      <td>20100.0</td>\n",
       "      <td>2019-12-30</td>\n",
       "      <td>...</td>\n",
       "      <td>6.113371</td>\n",
       "      <td>NaN</td>\n",
       "      <td>NaN</td>\n",
       "      <td>NaN</td>\n",
       "      <td>NaN</td>\n",
       "      <td>0.757675</td>\n",
       "      <td>0.223180</td>\n",
       "      <td>0.019145</td>\n",
       "      <td>Dificultad para ubicarlo</td>\n",
       "      <td>0</td>\n",
       "    </tr>\n",
       "  </tbody>\n",
       "</table>\n",
       "<p>5 rows × 40 columns</p>\n",
       "</div>"
      ],
      "text/plain": [
       "     CodigoPrograma fechaSolicitud                        tomador  edad  \\\n",
       "2                84     2018-11-16  Indris Isabel Morales Herrera  30.0   \n",
       "90             1505     2019-10-08        Jhon Jaime Castro Marin  57.0   \n",
       "277            2598     2015-01-08           Laura Arango Zuluaga  51.0   \n",
       "298            2847     2019-01-31        William Viveros Andrade  56.0   \n",
       "320            3084     2019-11-30              Fabian Perez Soto  39.0   \n",
       "\n",
       "     #_inscritos_activos  #_mascotas_activas          FechaRescindido  \\\n",
       "2                   12.0                 0.0  2020-12-18 06:00:00.790   \n",
       "90                  10.0                 0.0  9999-12-31 00:00:00.000   \n",
       "277                  9.0                 0.0  2020-08-31 05:00:00.000   \n",
       "298                  9.0                 0.0  9999-12-31 00:00:00.000   \n",
       "320                  9.0                 0.0  2019-11-19 13:12:00.000   \n",
       "\n",
       "     valorCuota_1  valorUltimaCuota fechaIdealPago_CuotaCancelada  ...  \\\n",
       "2         30100.0           31100.0                    2020-08-16  ...   \n",
       "90        33300.0           33300.0                    2023-11-09  ...   \n",
       "277       17000.0           17000.0                    2020-04-01  ...   \n",
       "298       31500.0           34700.0                    2023-04-01  ...   \n",
       "320       19100.0           20100.0                    2019-12-30  ...   \n",
       "\n",
       "       Latitud              nom_plan profesion_tomador moda_prof_inscritos  \\\n",
       "2     5.475582                   NaN               NaN                 NaN   \n",
       "90         NaN      Aurora Plus 2020      Empleado (a)          Estudiante   \n",
       "277   5.073114                   NaN               NaN                 NaN   \n",
       "298  40.685376  Aurora Plus Mas 2020     Ingeniero (a)        Empleado (a)   \n",
       "320   6.113371                   NaN               NaN                 NaN   \n",
       "\n",
       "    moda_parentesco Neutral Score Negative Score Positive Score  \\\n",
       "2               NaN      0.671160       0.193641       0.135199   \n",
       "90             Hijo      0.742915       0.172037       0.085048   \n",
       "277             NaN      0.613547       0.357184       0.029270   \n",
       "298            Hijo      0.381685       0.560704       0.057611   \n",
       "320             NaN      0.757675       0.223180       0.019145   \n",
       "\n",
       "                                    motivo estado  \n",
       "2     Incumplimiento en compromiso de pago      0  \n",
       "90                                  Activo      1  \n",
       "277   Incumplimiento en compromiso de pago      0  \n",
       "298                                 Activo      1  \n",
       "320               Dificultad para ubicarlo      0  \n",
       "\n",
       "[5 rows x 40 columns]"
      ]
     },
     "execution_count": 73,
     "metadata": {},
     "output_type": "execute_result"
    }
   ],
   "source": [
    "data[data[\"#_inscritos_activos\"] > 8].head()"
   ]
  },
  {
   "attachments": {},
   "cell_type": "markdown",
   "metadata": {},
   "source": [
    "Se consulta con la entidad y afirman que son acuerdos normales y si existen"
   ]
  },
  {
   "cell_type": "code",
   "execution_count": 74,
   "metadata": {},
   "outputs": [
    {
     "data": {
      "text/plain": [
       "<AxesSubplot:ylabel='Frequency'>"
      ]
     },
     "execution_count": 74,
     "metadata": {},
     "output_type": "execute_result"
    },
    {
     "data": {
      "image/png": "[encoded data removed]",
      "text/plain": [
       "<Figure size 432x288 with 1 Axes>"
      ]
     },
     "metadata": {
      "needs_background": "light"
     },
     "output_type": "display_data"
    }
   ],
   "source": [
    "data[\"#_mascotas_activas\"].plot.hist(bins=20)\n"
   ]
  },
  {
   "cell_type": "code",
   "execution_count": 75,
   "metadata": {},
   "outputs": [
    {
     "data": {
      "text/html": [
       "<div>\n",
       "<style scoped>\n",
       "    .dataframe tbody tr th:only-of-type {\n",
       "        vertical-align: middle;\n",
       "    }\n",
       "\n",
       "    .dataframe tbody tr th {\n",
       "        vertical-align: top;\n",
       "    }\n",
       "\n",
       "    .dataframe thead th {\n",
       "        text-align: right;\n",
       "    }\n",
       "</style>\n",
       "<table border=\"1\" class=\"dataframe\">\n",
       "  <thead>\n",
       "    <tr style=\"text-align: right;\">\n",
       "      <th></th>\n",
       "      <th>#_mascotas_activas</th>\n",
       "      <th>CodigoPrograma</th>\n",
       "    </tr>\n",
       "  </thead>\n",
       "  <tbody>\n",
       "    <tr>\n",
       "      <th>6</th>\n",
       "      <td>6.0</td>\n",
       "      <td>2</td>\n",
       "    </tr>\n",
       "    <tr>\n",
       "      <th>5</th>\n",
       "      <td>5.0</td>\n",
       "      <td>9</td>\n",
       "    </tr>\n",
       "    <tr>\n",
       "      <th>4</th>\n",
       "      <td>4.0</td>\n",
       "      <td>15</td>\n",
       "    </tr>\n",
       "    <tr>\n",
       "      <th>3</th>\n",
       "      <td>3.0</td>\n",
       "      <td>59</td>\n",
       "    </tr>\n",
       "    <tr>\n",
       "      <th>2</th>\n",
       "      <td>2.0</td>\n",
       "      <td>230</td>\n",
       "    </tr>\n",
       "    <tr>\n",
       "      <th>1</th>\n",
       "      <td>1.0</td>\n",
       "      <td>1246</td>\n",
       "    </tr>\n",
       "    <tr>\n",
       "      <th>0</th>\n",
       "      <td>0.0</td>\n",
       "      <td>7142</td>\n",
       "    </tr>\n",
       "  </tbody>\n",
       "</table>\n",
       "</div>"
      ],
      "text/plain": [
       "   #_mascotas_activas  CodigoPrograma\n",
       "6                 6.0               2\n",
       "5                 5.0               9\n",
       "4                 4.0              15\n",
       "3                 3.0              59\n",
       "2                 2.0             230\n",
       "1                 1.0            1246\n",
       "0                 0.0            7142"
      ]
     },
     "execution_count": 75,
     "metadata": {},
     "output_type": "execute_result"
    }
   ],
   "source": [
    "data[[\"CodigoPrograma\", \"#_mascotas_activas\"]].groupby(\"#_mascotas_activas\")\\\n",
    "    .count().reset_index().sort_values(\"CodigoPrograma\")\n"
   ]
  },
  {
   "cell_type": "code",
   "execution_count": 76,
   "metadata": {},
   "outputs": [
    {
     "data": {
      "text/html": [
       "<div>\n",
       "<style scoped>\n",
       "    .dataframe tbody tr th:only-of-type {\n",
       "        vertical-align: middle;\n",
       "    }\n",
       "\n",
       "    .dataframe tbody tr th {\n",
       "        vertical-align: top;\n",
       "    }\n",
       "\n",
       "    .dataframe thead th {\n",
       "        text-align: right;\n",
       "    }\n",
       "</style>\n",
       "<table border=\"1\" class=\"dataframe\">\n",
       "  <thead>\n",
       "    <tr style=\"text-align: right;\">\n",
       "      <th></th>\n",
       "      <th>CodigoPrograma</th>\n",
       "      <th>fechaSolicitud</th>\n",
       "      <th>tomador</th>\n",
       "      <th>edad</th>\n",
       "      <th>#_inscritos_activos</th>\n",
       "      <th>#_mascotas_activas</th>\n",
       "      <th>FechaRescindido</th>\n",
       "      <th>valorCuota_1</th>\n",
       "      <th>valorUltimaCuota</th>\n",
       "      <th>fechaIdealPago_CuotaCancelada</th>\n",
       "      <th>...</th>\n",
       "      <th>Latitud</th>\n",
       "      <th>nom_plan</th>\n",
       "      <th>profesion_tomador</th>\n",
       "      <th>moda_prof_inscritos</th>\n",
       "      <th>moda_parentesco</th>\n",
       "      <th>Neutral Score</th>\n",
       "      <th>Negative Score</th>\n",
       "      <th>Positive Score</th>\n",
       "      <th>motivo</th>\n",
       "      <th>estado</th>\n",
       "    </tr>\n",
       "  </thead>\n",
       "  <tbody>\n",
       "    <tr>\n",
       "      <th>55</th>\n",
       "      <td>1011</td>\n",
       "      <td>2019-09-07</td>\n",
       "      <td>Maryori Gomez Cruz</td>\n",
       "      <td>57.0</td>\n",
       "      <td>0.0</td>\n",
       "      <td>3.0</td>\n",
       "      <td>2020-07-22 05:00:00.000</td>\n",
       "      <td>16500.0</td>\n",
       "      <td>19500.0</td>\n",
       "      <td>2020-03-07</td>\n",
       "      <td>...</td>\n",
       "      <td>NaN</td>\n",
       "      <td>Diamante Coopsocial</td>\n",
       "      <td>Ama de casa</td>\n",
       "      <td>No Identificada</td>\n",
       "      <td>Hermana - Hermano</td>\n",
       "      <td>0.521643</td>\n",
       "      <td>0.465157</td>\n",
       "      <td>0.013200</td>\n",
       "      <td>Incumplimiento en compromiso de pago</td>\n",
       "      <td>0</td>\n",
       "    </tr>\n",
       "    <tr>\n",
       "      <th>451</th>\n",
       "      <td>3834</td>\n",
       "      <td>2019-11-29</td>\n",
       "      <td>Mary Luz Carvajal Hurtado</td>\n",
       "      <td>46.0</td>\n",
       "      <td>0.0</td>\n",
       "      <td>5.0</td>\n",
       "      <td>2021-06-23 05:00:00.000</td>\n",
       "      <td>30000.0</td>\n",
       "      <td>30000.0</td>\n",
       "      <td>2021-03-01</td>\n",
       "      <td>...</td>\n",
       "      <td>5.071508</td>\n",
       "      <td>NaN</td>\n",
       "      <td>NaN</td>\n",
       "      <td>NaN</td>\n",
       "      <td>NaN</td>\n",
       "      <td>0.447249</td>\n",
       "      <td>0.521408</td>\n",
       "      <td>0.031343</td>\n",
       "      <td>Problemas económicos</td>\n",
       "      <td>0</td>\n",
       "    </tr>\n",
       "    <tr>\n",
       "      <th>631</th>\n",
       "      <td>4947</td>\n",
       "      <td>2018-03-22</td>\n",
       "      <td>Olga Lucia Mejia Ramirez</td>\n",
       "      <td>37.0</td>\n",
       "      <td>0.0</td>\n",
       "      <td>3.0</td>\n",
       "      <td>2022-05-02 05:00:00.000</td>\n",
       "      <td>25500.0</td>\n",
       "      <td>29400.0</td>\n",
       "      <td>2022-04-28</td>\n",
       "      <td>...</td>\n",
       "      <td>5.045522</td>\n",
       "      <td>NaN</td>\n",
       "      <td>NaN</td>\n",
       "      <td>NaN</td>\n",
       "      <td>NaN</td>\n",
       "      <td>0.662631</td>\n",
       "      <td>0.296656</td>\n",
       "      <td>0.040713</td>\n",
       "      <td>Influencia de seres cercanos</td>\n",
       "      <td>0</td>\n",
       "    </tr>\n",
       "    <tr>\n",
       "      <th>698</th>\n",
       "      <td>4938</td>\n",
       "      <td>2019-12-18</td>\n",
       "      <td>Leidy Johana Contreras Naranjo</td>\n",
       "      <td>31.0</td>\n",
       "      <td>0.0</td>\n",
       "      <td>4.0</td>\n",
       "      <td>9999-12-31 00:00:00.000</td>\n",
       "      <td>31000.0</td>\n",
       "      <td>36200.0</td>\n",
       "      <td>2022-12-31</td>\n",
       "      <td>...</td>\n",
       "      <td>5.061414</td>\n",
       "      <td>Asistencia Exequial Mascota 2020</td>\n",
       "      <td>Docente</td>\n",
       "      <td>NaN</td>\n",
       "      <td>Mascota</td>\n",
       "      <td>0.719000</td>\n",
       "      <td>0.169746</td>\n",
       "      <td>0.111254</td>\n",
       "      <td>Activo</td>\n",
       "      <td>1</td>\n",
       "    </tr>\n",
       "    <tr>\n",
       "      <th>1152</th>\n",
       "      <td>10411</td>\n",
       "      <td>2001-03-25</td>\n",
       "      <td>Olga Beatriz Montes Sanchez</td>\n",
       "      <td>49.0</td>\n",
       "      <td>4.0</td>\n",
       "      <td>3.0</td>\n",
       "      <td>2022-08-31 06:00:01.970</td>\n",
       "      <td>46200.0</td>\n",
       "      <td>53200.0</td>\n",
       "      <td>2022-04-07</td>\n",
       "      <td>...</td>\n",
       "      <td>NaN</td>\n",
       "      <td>Maval Plus Promotora La Aurora</td>\n",
       "      <td>Empleado (a)</td>\n",
       "      <td>Empleado (a)</td>\n",
       "      <td>Mascota</td>\n",
       "      <td>0.410486</td>\n",
       "      <td>0.425652</td>\n",
       "      <td>0.163862</td>\n",
       "      <td>Inactivo rescindido</td>\n",
       "      <td>0</td>\n",
       "    </tr>\n",
       "  </tbody>\n",
       "</table>\n",
       "<p>5 rows × 40 columns</p>\n",
       "</div>"
      ],
      "text/plain": [
       "      CodigoPrograma fechaSolicitud                         tomador  edad  \\\n",
       "55              1011     2019-09-07              Maryori Gomez Cruz  57.0   \n",
       "451             3834     2019-11-29       Mary Luz Carvajal Hurtado  46.0   \n",
       "631             4947     2018-03-22        Olga Lucia Mejia Ramirez  37.0   \n",
       "698             4938     2019-12-18  Leidy Johana Contreras Naranjo  31.0   \n",
       "1152           10411     2001-03-25     Olga Beatriz Montes Sanchez  49.0   \n",
       "\n",
       "      #_inscritos_activos  #_mascotas_activas          FechaRescindido  \\\n",
       "55                    0.0                 3.0  2020-07-22 05:00:00.000   \n",
       "451                   0.0                 5.0  2021-06-23 05:00:00.000   \n",
       "631                   0.0                 3.0  2022-05-02 05:00:00.000   \n",
       "698                   0.0                 4.0  9999-12-31 00:00:00.000   \n",
       "1152                  4.0                 3.0  2022-08-31 06:00:01.970   \n",
       "\n",
       "      valorCuota_1  valorUltimaCuota fechaIdealPago_CuotaCancelada  ...  \\\n",
       "55         16500.0           19500.0                    2020-03-07  ...   \n",
       "451        30000.0           30000.0                    2021-03-01  ...   \n",
       "631        25500.0           29400.0                    2022-04-28  ...   \n",
       "698        31000.0           36200.0                    2022-12-31  ...   \n",
       "1152       46200.0           53200.0                    2022-04-07  ...   \n",
       "\n",
       "       Latitud                          nom_plan profesion_tomador  \\\n",
       "55         NaN               Diamante Coopsocial       Ama de casa   \n",
       "451   5.071508                               NaN               NaN   \n",
       "631   5.045522                               NaN               NaN   \n",
       "698   5.061414  Asistencia Exequial Mascota 2020           Docente   \n",
       "1152       NaN    Maval Plus Promotora La Aurora      Empleado (a)   \n",
       "\n",
       "     moda_prof_inscritos    moda_parentesco Neutral Score Negative Score  \\\n",
       "55       No Identificada  Hermana - Hermano      0.521643       0.465157   \n",
       "451                  NaN                NaN      0.447249       0.521408   \n",
       "631                  NaN                NaN      0.662631       0.296656   \n",
       "698                  NaN            Mascota      0.719000       0.169746   \n",
       "1152        Empleado (a)            Mascota      0.410486       0.425652   \n",
       "\n",
       "     Positive Score                                 motivo estado  \n",
       "55         0.013200   Incumplimiento en compromiso de pago      0  \n",
       "451        0.031343                   Problemas económicos      0  \n",
       "631        0.040713           Influencia de seres cercanos      0  \n",
       "698        0.111254                                 Activo      1  \n",
       "1152       0.163862                    Inactivo rescindido      0  \n",
       "\n",
       "[5 rows x 40 columns]"
      ]
     },
     "execution_count": 76,
     "metadata": {},
     "output_type": "execute_result"
    }
   ],
   "source": [
    "data[data[\"#_mascotas_activas\"] > 2].head()"
   ]
  },
  {
   "attachments": {},
   "cell_type": "markdown",
   "metadata": {},
   "source": [
    "Todo parece estar normal para el caso de mascotas"
   ]
  },
  {
   "cell_type": "code",
   "execution_count": 77,
   "metadata": {},
   "outputs": [
    {
     "data": {
      "text/html": [
       "<div>\n",
       "<style scoped>\n",
       "    .dataframe tbody tr th:only-of-type {\n",
       "        vertical-align: middle;\n",
       "    }\n",
       "\n",
       "    .dataframe tbody tr th {\n",
       "        vertical-align: top;\n",
       "    }\n",
       "\n",
       "    .dataframe thead th {\n",
       "        text-align: right;\n",
       "    }\n",
       "</style>\n",
       "<table border=\"1\" class=\"dataframe\">\n",
       "  <thead>\n",
       "    <tr style=\"text-align: right;\">\n",
       "      <th></th>\n",
       "      <th>CodigoPrograma</th>\n",
       "      <th>fechaSolicitud</th>\n",
       "      <th>tomador</th>\n",
       "      <th>edad</th>\n",
       "      <th>#_inscritos_activos</th>\n",
       "      <th>#_mascotas_activas</th>\n",
       "      <th>FechaRescindido</th>\n",
       "      <th>valorCuota_1</th>\n",
       "      <th>valorUltimaCuota</th>\n",
       "      <th>fechaIdealPago_CuotaCancelada</th>\n",
       "      <th>...</th>\n",
       "      <th>Latitud</th>\n",
       "      <th>nom_plan</th>\n",
       "      <th>profesion_tomador</th>\n",
       "      <th>moda_prof_inscritos</th>\n",
       "      <th>moda_parentesco</th>\n",
       "      <th>Neutral Score</th>\n",
       "      <th>Negative Score</th>\n",
       "      <th>Positive Score</th>\n",
       "      <th>motivo</th>\n",
       "      <th>estado</th>\n",
       "    </tr>\n",
       "  </thead>\n",
       "  <tbody>\n",
       "    <tr>\n",
       "      <th>768</th>\n",
       "      <td>7272</td>\n",
       "      <td>2018-04-03</td>\n",
       "      <td>Julieth Camila Olaya Garzon</td>\n",
       "      <td>27.0</td>\n",
       "      <td>5.0</td>\n",
       "      <td>0.0</td>\n",
       "      <td>2022-03-31 05:00:00.000</td>\n",
       "      <td>0.0</td>\n",
       "      <td>0.0</td>\n",
       "      <td>2022-03-15</td>\n",
       "      <td>...</td>\n",
       "      <td>NaN</td>\n",
       "      <td>NaN</td>\n",
       "      <td>NaN</td>\n",
       "      <td>NaN</td>\n",
       "      <td>NaN</td>\n",
       "      <td>0.767634</td>\n",
       "      <td>0.102759</td>\n",
       "      <td>0.129608</td>\n",
       "      <td>No Interesado</td>\n",
       "      <td>0</td>\n",
       "    </tr>\n",
       "    <tr>\n",
       "      <th>3454</th>\n",
       "      <td>36265</td>\n",
       "      <td>2020-07-01</td>\n",
       "      <td>Harrison Rodriguez Muriel</td>\n",
       "      <td>47.0</td>\n",
       "      <td>7.0</td>\n",
       "      <td>0.0</td>\n",
       "      <td>2021-01-26 06:00:01.173</td>\n",
       "      <td>19000.0</td>\n",
       "      <td>0.0</td>\n",
       "      <td>2020-08-18</td>\n",
       "      <td>...</td>\n",
       "      <td>NaN</td>\n",
       "      <td>NaN</td>\n",
       "      <td>NaN</td>\n",
       "      <td>NaN</td>\n",
       "      <td>NaN</td>\n",
       "      <td>0.865504</td>\n",
       "      <td>0.065463</td>\n",
       "      <td>0.069033</td>\n",
       "      <td>Incumplimiento en compromiso de pago</td>\n",
       "      <td>0</td>\n",
       "    </tr>\n",
       "    <tr>\n",
       "      <th>5690</th>\n",
       "      <td>74123</td>\n",
       "      <td>2019-10-19</td>\n",
       "      <td>Mary Yeglin Vasquez Mendoza</td>\n",
       "      <td>38.0</td>\n",
       "      <td>5.0</td>\n",
       "      <td>0.0</td>\n",
       "      <td>2021-05-05 05:00:00.000</td>\n",
       "      <td>15100.0</td>\n",
       "      <td>0.0</td>\n",
       "      <td>2020-12-20</td>\n",
       "      <td>...</td>\n",
       "      <td>5.271602</td>\n",
       "      <td>NaN</td>\n",
       "      <td>NaN</td>\n",
       "      <td>NaN</td>\n",
       "      <td>NaN</td>\n",
       "      <td>0.826991</td>\n",
       "      <td>0.134555</td>\n",
       "      <td>0.038454</td>\n",
       "      <td>Problemas económicos</td>\n",
       "      <td>0</td>\n",
       "    </tr>\n",
       "    <tr>\n",
       "      <th>5886</th>\n",
       "      <td>74144</td>\n",
       "      <td>2020-11-08</td>\n",
       "      <td>Yolian Aguirre Gallego</td>\n",
       "      <td>56.0</td>\n",
       "      <td>2.0</td>\n",
       "      <td>0.0</td>\n",
       "      <td>2022-01-07 05:00:00.000</td>\n",
       "      <td>0.0</td>\n",
       "      <td>0.0</td>\n",
       "      <td>2021-09-10</td>\n",
       "      <td>...</td>\n",
       "      <td>5.271896</td>\n",
       "      <td>NaN</td>\n",
       "      <td>NaN</td>\n",
       "      <td>NaN</td>\n",
       "      <td>NaN</td>\n",
       "      <td>0.673007</td>\n",
       "      <td>0.269452</td>\n",
       "      <td>0.057541</td>\n",
       "      <td>Dificultad para ubicarlo</td>\n",
       "      <td>0</td>\n",
       "    </tr>\n",
       "    <tr>\n",
       "      <th>6592</th>\n",
       "      <td>109119</td>\n",
       "      <td>2021-06-22</td>\n",
       "      <td>Elvis Meneses Lara</td>\n",
       "      <td>45.0</td>\n",
       "      <td>6.0</td>\n",
       "      <td>0.0</td>\n",
       "      <td>9999-12-31 00:00:00.000</td>\n",
       "      <td>20600.0</td>\n",
       "      <td>0.0</td>\n",
       "      <td>2023-01-23</td>\n",
       "      <td>...</td>\n",
       "      <td>NaN</td>\n",
       "      <td>Aurora Plus 2020</td>\n",
       "      <td>Independiente</td>\n",
       "      <td>Estudiante</td>\n",
       "      <td>Hijo</td>\n",
       "      <td>0.778931</td>\n",
       "      <td>0.100822</td>\n",
       "      <td>0.120247</td>\n",
       "      <td>Activo</td>\n",
       "      <td>1</td>\n",
       "    </tr>\n",
       "  </tbody>\n",
       "</table>\n",
       "<p>5 rows × 40 columns</p>\n",
       "</div>"
      ],
      "text/plain": [
       "      CodigoPrograma fechaSolicitud                      tomador  edad  \\\n",
       "768             7272     2018-04-03  Julieth Camila Olaya Garzon  27.0   \n",
       "3454           36265     2020-07-01    Harrison Rodriguez Muriel  47.0   \n",
       "5690           74123     2019-10-19  Mary Yeglin Vasquez Mendoza  38.0   \n",
       "5886           74144     2020-11-08       Yolian Aguirre Gallego  56.0   \n",
       "6592          109119     2021-06-22           Elvis Meneses Lara  45.0   \n",
       "\n",
       "      #_inscritos_activos  #_mascotas_activas          FechaRescindido  \\\n",
       "768                   5.0                 0.0  2022-03-31 05:00:00.000   \n",
       "3454                  7.0                 0.0  2021-01-26 06:00:01.173   \n",
       "5690                  5.0                 0.0  2021-05-05 05:00:00.000   \n",
       "5886                  2.0                 0.0  2022-01-07 05:00:00.000   \n",
       "6592                  6.0                 0.0  9999-12-31 00:00:00.000   \n",
       "\n",
       "      valorCuota_1  valorUltimaCuota fechaIdealPago_CuotaCancelada  ...  \\\n",
       "768            0.0               0.0                    2022-03-15  ...   \n",
       "3454       19000.0               0.0                    2020-08-18  ...   \n",
       "5690       15100.0               0.0                    2020-12-20  ...   \n",
       "5886           0.0               0.0                    2021-09-10  ...   \n",
       "6592       20600.0               0.0                    2023-01-23  ...   \n",
       "\n",
       "       Latitud          nom_plan profesion_tomador moda_prof_inscritos  \\\n",
       "768        NaN               NaN               NaN                 NaN   \n",
       "3454       NaN               NaN               NaN                 NaN   \n",
       "5690  5.271602               NaN               NaN                 NaN   \n",
       "5886  5.271896               NaN               NaN                 NaN   \n",
       "6592       NaN  Aurora Plus 2020     Independiente          Estudiante   \n",
       "\n",
       "     moda_parentesco Neutral Score Negative Score Positive Score  \\\n",
       "768              NaN      0.767634       0.102759       0.129608   \n",
       "3454             NaN      0.865504       0.065463       0.069033   \n",
       "5690             NaN      0.826991       0.134555       0.038454   \n",
       "5886             NaN      0.673007       0.269452       0.057541   \n",
       "6592            Hijo      0.778931       0.100822       0.120247   \n",
       "\n",
       "                                     motivo estado  \n",
       "768                           No Interesado      0  \n",
       "3454   Incumplimiento en compromiso de pago      0  \n",
       "5690                   Problemas económicos      0  \n",
       "5886               Dificultad para ubicarlo      0  \n",
       "6592                                 Activo      1  \n",
       "\n",
       "[5 rows x 40 columns]"
      ]
     },
     "execution_count": 77,
     "metadata": {},
     "output_type": "execute_result"
    }
   ],
   "source": [
    "temp = data[data[\"valorUltimaCuota\"] == 0]\n",
    "temp.head()"
   ]
  },
  {
   "attachments": {},
   "cell_type": "markdown",
   "metadata": {},
   "source": [
    "No pueden haber valores con 0 en la cuota se procede a eliminar"
   ]
  },
  {
   "cell_type": "code",
   "execution_count": 78,
   "metadata": {},
   "outputs": [],
   "source": [
    "data.drop(temp.index, inplace=True)"
   ]
  },
  {
   "cell_type": "code",
   "execution_count": 79,
   "metadata": {},
   "outputs": [
    {
     "data": {
      "text/plain": [
       "<AxesSubplot:ylabel='Frequency'>"
      ]
     },
     "execution_count": 79,
     "metadata": {},
     "output_type": "execute_result"
    },
    {
     "data": {
      "image/png": "[encoded data removed]",
      "text/plain": [
       "<Figure size 432x288 with 1 Axes>"
      ]
     },
     "metadata": {
      "needs_background": "light"
     },
     "output_type": "display_data"
    }
   ],
   "source": [
    "data[\"valorUltimaCuota\"] = data[\"valorUltimaCuota\"].astype(int)\n",
    "data[\"valorUltimaCuota\"].plot.hist(bins=1000)\n"
   ]
  },
  {
   "attachments": {},
   "cell_type": "markdown",
   "metadata": {},
   "source": [
    "La presente grafica trata de mostrar que los valores estan presentes en el comienzo sin embargo, hay valores atipicos que lo llevan a 4.000.000, dado la amplitud, los eliminaremos."
   ]
  },
  {
   "cell_type": "code",
   "execution_count": 80,
   "metadata": {},
   "outputs": [
    {
     "data": {
      "text/plain": [
       "62400.0"
      ]
     },
     "execution_count": 80,
     "metadata": {},
     "output_type": "execute_result"
    }
   ],
   "source": [
    "percentil95 = data[\"valorUltimaCuota\"].quantile(q=0.95)\n",
    "percentil95\n"
   ]
  },
  {
   "cell_type": "code",
   "execution_count": 81,
   "metadata": {},
   "outputs": [
    {
     "data": {
      "text/plain": [
       "<AxesSubplot:ylabel='Frequency'>"
      ]
     },
     "execution_count": 81,
     "metadata": {},
     "output_type": "execute_result"
    },
    {
     "data": {
      "image/png": "[encoded data removed]",
      "text/plain": [
       "<Figure size 432x288 with 1 Axes>"
      ]
     },
     "metadata": {
      "needs_background": "light"
     },
     "output_type": "display_data"
    }
   ],
   "source": [
    "data[data[\"valorUltimaCuota\"] <\n",
    "     percentil95][\"valorUltimaCuota\"].plot.hist(bins=50)\n"
   ]
  },
  {
   "cell_type": "code",
   "execution_count": 82,
   "metadata": {},
   "outputs": [
    {
     "data": {
      "text/html": [
       "<div>\n",
       "<style scoped>\n",
       "    .dataframe tbody tr th:only-of-type {\n",
       "        vertical-align: middle;\n",
       "    }\n",
       "\n",
       "    .dataframe tbody tr th {\n",
       "        vertical-align: top;\n",
       "    }\n",
       "\n",
       "    .dataframe thead th {\n",
       "        text-align: right;\n",
       "    }\n",
       "</style>\n",
       "<table border=\"1\" class=\"dataframe\">\n",
       "  <thead>\n",
       "    <tr style=\"text-align: right;\">\n",
       "      <th></th>\n",
       "      <th>CodigoPrograma</th>\n",
       "      <th>valorUltimaCuota</th>\n",
       "      <th>#_inscritos_activos</th>\n",
       "      <th>#_mascotas_activas</th>\n",
       "    </tr>\n",
       "  </thead>\n",
       "  <tbody>\n",
       "    <tr>\n",
       "      <th>7722</th>\n",
       "      <td>146898</td>\n",
       "      <td>75011</td>\n",
       "      <td>0.0</td>\n",
       "      <td>1.0</td>\n",
       "    </tr>\n",
       "    <tr>\n",
       "      <th>3850</th>\n",
       "      <td>37458</td>\n",
       "      <td>73332</td>\n",
       "      <td>0.0</td>\n",
       "      <td>1.0</td>\n",
       "    </tr>\n",
       "    <tr>\n",
       "      <th>6106</th>\n",
       "      <td>82559</td>\n",
       "      <td>73332</td>\n",
       "      <td>0.0</td>\n",
       "      <td>1.0</td>\n",
       "    </tr>\n",
       "    <tr>\n",
       "      <th>6138</th>\n",
       "      <td>81141</td>\n",
       "      <td>102000</td>\n",
       "      <td>0.0</td>\n",
       "      <td>1.0</td>\n",
       "    </tr>\n",
       "    <tr>\n",
       "      <th>8631</th>\n",
       "      <td>163953</td>\n",
       "      <td>80000</td>\n",
       "      <td>0.0</td>\n",
       "      <td>1.0</td>\n",
       "    </tr>\n",
       "    <tr>\n",
       "      <th>...</th>\n",
       "      <td>...</td>\n",
       "      <td>...</td>\n",
       "      <td>...</td>\n",
       "      <td>...</td>\n",
       "    </tr>\n",
       "    <tr>\n",
       "      <th>4689</th>\n",
       "      <td>53964</td>\n",
       "      <td>78300</td>\n",
       "      <td>9.0</td>\n",
       "      <td>0.0</td>\n",
       "    </tr>\n",
       "    <tr>\n",
       "      <th>7732</th>\n",
       "      <td>136991</td>\n",
       "      <td>187200</td>\n",
       "      <td>10.0</td>\n",
       "      <td>0.0</td>\n",
       "    </tr>\n",
       "    <tr>\n",
       "      <th>5841</th>\n",
       "      <td>77815</td>\n",
       "      <td>112300</td>\n",
       "      <td>11.0</td>\n",
       "      <td>0.0</td>\n",
       "    </tr>\n",
       "    <tr>\n",
       "      <th>6193</th>\n",
       "      <td>84896</td>\n",
       "      <td>94500</td>\n",
       "      <td>11.0</td>\n",
       "      <td>0.0</td>\n",
       "    </tr>\n",
       "    <tr>\n",
       "      <th>7310</th>\n",
       "      <td>133101</td>\n",
       "      <td>312960</td>\n",
       "      <td>12.0</td>\n",
       "      <td>0.0</td>\n",
       "    </tr>\n",
       "  </tbody>\n",
       "</table>\n",
       "<p>419 rows × 4 columns</p>\n",
       "</div>"
      ],
      "text/plain": [
       "      CodigoPrograma  valorUltimaCuota  #_inscritos_activos  \\\n",
       "7722          146898             75011                  0.0   \n",
       "3850           37458             73332                  0.0   \n",
       "6106           82559             73332                  0.0   \n",
       "6138           81141            102000                  0.0   \n",
       "8631          163953             80000                  0.0   \n",
       "...              ...               ...                  ...   \n",
       "4689           53964             78300                  9.0   \n",
       "7732          136991            187200                 10.0   \n",
       "5841           77815            112300                 11.0   \n",
       "6193           84896             94500                 11.0   \n",
       "7310          133101            312960                 12.0   \n",
       "\n",
       "      #_mascotas_activas  \n",
       "7722                 1.0  \n",
       "3850                 1.0  \n",
       "6106                 1.0  \n",
       "6138                 1.0  \n",
       "8631                 1.0  \n",
       "...                  ...  \n",
       "4689                 0.0  \n",
       "7732                 0.0  \n",
       "5841                 0.0  \n",
       "6193                 0.0  \n",
       "7310                 0.0  \n",
       "\n",
       "[419 rows x 4 columns]"
      ]
     },
     "execution_count": 82,
     "metadata": {},
     "output_type": "execute_result"
    }
   ],
   "source": [
    "temp = data[[\"CodigoPrograma\", \"valorUltimaCuota\", \"#_inscritos_activos\", \"#_mascotas_activas\"]\n",
    "            ][data[\"valorUltimaCuota\"] > percentil95].sort_values(\"#_inscritos_activos\")                                                                    \n",
    "temp\n"
   ]
  },
  {
   "cell_type": "code",
   "execution_count": 83,
   "metadata": {},
   "outputs": [],
   "source": [
    "data.drop(temp.index, inplace=True)"
   ]
  },
  {
   "cell_type": "code",
   "execution_count": 84,
   "metadata": {},
   "outputs": [
    {
     "data": {
      "text/html": [
       "<div>\n",
       "<style scoped>\n",
       "    .dataframe tbody tr th:only-of-type {\n",
       "        vertical-align: middle;\n",
       "    }\n",
       "\n",
       "    .dataframe tbody tr th {\n",
       "        vertical-align: top;\n",
       "    }\n",
       "\n",
       "    .dataframe thead th {\n",
       "        text-align: right;\n",
       "    }\n",
       "</style>\n",
       "<table border=\"1\" class=\"dataframe\">\n",
       "  <thead>\n",
       "    <tr style=\"text-align: right;\">\n",
       "      <th></th>\n",
       "      <th>CodigoPrograma</th>\n",
       "      <th>valorCuota_1</th>\n",
       "      <th>#_inscritos_activos</th>\n",
       "      <th>#_mascotas_activas</th>\n",
       "    </tr>\n",
       "  </thead>\n",
       "  <tbody>\n",
       "    <tr>\n",
       "      <th>6359</th>\n",
       "      <td>87095</td>\n",
       "      <td>67500.0</td>\n",
       "      <td>0.0</td>\n",
       "      <td>3.0</td>\n",
       "    </tr>\n",
       "    <tr>\n",
       "      <th>9282</th>\n",
       "      <td>160137</td>\n",
       "      <td>80000.0</td>\n",
       "      <td>0.0</td>\n",
       "      <td>1.0</td>\n",
       "    </tr>\n",
       "    <tr>\n",
       "      <th>6615</th>\n",
       "      <td>110162</td>\n",
       "      <td>108600.0</td>\n",
       "      <td>1.0</td>\n",
       "      <td>0.0</td>\n",
       "    </tr>\n",
       "    <tr>\n",
       "      <th>7569</th>\n",
       "      <td>133338</td>\n",
       "      <td>88290.0</td>\n",
       "      <td>1.0</td>\n",
       "      <td>0.0</td>\n",
       "    </tr>\n",
       "    <tr>\n",
       "      <th>4389</th>\n",
       "      <td>51903</td>\n",
       "      <td>84300.0</td>\n",
       "      <td>5.0</td>\n",
       "      <td>0.0</td>\n",
       "    </tr>\n",
       "    <tr>\n",
       "      <th>5466</th>\n",
       "      <td>69080</td>\n",
       "      <td>171500.0</td>\n",
       "      <td>5.0</td>\n",
       "      <td>0.0</td>\n",
       "    </tr>\n",
       "    <tr>\n",
       "      <th>5489</th>\n",
       "      <td>69999</td>\n",
       "      <td>63000.0</td>\n",
       "      <td>5.0</td>\n",
       "      <td>0.0</td>\n",
       "    </tr>\n",
       "    <tr>\n",
       "      <th>8552</th>\n",
       "      <td>150586</td>\n",
       "      <td>64500.0</td>\n",
       "      <td>5.0</td>\n",
       "      <td>0.0</td>\n",
       "    </tr>\n",
       "    <tr>\n",
       "      <th>8029</th>\n",
       "      <td>148858</td>\n",
       "      <td>81000.0</td>\n",
       "      <td>6.0</td>\n",
       "      <td>0.0</td>\n",
       "    </tr>\n",
       "    <tr>\n",
       "      <th>6564</th>\n",
       "      <td>107223</td>\n",
       "      <td>66300.0</td>\n",
       "      <td>7.0</td>\n",
       "      <td>0.0</td>\n",
       "    </tr>\n",
       "    <tr>\n",
       "      <th>5480</th>\n",
       "      <td>73315</td>\n",
       "      <td>76000.0</td>\n",
       "      <td>8.0</td>\n",
       "      <td>0.0</td>\n",
       "    </tr>\n",
       "    <tr>\n",
       "      <th>5483</th>\n",
       "      <td>73415</td>\n",
       "      <td>66000.0</td>\n",
       "      <td>8.0</td>\n",
       "      <td>0.0</td>\n",
       "    </tr>\n",
       "    <tr>\n",
       "      <th>8449</th>\n",
       "      <td>160659</td>\n",
       "      <td>124500.0</td>\n",
       "      <td>8.0</td>\n",
       "      <td>0.0</td>\n",
       "    </tr>\n",
       "  </tbody>\n",
       "</table>\n",
       "</div>"
      ],
      "text/plain": [
       "      CodigoPrograma  valorCuota_1  #_inscritos_activos  #_mascotas_activas\n",
       "6359           87095       67500.0                  0.0                 3.0\n",
       "9282          160137       80000.0                  0.0                 1.0\n",
       "6615          110162      108600.0                  1.0                 0.0\n",
       "7569          133338       88290.0                  1.0                 0.0\n",
       "4389           51903       84300.0                  5.0                 0.0\n",
       "5466           69080      171500.0                  5.0                 0.0\n",
       "5489           69999       63000.0                  5.0                 0.0\n",
       "8552          150586       64500.0                  5.0                 0.0\n",
       "8029          148858       81000.0                  6.0                 0.0\n",
       "6564          107223       66300.0                  7.0                 0.0\n",
       "5480           73315       76000.0                  8.0                 0.0\n",
       "5483           73415       66000.0                  8.0                 0.0\n",
       "8449          160659      124500.0                  8.0                 0.0"
      ]
     },
     "execution_count": 84,
     "metadata": {},
     "output_type": "execute_result"
    }
   ],
   "source": [
    "temp = data[[\"CodigoPrograma\", \"valorCuota_1\", \"#_inscritos_activos\", \"#_mascotas_activas\"]\n",
    "            ][data[\"valorCuota_1\"] > percentil95].sort_values(\"#_inscritos_activos\")\n",
    "temp\n"
   ]
  },
  {
   "cell_type": "code",
   "execution_count": 85,
   "metadata": {},
   "outputs": [],
   "source": [
    "data.drop(temp.index, inplace=True)"
   ]
  },
  {
   "attachments": {},
   "cell_type": "markdown",
   "metadata": {},
   "source": [
    "Dada la amplitud y la baja frecuencia, eliminaremos estos registros\n"
   ]
  },
  {
   "cell_type": "code",
   "execution_count": 86,
   "metadata": {},
   "outputs": [
    {
     "data": {
      "text/html": [
       "<div>\n",
       "<style scoped>\n",
       "    .dataframe tbody tr th:only-of-type {\n",
       "        vertical-align: middle;\n",
       "    }\n",
       "\n",
       "    .dataframe tbody tr th {\n",
       "        vertical-align: top;\n",
       "    }\n",
       "\n",
       "    .dataframe thead th {\n",
       "        text-align: right;\n",
       "    }\n",
       "</style>\n",
       "<table border=\"1\" class=\"dataframe\">\n",
       "  <thead>\n",
       "    <tr style=\"text-align: right;\">\n",
       "      <th></th>\n",
       "      <th>valorUltimaCuota</th>\n",
       "      <th>CodigoPrograma</th>\n",
       "    </tr>\n",
       "  </thead>\n",
       "  <tbody>\n",
       "    <tr>\n",
       "      <th>136</th>\n",
       "      <td>20600</td>\n",
       "      <td>78</td>\n",
       "    </tr>\n",
       "    <tr>\n",
       "      <th>69</th>\n",
       "      <td>15100</td>\n",
       "      <td>79</td>\n",
       "    </tr>\n",
       "    <tr>\n",
       "      <th>261</th>\n",
       "      <td>29400</td>\n",
       "      <td>80</td>\n",
       "    </tr>\n",
       "    <tr>\n",
       "      <th>177</th>\n",
       "      <td>23300</td>\n",
       "      <td>99</td>\n",
       "    </tr>\n",
       "    <tr>\n",
       "      <th>6</th>\n",
       "      <td>6500</td>\n",
       "      <td>102</td>\n",
       "    </tr>\n",
       "    <tr>\n",
       "      <th>109</th>\n",
       "      <td>18600</td>\n",
       "      <td>106</td>\n",
       "    </tr>\n",
       "    <tr>\n",
       "      <th>123</th>\n",
       "      <td>19600</td>\n",
       "      <td>106</td>\n",
       "    </tr>\n",
       "    <tr>\n",
       "      <th>191</th>\n",
       "      <td>24100</td>\n",
       "      <td>123</td>\n",
       "    </tr>\n",
       "    <tr>\n",
       "      <th>68</th>\n",
       "      <td>15000</td>\n",
       "      <td>139</td>\n",
       "    </tr>\n",
       "    <tr>\n",
       "      <th>11</th>\n",
       "      <td>7500</td>\n",
       "      <td>172</td>\n",
       "    </tr>\n",
       "    <tr>\n",
       "      <th>89</th>\n",
       "      <td>17000</td>\n",
       "      <td>190</td>\n",
       "    </tr>\n",
       "    <tr>\n",
       "      <th>121</th>\n",
       "      <td>19500</td>\n",
       "      <td>212</td>\n",
       "    </tr>\n",
       "    <tr>\n",
       "      <th>148</th>\n",
       "      <td>21500</td>\n",
       "      <td>230</td>\n",
       "    </tr>\n",
       "    <tr>\n",
       "      <th>22</th>\n",
       "      <td>8500</td>\n",
       "      <td>236</td>\n",
       "    </tr>\n",
       "    <tr>\n",
       "      <th>200</th>\n",
       "      <td>24700</td>\n",
       "      <td>274</td>\n",
       "    </tr>\n",
       "    <tr>\n",
       "      <th>36</th>\n",
       "      <td>9800</td>\n",
       "      <td>381</td>\n",
       "    </tr>\n",
       "    <tr>\n",
       "      <th>102</th>\n",
       "      <td>18100</td>\n",
       "      <td>454</td>\n",
       "    </tr>\n",
       "    <tr>\n",
       "      <th>80</th>\n",
       "      <td>16100</td>\n",
       "      <td>570</td>\n",
       "    </tr>\n",
       "    <tr>\n",
       "      <th>115</th>\n",
       "      <td>19100</td>\n",
       "      <td>619</td>\n",
       "    </tr>\n",
       "    <tr>\n",
       "      <th>139</th>\n",
       "      <td>20800</td>\n",
       "      <td>647</td>\n",
       "    </tr>\n",
       "  </tbody>\n",
       "</table>\n",
       "</div>"
      ],
      "text/plain": [
       "     valorUltimaCuota  CodigoPrograma\n",
       "136             20600              78\n",
       "69              15100              79\n",
       "261             29400              80\n",
       "177             23300              99\n",
       "6                6500             102\n",
       "109             18600             106\n",
       "123             19600             106\n",
       "191             24100             123\n",
       "68              15000             139\n",
       "11               7500             172\n",
       "89              17000             190\n",
       "121             19500             212\n",
       "148             21500             230\n",
       "22               8500             236\n",
       "200             24700             274\n",
       "36               9800             381\n",
       "102             18100             454\n",
       "80              16100             570\n",
       "115             19100             619\n",
       "139             20800             647"
      ]
     },
     "execution_count": 86,
     "metadata": {},
     "output_type": "execute_result"
    }
   ],
   "source": [
    "data[[\"CodigoPrograma\", \"valorUltimaCuota\"]].groupby(\"valorUltimaCuota\")\\\n",
    "    .count().reset_index().sort_values(\"CodigoPrograma\").tail(20)\n"
   ]
  },
  {
   "attachments": {},
   "cell_type": "markdown",
   "metadata": {},
   "source": [
    "Los valores más frecuentes de cuota rondan los 20.000"
   ]
  },
  {
   "cell_type": "code",
   "execution_count": 87,
   "metadata": {},
   "outputs": [
    {
     "data": {
      "text/html": [
       "<div>\n",
       "<style scoped>\n",
       "    .dataframe tbody tr th:only-of-type {\n",
       "        vertical-align: middle;\n",
       "    }\n",
       "\n",
       "    .dataframe tbody tr th {\n",
       "        vertical-align: top;\n",
       "    }\n",
       "\n",
       "    .dataframe thead th {\n",
       "        text-align: right;\n",
       "    }\n",
       "</style>\n",
       "<table border=\"1\" class=\"dataframe\">\n",
       "  <thead>\n",
       "    <tr style=\"text-align: right;\">\n",
       "      <th></th>\n",
       "      <th>qinactivos</th>\n",
       "      <th>CodigoPrograma</th>\n",
       "    </tr>\n",
       "  </thead>\n",
       "  <tbody>\n",
       "    <tr>\n",
       "      <th>5</th>\n",
       "      <td>6</td>\n",
       "      <td>3</td>\n",
       "    </tr>\n",
       "    <tr>\n",
       "      <th>4</th>\n",
       "      <td>5</td>\n",
       "      <td>7</td>\n",
       "    </tr>\n",
       "    <tr>\n",
       "      <th>3</th>\n",
       "      <td>4</td>\n",
       "      <td>194</td>\n",
       "    </tr>\n",
       "    <tr>\n",
       "      <th>2</th>\n",
       "      <td>3</td>\n",
       "      <td>1460</td>\n",
       "    </tr>\n",
       "    <tr>\n",
       "      <th>1</th>\n",
       "      <td>2</td>\n",
       "      <td>2997</td>\n",
       "    </tr>\n",
       "    <tr>\n",
       "      <th>0</th>\n",
       "      <td>1</td>\n",
       "      <td>3603</td>\n",
       "    </tr>\n",
       "  </tbody>\n",
       "</table>\n",
       "</div>"
      ],
      "text/plain": [
       "   qinactivos  CodigoPrograma\n",
       "5           6               3\n",
       "4           5               7\n",
       "3           4             194\n",
       "2           3            1460\n",
       "1           2            2997\n",
       "0           1            3603"
      ]
     },
     "execution_count": 87,
     "metadata": {},
     "output_type": "execute_result"
    }
   ],
   "source": [
    "data[[\"CodigoPrograma\", \"qinactivos\"]].groupby(\"qinactivos\")\\\n",
    "    .count().reset_index().sort_values(\"CodigoPrograma\")\n"
   ]
  },
  {
   "cell_type": "code",
   "execution_count": 88,
   "metadata": {},
   "outputs": [
    {
     "data": {
      "text/html": [
       "<div>\n",
       "<style scoped>\n",
       "    .dataframe tbody tr th:only-of-type {\n",
       "        vertical-align: middle;\n",
       "    }\n",
       "\n",
       "    .dataframe tbody tr th {\n",
       "        vertical-align: top;\n",
       "    }\n",
       "\n",
       "    .dataframe thead th {\n",
       "        text-align: right;\n",
       "    }\n",
       "</style>\n",
       "<table border=\"1\" class=\"dataframe\">\n",
       "  <thead>\n",
       "    <tr style=\"text-align: right;\">\n",
       "      <th></th>\n",
       "      <th>qactivos</th>\n",
       "      <th>CodigoPrograma</th>\n",
       "    </tr>\n",
       "  </thead>\n",
       "  <tbody>\n",
       "    <tr>\n",
       "      <th>4</th>\n",
       "      <td>5</td>\n",
       "      <td>4</td>\n",
       "    </tr>\n",
       "    <tr>\n",
       "      <th>3</th>\n",
       "      <td>4</td>\n",
       "      <td>92</td>\n",
       "    </tr>\n",
       "    <tr>\n",
       "      <th>1</th>\n",
       "      <td>2</td>\n",
       "      <td>1959</td>\n",
       "    </tr>\n",
       "    <tr>\n",
       "      <th>0</th>\n",
       "      <td>1</td>\n",
       "      <td>2323</td>\n",
       "    </tr>\n",
       "    <tr>\n",
       "      <th>2</th>\n",
       "      <td>3</td>\n",
       "      <td>3886</td>\n",
       "    </tr>\n",
       "  </tbody>\n",
       "</table>\n",
       "</div>"
      ],
      "text/plain": [
       "   qactivos  CodigoPrograma\n",
       "4         5               4\n",
       "3         4              92\n",
       "1         2            1959\n",
       "0         1            2323\n",
       "2         3            3886"
      ]
     },
     "execution_count": 88,
     "metadata": {},
     "output_type": "execute_result"
    }
   ],
   "source": [
    "data[[\"CodigoPrograma\", \"qactivos\"]].groupby(\"qactivos\")\\\n",
    "    .count().reset_index().sort_values(\"CodigoPrograma\")\n"
   ]
  },
  {
   "attachments": {},
   "cell_type": "markdown",
   "metadata": {},
   "source": [
    "Existen casos donde un usuario estuvo activo hasta una 3 vez, lo mismo con su inactividad, es normal que este se active hasta 2 veces, sin embargo, ya una 3 vez es un usuario recuperado. Estas 2 variables las convertiremos en una sola donde nos indica si el usuario ha estado activo por más de 3 ocasiones donde 0 es que no estuvo activo 3 veces o 1 es que si lo estuvo. A esta variable la llamaremos reintegrado"
   ]
  },
  {
   "cell_type": "code",
   "execution_count": 89,
   "metadata": {},
   "outputs": [
    {
     "data": {
      "text/html": [
       "<div>\n",
       "<style scoped>\n",
       "    .dataframe tbody tr th:only-of-type {\n",
       "        vertical-align: middle;\n",
       "    }\n",
       "\n",
       "    .dataframe tbody tr th {\n",
       "        vertical-align: top;\n",
       "    }\n",
       "\n",
       "    .dataframe thead th {\n",
       "        text-align: right;\n",
       "    }\n",
       "</style>\n",
       "<table border=\"1\" class=\"dataframe\">\n",
       "  <thead>\n",
       "    <tr style=\"text-align: right;\">\n",
       "      <th></th>\n",
       "      <th>CodigoPrograma</th>\n",
       "      <th>fechaSolicitud</th>\n",
       "      <th>tomador</th>\n",
       "      <th>edad</th>\n",
       "      <th>#_inscritos_activos</th>\n",
       "      <th>#_mascotas_activas</th>\n",
       "      <th>FechaRescindido</th>\n",
       "      <th>valorCuota_1</th>\n",
       "      <th>valorUltimaCuota</th>\n",
       "      <th>fechaIdealPago_CuotaCancelada</th>\n",
       "      <th>...</th>\n",
       "      <th>nom_plan</th>\n",
       "      <th>profesion_tomador</th>\n",
       "      <th>moda_prof_inscritos</th>\n",
       "      <th>moda_parentesco</th>\n",
       "      <th>Neutral Score</th>\n",
       "      <th>Negative Score</th>\n",
       "      <th>Positive Score</th>\n",
       "      <th>motivo</th>\n",
       "      <th>estado</th>\n",
       "      <th>reintegrado</th>\n",
       "    </tr>\n",
       "  </thead>\n",
       "  <tbody>\n",
       "    <tr>\n",
       "      <th>1</th>\n",
       "      <td>59</td>\n",
       "      <td>2018-09-10</td>\n",
       "      <td>Luis Roberto Murillo</td>\n",
       "      <td>68.0</td>\n",
       "      <td>5.0</td>\n",
       "      <td>0.0</td>\n",
       "      <td>2021-04-07 05:00:00.000</td>\n",
       "      <td>15100.0</td>\n",
       "      <td>16100</td>\n",
       "      <td>2020-12-10</td>\n",
       "      <td>...</td>\n",
       "      <td>NaN</td>\n",
       "      <td>NaN</td>\n",
       "      <td>NaN</td>\n",
       "      <td>NaN</td>\n",
       "      <td>0.421943</td>\n",
       "      <td>0.563205</td>\n",
       "      <td>0.014852</td>\n",
       "      <td>Dificultad para ubicarlo</td>\n",
       "      <td>0</td>\n",
       "      <td>0</td>\n",
       "    </tr>\n",
       "    <tr>\n",
       "      <th>2</th>\n",
       "      <td>84</td>\n",
       "      <td>2018-11-16</td>\n",
       "      <td>Indris Isabel Morales Herrera</td>\n",
       "      <td>30.0</td>\n",
       "      <td>12.0</td>\n",
       "      <td>0.0</td>\n",
       "      <td>2020-12-18 06:00:00.790</td>\n",
       "      <td>30100.0</td>\n",
       "      <td>31100</td>\n",
       "      <td>2020-08-16</td>\n",
       "      <td>...</td>\n",
       "      <td>NaN</td>\n",
       "      <td>NaN</td>\n",
       "      <td>NaN</td>\n",
       "      <td>NaN</td>\n",
       "      <td>0.671160</td>\n",
       "      <td>0.193641</td>\n",
       "      <td>0.135199</td>\n",
       "      <td>Incumplimiento en compromiso de pago</td>\n",
       "      <td>0</td>\n",
       "      <td>0</td>\n",
       "    </tr>\n",
       "    <tr>\n",
       "      <th>3</th>\n",
       "      <td>87</td>\n",
       "      <td>2018-11-29</td>\n",
       "      <td>Jose Nelio Ibarguen Hinestroza</td>\n",
       "      <td>56.0</td>\n",
       "      <td>2.0</td>\n",
       "      <td>0.0</td>\n",
       "      <td>9999-12-31 00:00:00.000</td>\n",
       "      <td>20800.0</td>\n",
       "      <td>24300</td>\n",
       "      <td>2024-07-29</td>\n",
       "      <td>...</td>\n",
       "      <td>Aurora Plus 2020</td>\n",
       "      <td>Agricultor</td>\n",
       "      <td>Agricultor - Ama de casa - Estudiante</td>\n",
       "      <td>Compañera - Hija - TITULAR</td>\n",
       "      <td>0.823568</td>\n",
       "      <td>0.033186</td>\n",
       "      <td>0.143247</td>\n",
       "      <td>Activo</td>\n",
       "      <td>1</td>\n",
       "      <td>0</td>\n",
       "    </tr>\n",
       "    <tr>\n",
       "      <th>4</th>\n",
       "      <td>260</td>\n",
       "      <td>2019-04-08</td>\n",
       "      <td>Marcela Ruiz Montes</td>\n",
       "      <td>51.0</td>\n",
       "      <td>5.0</td>\n",
       "      <td>0.0</td>\n",
       "      <td>2020-10-09 06:00:00.950</td>\n",
       "      <td>15100.0</td>\n",
       "      <td>16100</td>\n",
       "      <td>2020-06-09</td>\n",
       "      <td>...</td>\n",
       "      <td>NaN</td>\n",
       "      <td>NaN</td>\n",
       "      <td>NaN</td>\n",
       "      <td>NaN</td>\n",
       "      <td>0.303887</td>\n",
       "      <td>0.681288</td>\n",
       "      <td>0.014825</td>\n",
       "      <td>Dificultad para ubicarlo</td>\n",
       "      <td>0</td>\n",
       "      <td>0</td>\n",
       "    </tr>\n",
       "    <tr>\n",
       "      <th>5</th>\n",
       "      <td>108</td>\n",
       "      <td>2019-01-04</td>\n",
       "      <td>Sefora Alberis Caicedo Nieto</td>\n",
       "      <td>28.0</td>\n",
       "      <td>3.0</td>\n",
       "      <td>0.0</td>\n",
       "      <td>2022-02-21 06:00:01.210</td>\n",
       "      <td>18100.0</td>\n",
       "      <td>18100</td>\n",
       "      <td>2021-10-20</td>\n",
       "      <td>...</td>\n",
       "      <td>NaN</td>\n",
       "      <td>NaN</td>\n",
       "      <td>NaN</td>\n",
       "      <td>NaN</td>\n",
       "      <td>0.635210</td>\n",
       "      <td>0.206120</td>\n",
       "      <td>0.158671</td>\n",
       "      <td>Dificultad para ubicarlo</td>\n",
       "      <td>0</td>\n",
       "      <td>0</td>\n",
       "    </tr>\n",
       "  </tbody>\n",
       "</table>\n",
       "<p>5 rows × 39 columns</p>\n",
       "</div>"
      ],
      "text/plain": [
       "   CodigoPrograma fechaSolicitud                         tomador  edad  \\\n",
       "1              59     2018-09-10           Luis Roberto Murillo   68.0   \n",
       "2              84     2018-11-16   Indris Isabel Morales Herrera  30.0   \n",
       "3              87     2018-11-29  Jose Nelio Ibarguen Hinestroza  56.0   \n",
       "4             260     2019-04-08             Marcela Ruiz Montes  51.0   \n",
       "5             108     2019-01-04    Sefora Alberis Caicedo Nieto  28.0   \n",
       "\n",
       "   #_inscritos_activos  #_mascotas_activas          FechaRescindido  \\\n",
       "1                  5.0                 0.0  2021-04-07 05:00:00.000   \n",
       "2                 12.0                 0.0  2020-12-18 06:00:00.790   \n",
       "3                  2.0                 0.0  9999-12-31 00:00:00.000   \n",
       "4                  5.0                 0.0  2020-10-09 06:00:00.950   \n",
       "5                  3.0                 0.0  2022-02-21 06:00:01.210   \n",
       "\n",
       "   valorCuota_1  valorUltimaCuota fechaIdealPago_CuotaCancelada  ...  \\\n",
       "1       15100.0             16100                    2020-12-10  ...   \n",
       "2       30100.0             31100                    2020-08-16  ...   \n",
       "3       20800.0             24300                    2024-07-29  ...   \n",
       "4       15100.0             16100                    2020-06-09  ...   \n",
       "5       18100.0             18100                    2021-10-20  ...   \n",
       "\n",
       "           nom_plan profesion_tomador                    moda_prof_inscritos  \\\n",
       "1               NaN               NaN                                    NaN   \n",
       "2               NaN               NaN                                    NaN   \n",
       "3  Aurora Plus 2020        Agricultor  Agricultor - Ama de casa - Estudiante   \n",
       "4               NaN               NaN                                    NaN   \n",
       "5               NaN               NaN                                    NaN   \n",
       "\n",
       "              moda_parentesco Neutral Score Negative Score Positive Score  \\\n",
       "1                         NaN      0.421943       0.563205       0.014852   \n",
       "2                         NaN      0.671160       0.193641       0.135199   \n",
       "3  Compañera - Hija - TITULAR      0.823568       0.033186       0.143247   \n",
       "4                         NaN      0.303887       0.681288       0.014825   \n",
       "5                         NaN      0.635210       0.206120       0.158671   \n",
       "\n",
       "                                  motivo estado reintegrado  \n",
       "1               Dificultad para ubicarlo      0           0  \n",
       "2   Incumplimiento en compromiso de pago      0           0  \n",
       "3                                 Activo      1           0  \n",
       "4               Dificultad para ubicarlo      0           0  \n",
       "5               Dificultad para ubicarlo      0           0  \n",
       "\n",
       "[5 rows x 39 columns]"
      ]
     },
     "execution_count": 89,
     "metadata": {},
     "output_type": "execute_result"
    }
   ],
   "source": [
    "data[\"reintegrado\"] = data[\"qactivos\"].apply(lambda x: 1 if x > 2 else 0)\n",
    "data.drop([\"qactivos\", \"qinactivos\"], axis=1, inplace=True)\n",
    "data.head()"
   ]
  },
  {
   "attachments": {},
   "cell_type": "markdown",
   "metadata": {},
   "source": [
    "Duracion de los programas"
   ]
  },
  {
   "attachments": {},
   "cell_type": "markdown",
   "metadata": {},
   "source": [
    "Actualmente tenemos información de diferencias entre fecha de actividad e inactividad, sin embargo, en las reglas de negocio no tendremos la fecha de inactivadad, todas estas variables con datos de inactividad se eliminan"
   ]
  },
  {
   "cell_type": "code",
   "execution_count": 90,
   "metadata": {},
   "outputs": [
    {
     "data": {
      "text/plain": [
       "Index(['CodigoPrograma', 'fechaSolicitud', 'tomador', 'edad',\n",
       "       '#_inscritos_activos', '#_mascotas_activas', 'valorCuota_1',\n",
       "       'valorUltimaCuota', 'fechaIdealPago_CuotaCancelada', 'fechaactivoi',\n",
       "       'motivoactivoi', 'fechaactivof', 'recauExitoso', 'recauFallido',\n",
       "       'Direccion', 'LocalidadVenta', 'Nivel Socio Economico', 'Barrio',\n",
       "       'Localidad', 'Longitud', 'Latitud', 'nom_plan', 'profesion_tomador',\n",
       "       'moda_prof_inscritos', 'moda_parentesco', 'Neutral Score',\n",
       "       'Negative Score', 'Positive Score', 'motivo', 'estado', 'reintegrado'],\n",
       "      dtype='object')"
      ]
     },
     "execution_count": 90,
     "metadata": {},
     "output_type": "execute_result"
    }
   ],
   "source": [
    "data.drop(['FechaRescindido','fechainactivof', 'motivoinactivof', 'fechainactivoi',\\\n",
    "    'motivoinactivoi', 'inactivof_activoi','inactivof_activof', 'inactivoi_activoi'], axis=1, inplace=True)\n",
    "data.columns\n"
   ]
  },
  {
   "attachments": {},
   "cell_type": "markdown",
   "metadata": {},
   "source": [
    "Lo que haremos es tomar la fecha actual y restarle la fecha en que el usuario estuvo activo por primera vez y por ultima vez. Así tendremos la duración que ha tenido el programa"
   ]
  },
  {
   "cell_type": "code",
   "execution_count": 91,
   "metadata": {},
   "outputs": [],
   "source": [
    "now = datetime.now()\n",
    "data[\"duracionActivoI\"] = (\n",
    "    now - pd.to_datetime(data[\"fechaSolicitud\"])).dt.days\n",
    "data[\"duracionActivoF\"] = (\n",
    "    now - pd.to_datetime(data[\"fechaactivof\"])).dt.days\n",
    "data.drop([\"fechaactivoi\", \"fechaactivof\",\n",
    "          \"fechaSolicitud\"], axis=1, inplace=True)\n"
   ]
  },
  {
   "cell_type": "code",
   "execution_count": 92,
   "metadata": {},
   "outputs": [
    {
     "data": {
      "text/plain": [
       "Index(['CodigoPrograma', 'tomador', 'edad', '#_inscritos_activos',\n",
       "       '#_mascotas_activas', 'valorCuota_1', 'valorUltimaCuota',\n",
       "       'fechaIdealPago_CuotaCancelada', 'motivoactivoi', 'recauExitoso',\n",
       "       'recauFallido', 'Direccion', 'LocalidadVenta', 'Nivel Socio Economico',\n",
       "       'Barrio', 'Localidad', 'Longitud', 'Latitud', 'nom_plan',\n",
       "       'profesion_tomador', 'moda_prof_inscritos', 'moda_parentesco',\n",
       "       'Neutral Score', 'Negative Score', 'Positive Score', 'motivo', 'estado',\n",
       "       'reintegrado', 'duracionActivoI', 'duracionActivoF'],\n",
       "      dtype='object')"
      ]
     },
     "execution_count": 92,
     "metadata": {},
     "output_type": "execute_result"
    }
   ],
   "source": [
    "data.columns\n"
   ]
  },
  {
   "attachments": {},
   "cell_type": "markdown",
   "metadata": {},
   "source": [
    "Podemos obtener los incrementos que han tenido la cuota restando valorCuota_1 y el valorUltimaCuota"
   ]
  },
  {
   "cell_type": "code",
   "execution_count": 93,
   "metadata": {},
   "outputs": [],
   "source": [
    "data[\"incrementoCuota\"] = data[\"valorUltimaCuota\"] - data[\"valorCuota_1\"]"
   ]
  },
  {
   "attachments": {},
   "cell_type": "markdown",
   "metadata": {},
   "source": [
    "Eliminamos valor de la cuota 1 porque estaría representado en el incremento, información reduntente, pero con menos cantidades"
   ]
  },
  {
   "cell_type": "code",
   "execution_count": 94,
   "metadata": {},
   "outputs": [],
   "source": [
    "data.drop(\"valorCuota_1\", axis=1, inplace=True)"
   ]
  },
  {
   "attachments": {},
   "cell_type": "markdown",
   "metadata": {},
   "source": [
    "Tenemos el día del mes que se esta cobrando la cuota, sin embargo, viene acompañado de meses y años, que tal vez no expresan una misma situación para no descartar esta variable y dado que es una cuota que se cobra siempre cada mes, obtendremos solo el día a partir de esta fecha"
   ]
  },
  {
   "cell_type": "code",
   "execution_count": 95,
   "metadata": {},
   "outputs": [
    {
     "data": {
      "text/plain": [
       "Index(['CodigoPrograma', 'tomador', 'edad', '#_inscritos_activos',\n",
       "       '#_mascotas_activas', 'valorUltimaCuota',\n",
       "       'fechaIdealPago_CuotaCancelada', 'motivoactivoi', 'recauExitoso',\n",
       "       'recauFallido', 'Direccion', 'LocalidadVenta', 'Nivel Socio Economico',\n",
       "       'Barrio', 'Localidad', 'Longitud', 'Latitud', 'nom_plan',\n",
       "       'profesion_tomador', 'moda_prof_inscritos', 'moda_parentesco',\n",
       "       'Neutral Score', 'Negative Score', 'Positive Score', 'motivo', 'estado',\n",
       "       'reintegrado', 'duracionActivoI', 'duracionActivoF', 'incrementoCuota',\n",
       "       'diaPago'],\n",
       "      dtype='object')"
      ]
     },
     "execution_count": 95,
     "metadata": {},
     "output_type": "execute_result"
    }
   ],
   "source": [
    "data[\"diaPago\"] = pd.to_datetime(data[\"fechaIdealPago_CuotaCancelada\"]).dt.day\n",
    "data.columns"
   ]
  },
  {
   "attachments": {},
   "cell_type": "markdown",
   "metadata": {},
   "source": [
    "Eliminamos la columna, ya que la información de interes se queda en dia de pago"
   ]
  },
  {
   "cell_type": "code",
   "execution_count": 96,
   "metadata": {},
   "outputs": [],
   "source": [
    "data.drop(\"fechaIdealPago_CuotaCancelada\", axis=1, inplace=True)\n"
   ]
  },
  {
   "cell_type": "code",
   "execution_count": 97,
   "metadata": {},
   "outputs": [
    {
     "data": {
      "text/plain": [
       "motivoactivoi\n",
       " Activo                            9\n",
       " Activo para verificación        341\n",
       " Creacion de Solicitud          7912\n",
       " Programa con inconsistencia       2\n",
       "Name: motivoactivoi, dtype: int64"
      ]
     },
     "execution_count": 97,
     "metadata": {},
     "output_type": "execute_result"
    }
   ],
   "source": [
    "data.groupby(\"motivoactivoi\")[\"motivoactivoi\"].count()\n"
   ]
  },
  {
   "cell_type": "code",
   "execution_count": 98,
   "metadata": {},
   "outputs": [
    {
     "data": {
      "text/plain": [
       "motivo\n",
       " Activo                         2137\n",
       " Activo para verificación        366\n",
       " Pendiente de autorización         3\n",
       " Programa con inconsistencia      39\n",
       "Name: motivo, dtype: int64"
      ]
     },
     "execution_count": 98,
     "metadata": {},
     "output_type": "execute_result"
    }
   ],
   "source": [
    "data[data[\"estado\"] == 1].groupby(\"motivo\")[\"motivo\"].count()\n"
   ]
  },
  {
   "attachments": {},
   "cell_type": "markdown",
   "metadata": {},
   "source": [
    "Motivo activo inicial y motivo no nos esta dando mucha información de interes cuando solo sabemos que es un programa activo, procedemos a eliminarlo. Estas variables serán utiles para predecir en un futuro la razón de la inactividad en caso de que no se tenga"
   ]
  },
  {
   "cell_type": "code",
   "execution_count": 99,
   "metadata": {},
   "outputs": [
    {
     "data": {
      "text/plain": [
       "Index(['CodigoPrograma', 'tomador', 'edad', '#_inscritos_activos',\n",
       "       '#_mascotas_activas', 'valorUltimaCuota', 'recauExitoso',\n",
       "       'recauFallido', 'Direccion', 'LocalidadVenta', 'Nivel Socio Economico',\n",
       "       'Barrio', 'Localidad', 'Longitud', 'Latitud', 'nom_plan',\n",
       "       'profesion_tomador', 'moda_prof_inscritos', 'moda_parentesco',\n",
       "       'Neutral Score', 'Negative Score', 'Positive Score', 'estado',\n",
       "       'reintegrado', 'duracionActivoI', 'duracionActivoF', 'incrementoCuota',\n",
       "       'diaPago'],\n",
       "      dtype='object')"
      ]
     },
     "execution_count": 99,
     "metadata": {},
     "output_type": "execute_result"
    }
   ],
   "source": [
    "data.drop([\"motivo\", \"motivoactivoi\"], axis=1, inplace=True)\n",
    "data.columns\n"
   ]
  },
  {
   "attachments": {},
   "cell_type": "markdown",
   "metadata": {},
   "source": [
    "En varios usuarios se evidencia recaudos exitosos entre 3 a 8 veces. Sin embargo, se ha llegado a tener gestion de cartera exitosa en un mismo programa hasta por 90 veces"
   ]
  },
  {
   "cell_type": "code",
   "execution_count": 100,
   "metadata": {},
   "outputs": [
    {
     "data": {
      "text/plain": [
       "<AxesSubplot:ylabel='Frequency'>"
      ]
     },
     "execution_count": 100,
     "metadata": {},
     "output_type": "execute_result"
    },
    {
     "data": {
      "image/png": "[encoded data removed]",
      "text/plain": [
       "<Figure size 432x288 with 1 Axes>"
      ]
     },
     "metadata": {
      "needs_background": "light"
     },
     "output_type": "display_data"
    }
   ],
   "source": [
    "data[data[\"estado\"] == 0][\"recauExitoso\"].plot.hist(bins=10, range=(0,100))\n"
   ]
  },
  {
   "cell_type": "code",
   "execution_count": 101,
   "metadata": {},
   "outputs": [
    {
     "data": {
      "text/plain": [
       "<AxesSubplot:ylabel='Frequency'>"
      ]
     },
     "execution_count": 101,
     "metadata": {},
     "output_type": "execute_result"
    },
    {
     "data": {
      "image/png": "[encoded data removed]",
      "text/plain": [
       "<Figure size 432x288 with 1 Axes>"
      ]
     },
     "metadata": {
      "needs_background": "light"
     },
     "output_type": "display_data"
    }
   ],
   "source": [
    "data[data[\"estado\"] == 1][\"recauExitoso\"].plot.hist(bins=10, range=(0, 100))\n"
   ]
  },
  {
   "cell_type": "code",
   "execution_count": 102,
   "metadata": {},
   "outputs": [
    {
     "data": {
      "text/plain": [
       "<AxesSubplot:ylabel='Frequency'>"
      ]
     },
     "execution_count": 102,
     "metadata": {},
     "output_type": "execute_result"
    },
    {
     "data": {
      "image/png": "[encoded data removed]",
      "text/plain": [
       "<Figure size 432x288 with 1 Axes>"
      ]
     },
     "metadata": {
      "needs_background": "light"
     },
     "output_type": "display_data"
    }
   ],
   "source": [
    "data[data[\"estado\"] == 0][\"recauFallido\"].plot.hist(bins=10, range=(0, 100))\n"
   ]
  },
  {
   "cell_type": "code",
   "execution_count": 103,
   "metadata": {},
   "outputs": [
    {
     "data": {
      "text/plain": [
       "<AxesSubplot:ylabel='Frequency'>"
      ]
     },
     "execution_count": 103,
     "metadata": {},
     "output_type": "execute_result"
    },
    {
     "data": {
      "image/png": "[encoded data removed]",
      "text/plain": [
       "<Figure size 432x288 with 1 Axes>"
      ]
     },
     "metadata": {
      "needs_background": "light"
     },
     "output_type": "display_data"
    }
   ],
   "source": [
    "data[data[\"estado\"] == 1][\"recauFallido\"].plot.hist(bins=10, range=(0, 100))\n"
   ]
  },
  {
   "attachments": {},
   "cell_type": "markdown",
   "metadata": {},
   "source": [
    "Se logra ver un poco la diferenciación entre recaudos fallidos de activos e inactivos, son mayores en los activos. Se conservan las variables"
   ]
  },
  {
   "cell_type": "code",
   "execution_count": 104,
   "metadata": {},
   "outputs": [
    {
     "data": {
      "text/plain": [
       "Index(['CodigoPrograma', 'tomador', 'edad', '#_inscritos_activos',\n",
       "       '#_mascotas_activas', 'valorUltimaCuota', 'recauExitoso',\n",
       "       'recauFallido', 'Direccion', 'LocalidadVenta', 'Nivel Socio Economico',\n",
       "       'Barrio', 'Localidad', 'Longitud', 'Latitud', 'nom_plan',\n",
       "       'profesion_tomador', 'moda_prof_inscritos', 'moda_parentesco',\n",
       "       'Neutral Score', 'Negative Score', 'Positive Score', 'estado',\n",
       "       'reintegrado', 'duracionActivoI', 'duracionActivoF', 'incrementoCuota',\n",
       "       'diaPago'],\n",
       "      dtype='object')"
      ]
     },
     "execution_count": 104,
     "metadata": {},
     "output_type": "execute_result"
    }
   ],
   "source": [
    "data.columns"
   ]
  },
  {
   "cell_type": "code",
   "execution_count": 105,
   "metadata": {},
   "outputs": [
    {
     "data": {
      "text/plain": [
       "Index(['CodigoPrograma', 'tomador', 'edad', 'Qinscritos', 'Qmascotas',\n",
       "       'valorCuota', 'QrecauExitoso', 'QrecauFallido', 'Direccion',\n",
       "       'LocalidadVenta', 'Nivel Socio Economico', 'Barrio', 'Localidad',\n",
       "       'Longitud', 'Latitud', 'nom_plan', 'profesion_tomador',\n",
       "       'moda_prof_inscritos', 'moda_parentesco', 'Neutral Score',\n",
       "       'Negative Score', 'Positive Score', 'estado', 'reintegrado',\n",
       "       'duracionActivoI', 'duracionActivoF', 'incrementoCuota', 'diaPago'],\n",
       "      dtype='object')"
      ]
     },
     "execution_count": 105,
     "metadata": {},
     "output_type": "execute_result"
    }
   ],
   "source": [
    "data = data.rename(columns={\"#_inscritos_activos\": \"Qinscritos\",\\\n",
    "    \"#_mascotas_activas\": \"Qmascotas\",\\\n",
    "        \"valorUltimaCuota\":\"valorCuota\",\\\n",
    "            \"recauExitoso\": \"QrecauExitoso\", \"recauFallido\": \"QrecauFallido\"})\n",
    "data.columns"
   ]
  },
  {
   "attachments": {},
   "cell_type": "markdown",
   "metadata": {},
   "source": [
    "La direccion ya la obtenemos dada la latitud y la longitud"
   ]
  },
  {
   "cell_type": "code",
   "execution_count": 106,
   "metadata": {},
   "outputs": [
    {
     "data": {
      "text/plain": [
       "3036"
      ]
     },
     "execution_count": 106,
     "metadata": {},
     "output_type": "execute_result"
    }
   ],
   "source": [
    "data[\"Longitud\"].isna().sum()"
   ]
  },
  {
   "cell_type": "code",
   "execution_count": 107,
   "metadata": {},
   "outputs": [
    {
     "data": {
      "text/plain": [
       "7377"
      ]
     },
     "execution_count": 107,
     "metadata": {},
     "output_type": "execute_result"
    }
   ],
   "source": [
    "len(data[\"Direccion\"].unique())"
   ]
  },
  {
   "attachments": {},
   "cell_type": "markdown",
   "metadata": {},
   "source": [
    "Tenemos 3000 datos sin longitud y latitud mientras que en dirección solo 1000, sin embargo, la dirección no aporta mucho al modelo, dado que no son valores numericos y que se repitan constantemente en este caso hay 7377 direcciones diferentes. Por lo tanto solo quedamos con Longitud y latitud"
   ]
  },
  {
   "cell_type": "code",
   "execution_count": 108,
   "metadata": {},
   "outputs": [],
   "source": [
    "data.drop(\"Direccion\", axis=1, inplace=True)\n"
   ]
  },
  {
   "cell_type": "code",
   "execution_count": 109,
   "metadata": {},
   "outputs": [
    {
     "data": {
      "text/plain": [
       "Index(['CodigoPrograma', 'tomador', 'edad', 'Qinscritos', 'Qmascotas',\n",
       "       'valorCuota', 'QrecauExitoso', 'QrecauFallido', 'LocalidadVenta',\n",
       "       'Nivel Socio Economico', 'Barrio', 'Localidad', 'Longitud', 'Latitud',\n",
       "       'nom_plan', 'profesion_tomador', 'moda_prof_inscritos',\n",
       "       'moda_parentesco', 'Neutral Score', 'Negative Score', 'Positive Score',\n",
       "       'estado', 'reintegrado', 'duracionActivoI', 'duracionActivoF',\n",
       "       'incrementoCuota', 'diaPago'],\n",
       "      dtype='object')"
      ]
     },
     "execution_count": 109,
     "metadata": {},
     "output_type": "execute_result"
    }
   ],
   "source": [
    "data.columns\n"
   ]
  },
  {
   "cell_type": "code",
   "execution_count": 110,
   "metadata": {},
   "outputs": [
    {
     "data": {
      "text/html": [
       "<div>\n",
       "<style scoped>\n",
       "    .dataframe tbody tr th:only-of-type {\n",
       "        vertical-align: middle;\n",
       "    }\n",
       "\n",
       "    .dataframe tbody tr th {\n",
       "        vertical-align: top;\n",
       "    }\n",
       "\n",
       "    .dataframe thead th {\n",
       "        text-align: right;\n",
       "    }\n",
       "</style>\n",
       "<table border=\"1\" class=\"dataframe\">\n",
       "  <thead>\n",
       "    <tr style=\"text-align: right;\">\n",
       "      <th></th>\n",
       "      <th>CodigoPrograma</th>\n",
       "    </tr>\n",
       "    <tr>\n",
       "      <th>LocalidadVenta</th>\n",
       "      <th></th>\n",
       "    </tr>\n",
       "  </thead>\n",
       "  <tbody>\n",
       "    <tr>\n",
       "      <th>Aranzazu</th>\n",
       "      <td>46</td>\n",
       "    </tr>\n",
       "    <tr>\n",
       "      <th>Arauca</th>\n",
       "      <td>45</td>\n",
       "    </tr>\n",
       "    <tr>\n",
       "      <th>Bogota</th>\n",
       "      <td>307</td>\n",
       "    </tr>\n",
       "    <tr>\n",
       "      <th>Call Center Manizales</th>\n",
       "      <td>36</td>\n",
       "    </tr>\n",
       "    <tr>\n",
       "      <th>Chiquinquira</th>\n",
       "      <td>314</td>\n",
       "    </tr>\n",
       "    <tr>\n",
       "      <th>Dosquebradas</th>\n",
       "      <td>343</td>\n",
       "    </tr>\n",
       "    <tr>\n",
       "      <th>Herveo</th>\n",
       "      <td>12</td>\n",
       "    </tr>\n",
       "    <tr>\n",
       "      <th>Kennedy</th>\n",
       "      <td>269</td>\n",
       "    </tr>\n",
       "    <tr>\n",
       "      <th>La Dorada</th>\n",
       "      <td>335</td>\n",
       "    </tr>\n",
       "    <tr>\n",
       "      <th>Manizales</th>\n",
       "      <td>5486</td>\n",
       "    </tr>\n",
       "    <tr>\n",
       "      <th>Marquetalia</th>\n",
       "      <td>39</td>\n",
       "    </tr>\n",
       "    <tr>\n",
       "      <th>Marulanda</th>\n",
       "      <td>8</td>\n",
       "    </tr>\n",
       "    <tr>\n",
       "      <th>Pensilvania</th>\n",
       "      <td>39</td>\n",
       "    </tr>\n",
       "    <tr>\n",
       "      <th>Promotora La Aurora S.A.S. Sin Oficina</th>\n",
       "      <td>157</td>\n",
       "    </tr>\n",
       "    <tr>\n",
       "      <th>Puerto Venus</th>\n",
       "      <td>2</td>\n",
       "    </tr>\n",
       "    <tr>\n",
       "      <th>Restrepo</th>\n",
       "      <td>235</td>\n",
       "    </tr>\n",
       "    <tr>\n",
       "      <th>Tequendama</th>\n",
       "      <td>456</td>\n",
       "    </tr>\n",
       "    <tr>\n",
       "      <th>Tunja</th>\n",
       "      <td>41</td>\n",
       "    </tr>\n",
       "    <tr>\n",
       "      <th>Ubate</th>\n",
       "      <td>94</td>\n",
       "    </tr>\n",
       "  </tbody>\n",
       "</table>\n",
       "</div>"
      ],
      "text/plain": [
       "                                        CodigoPrograma\n",
       "LocalidadVenta                                        \n",
       "Aranzazu                                            46\n",
       "Arauca                                              45\n",
       "Bogota                                             307\n",
       "Call Center Manizales                               36\n",
       "Chiquinquira                                       314\n",
       "Dosquebradas                                       343\n",
       "Herveo                                              12\n",
       "Kennedy                                            269\n",
       "La Dorada                                          335\n",
       "Manizales                                         5486\n",
       "Marquetalia                                         39\n",
       "Marulanda                                            8\n",
       "Pensilvania                                         39\n",
       "Promotora La Aurora S.A.S. Sin Oficina             157\n",
       "Puerto Venus                                         2\n",
       "Restrepo                                           235\n",
       "Tequendama                                         456\n",
       "Tunja                                               41\n",
       "Ubate                                               94"
      ]
     },
     "execution_count": 110,
     "metadata": {},
     "output_type": "execute_result"
    }
   ],
   "source": [
    "data[[\"LocalidadVenta\", \"CodigoPrograma\"]].groupby(\"LocalidadVenta\").count()"
   ]
  },
  {
   "attachments": {},
   "cell_type": "markdown",
   "metadata": {},
   "source": [
    "Más del 50% de los datos estan en una misma localidad que es Manizales, sin embargo, saber que esta en otra localidad podría aportar al modelo"
   ]
  },
  {
   "cell_type": "code",
   "execution_count": 111,
   "metadata": {},
   "outputs": [
    {
     "data": {
      "text/plain": [
       "Index(['CodigoPrograma', 'tomador', 'edad', 'Qinscritos', 'Qmascotas',\n",
       "       'valorCuota', 'QrecauExitoso', 'QrecauFallido', 'localidadVenta',\n",
       "       'Nivel Socio Economico', 'Barrio', 'Localidad', 'Longitud', 'Latitud',\n",
       "       'nom_plan', 'profesion_tomador', 'moda_prof_inscritos',\n",
       "       'moda_parentesco', 'Neutral Score', 'Negative Score', 'Positive Score',\n",
       "       'estado', 'reintegrado', 'duracionActivoI', 'duracionActivoF',\n",
       "       'incrementoCuota', 'diaPago'],\n",
       "      dtype='object')"
      ]
     },
     "execution_count": 111,
     "metadata": {},
     "output_type": "execute_result"
    }
   ],
   "source": [
    "data = data.rename(columns={\"LocalidadVenta\": \"localidadVenta\"})\n",
    "data.columns\n"
   ]
  },
  {
   "attachments": {},
   "cell_type": "markdown",
   "metadata": {},
   "source": [
    "Nivel socio economico"
   ]
  },
  {
   "cell_type": "code",
   "execution_count": 112,
   "metadata": {},
   "outputs": [
    {
     "data": {
      "text/html": [
       "<div>\n",
       "<style scoped>\n",
       "    .dataframe tbody tr th:only-of-type {\n",
       "        vertical-align: middle;\n",
       "    }\n",
       "\n",
       "    .dataframe tbody tr th {\n",
       "        vertical-align: top;\n",
       "    }\n",
       "\n",
       "    .dataframe thead th {\n",
       "        text-align: right;\n",
       "    }\n",
       "</style>\n",
       "<table border=\"1\" class=\"dataframe\">\n",
       "  <thead>\n",
       "    <tr style=\"text-align: right;\">\n",
       "      <th></th>\n",
       "      <th>CodigoPrograma</th>\n",
       "    </tr>\n",
       "    <tr>\n",
       "      <th>Nivel Socio Economico</th>\n",
       "      <th></th>\n",
       "    </tr>\n",
       "  </thead>\n",
       "  <tbody>\n",
       "    <tr>\n",
       "      <th>0.0</th>\n",
       "      <td>547</td>\n",
       "    </tr>\n",
       "    <tr>\n",
       "      <th>1.0</th>\n",
       "      <td>357</td>\n",
       "    </tr>\n",
       "    <tr>\n",
       "      <th>2.0</th>\n",
       "      <td>921</td>\n",
       "    </tr>\n",
       "    <tr>\n",
       "      <th>3.0</th>\n",
       "      <td>1208</td>\n",
       "    </tr>\n",
       "    <tr>\n",
       "      <th>4.0</th>\n",
       "      <td>317</td>\n",
       "    </tr>\n",
       "    <tr>\n",
       "      <th>5.0</th>\n",
       "      <td>35</td>\n",
       "    </tr>\n",
       "    <tr>\n",
       "      <th>6.0</th>\n",
       "      <td>60</td>\n",
       "    </tr>\n",
       "  </tbody>\n",
       "</table>\n",
       "</div>"
      ],
      "text/plain": [
       "                       CodigoPrograma\n",
       "Nivel Socio Economico                \n",
       "0.0                               547\n",
       "1.0                               357\n",
       "2.0                               921\n",
       "3.0                              1208\n",
       "4.0                               317\n",
       "5.0                                35\n",
       "6.0                                60"
      ]
     },
     "execution_count": 112,
     "metadata": {},
     "output_type": "execute_result"
    }
   ],
   "source": [
    "data[[\"Nivel Socio Economico\", \"CodigoPrograma\"]\n",
    "     ].groupby(\"Nivel Socio Economico\").count()\n"
   ]
  },
  {
   "attachments": {},
   "cell_type": "markdown",
   "metadata": {},
   "source": [
    "Esta variable presenta campos nulos en casi una tercera parte de los registros, no sería buena alternativa eliminar los registros, no podemos imputar la moda de este porque podría tener un impacto significativo, esto viene relacionado con que no tenemos los datos de longitud y latitud de las variables. Para no llenar los valores con 0 que sería nuestra alternativa final, haremos una agrupación por profesión del tomador para mirar que datos podríamos llenar teniendo en cuenta su profesión"
   ]
  },
  {
   "cell_type": "code",
   "execution_count": 113,
   "metadata": {},
   "outputs": [
    {
     "data": {
      "text/html": [
       "<div>\n",
       "<style scoped>\n",
       "    .dataframe tbody tr th:only-of-type {\n",
       "        vertical-align: middle;\n",
       "    }\n",
       "\n",
       "    .dataframe tbody tr th {\n",
       "        vertical-align: top;\n",
       "    }\n",
       "\n",
       "    .dataframe thead th {\n",
       "        text-align: right;\n",
       "    }\n",
       "</style>\n",
       "<table border=\"1\" class=\"dataframe\">\n",
       "  <thead>\n",
       "    <tr style=\"text-align: right;\">\n",
       "      <th></th>\n",
       "      <th>Nivel Socio Economico</th>\n",
       "    </tr>\n",
       "    <tr>\n",
       "      <th>profesion_tomador</th>\n",
       "      <th></th>\n",
       "    </tr>\n",
       "  </thead>\n",
       "  <tbody>\n",
       "    <tr>\n",
       "      <th>Abogado (a)</th>\n",
       "      <td>3.0</td>\n",
       "    </tr>\n",
       "    <tr>\n",
       "      <th>Administrador (a)</th>\n",
       "      <td>3.0</td>\n",
       "    </tr>\n",
       "    <tr>\n",
       "      <th>Agente</th>\n",
       "      <td>3.0</td>\n",
       "    </tr>\n",
       "    <tr>\n",
       "      <th>Agricultor</th>\n",
       "      <td>0.0</td>\n",
       "    </tr>\n",
       "    <tr>\n",
       "      <th>Agronomo</th>\n",
       "      <td>3.0</td>\n",
       "    </tr>\n",
       "    <tr>\n",
       "      <th>...</th>\n",
       "      <td>...</td>\n",
       "    </tr>\n",
       "    <tr>\n",
       "      <th>Trabajador Social</th>\n",
       "      <td>3.0</td>\n",
       "    </tr>\n",
       "    <tr>\n",
       "      <th>Transportador</th>\n",
       "      <td>3.0</td>\n",
       "    </tr>\n",
       "    <tr>\n",
       "      <th>Vendedor (a)</th>\n",
       "      <td>3.0</td>\n",
       "    </tr>\n",
       "    <tr>\n",
       "      <th>Veterinario (a)</th>\n",
       "      <td>3.0</td>\n",
       "    </tr>\n",
       "    <tr>\n",
       "      <th>Vigilante (a)</th>\n",
       "      <td>2.0</td>\n",
       "    </tr>\n",
       "  </tbody>\n",
       "</table>\n",
       "<p>84 rows × 1 columns</p>\n",
       "</div>"
      ],
      "text/plain": [
       "                   Nivel Socio Economico\n",
       "profesion_tomador                       \n",
       "Abogado (a)                          3.0\n",
       "Administrador (a)                    3.0\n",
       "Agente                               3.0\n",
       "Agricultor                           0.0\n",
       "Agronomo                             3.0\n",
       "...                                  ...\n",
       "Trabajador Social                    3.0\n",
       "Transportador                        3.0\n",
       "Vendedor (a)                         3.0\n",
       "Veterinario (a)                      3.0\n",
       "Vigilante (a)                        2.0\n",
       "\n",
       "[84 rows x 1 columns]"
      ]
     },
     "execution_count": 113,
     "metadata": {},
     "output_type": "execute_result"
    }
   ],
   "source": [
    "imputar = data[[\"Nivel Socio Economico\", \"profesion_tomador\"]\n",
    "               ].dropna().groupby(\"profesion_tomador\").agg(pd.Series.mode)\n",
    "imputar[\"Nivel Socio Economico\"] = imputar[\"Nivel Socio Economico\"].apply(\n",
    "    lambda x: x[1] if type(x) is np.ndarray else x)\n",
    "imputar = imputar.dropna()\n",
    "imputar"
   ]
  },
  {
   "cell_type": "code",
   "execution_count": 114,
   "metadata": {},
   "outputs": [],
   "source": [
    "data = data.reset_index().drop(\"index\", axis=1) #reset index\n",
    "data = data.fillna(np.nan)\n"
   ]
  },
  {
   "cell_type": "code",
   "execution_count": 115,
   "metadata": {},
   "outputs": [],
   "source": [
    "def imputar_valor(row, columna_imputar, columna_imputacion, df_imputacion):\n",
    "    if pd.notnull(row[columna_imputar]) or pd.isnull(row[columna_imputacion])\\\n",
    "            or row[columna_imputacion] not in df_imputacion.index:\n",
    "        return row[columna_imputar]\n",
    "    else:\n",
    "        return df_imputacion.loc[row[columna_imputacion]][columna_imputar]\n"
   ]
  },
  {
   "cell_type": "code",
   "execution_count": 116,
   "metadata": {},
   "outputs": [],
   "source": [
    "data[\"nivelEconomico\"] = data.apply(lambda row:\n",
    "                                    imputar_valor(row, \"Nivel Socio Economico\",\n",
    "                                                  \"profesion_tomador\", imputar), axis=1)\n"
   ]
  },
  {
   "cell_type": "code",
   "execution_count": 117,
   "metadata": {},
   "outputs": [
    {
     "data": {
      "text/plain": [
       "3105"
      ]
     },
     "execution_count": 117,
     "metadata": {},
     "output_type": "execute_result"
    }
   ],
   "source": [
    "data[\"nivelEconomico\"].isna().sum()"
   ]
  },
  {
   "cell_type": "code",
   "execution_count": 118,
   "metadata": {},
   "outputs": [
    {
     "data": {
      "text/plain": [
       "4819"
      ]
     },
     "execution_count": 118,
     "metadata": {},
     "output_type": "execute_result"
    }
   ],
   "source": [
    "data[\"Nivel Socio Economico\"].isna().sum()  # Cantidad de registros\n"
   ]
  },
  {
   "cell_type": "code",
   "execution_count": 119,
   "metadata": {},
   "outputs": [
    {
     "data": {
      "text/html": [
       "<div>\n",
       "<style scoped>\n",
       "    .dataframe tbody tr th:only-of-type {\n",
       "        vertical-align: middle;\n",
       "    }\n",
       "\n",
       "    .dataframe tbody tr th {\n",
       "        vertical-align: top;\n",
       "    }\n",
       "\n",
       "    .dataframe thead th {\n",
       "        text-align: right;\n",
       "    }\n",
       "</style>\n",
       "<table border=\"1\" class=\"dataframe\">\n",
       "  <thead>\n",
       "    <tr style=\"text-align: right;\">\n",
       "      <th></th>\n",
       "      <th>CodigoPrograma</th>\n",
       "    </tr>\n",
       "    <tr>\n",
       "      <th>nivelEconomico</th>\n",
       "      <th></th>\n",
       "    </tr>\n",
       "  </thead>\n",
       "  <tbody>\n",
       "    <tr>\n",
       "      <th>0.0</th>\n",
       "      <td>691</td>\n",
       "    </tr>\n",
       "    <tr>\n",
       "      <th>1.0</th>\n",
       "      <td>365</td>\n",
       "    </tr>\n",
       "    <tr>\n",
       "      <th>2.0</th>\n",
       "      <td>1068</td>\n",
       "    </tr>\n",
       "    <tr>\n",
       "      <th>3.0</th>\n",
       "      <td>2623</td>\n",
       "    </tr>\n",
       "    <tr>\n",
       "      <th>4.0</th>\n",
       "      <td>317</td>\n",
       "    </tr>\n",
       "    <tr>\n",
       "      <th>5.0</th>\n",
       "      <td>35</td>\n",
       "    </tr>\n",
       "    <tr>\n",
       "      <th>6.0</th>\n",
       "      <td>60</td>\n",
       "    </tr>\n",
       "  </tbody>\n",
       "</table>\n",
       "</div>"
      ],
      "text/plain": [
       "                CodigoPrograma\n",
       "nivelEconomico                \n",
       "0.0                        691\n",
       "1.0                        365\n",
       "2.0                       1068\n",
       "3.0                       2623\n",
       "4.0                        317\n",
       "5.0                         35\n",
       "6.0                         60"
      ]
     },
     "execution_count": 119,
     "metadata": {},
     "output_type": "execute_result"
    }
   ],
   "source": [
    "data = data.drop(\"Nivel Socio Economico\", axis=1)\n",
    "data[[\"nivelEconomico\", \"CodigoPrograma\"]].groupby(\"nivelEconomico\").count()\n"
   ]
  },
  {
   "attachments": {},
   "cell_type": "markdown",
   "metadata": {},
   "source": [
    "Se logran imputar alrededor de 1000 registros"
   ]
  },
  {
   "cell_type": "code",
   "execution_count": 120,
   "metadata": {},
   "outputs": [
    {
     "data": {
      "text/plain": [
       "Index(['CodigoPrograma', 'tomador', 'edad', 'Qinscritos', 'Qmascotas',\n",
       "       'valorCuota', 'QrecauExitoso', 'QrecauFallido', 'localidadVenta',\n",
       "       'Barrio', 'Localidad', 'Longitud', 'Latitud', 'nom_plan',\n",
       "       'profesion_tomador', 'moda_prof_inscritos', 'moda_parentesco',\n",
       "       'Neutral Score', 'Negative Score', 'Positive Score', 'estado',\n",
       "       'reintegrado', 'duracionActivoI', 'duracionActivoF', 'incrementoCuota',\n",
       "       'diaPago', 'nivelEconomico'],\n",
       "      dtype='object')"
      ]
     },
     "execution_count": 120,
     "metadata": {},
     "output_type": "execute_result"
    }
   ],
   "source": [
    "data.columns\n"
   ]
  },
  {
   "attachments": {},
   "cell_type": "markdown",
   "metadata": {},
   "source": [
    "El barrio y localidad tiene también un numero de nulos cercano al 50%, para imputarlos usaremos la moda de la localidad venta"
   ]
  },
  {
   "cell_type": "code",
   "execution_count": 121,
   "metadata": {},
   "outputs": [
    {
     "data": {
      "text/plain": [
       "4819"
      ]
     },
     "execution_count": 121,
     "metadata": {},
     "output_type": "execute_result"
    }
   ],
   "source": [
    "data[\"Barrio\"].isna().sum()"
   ]
  },
  {
   "cell_type": "code",
   "execution_count": 122,
   "metadata": {},
   "outputs": [
    {
     "data": {
      "text/plain": [
       "4819"
      ]
     },
     "execution_count": 122,
     "metadata": {},
     "output_type": "execute_result"
    }
   ],
   "source": [
    "data[\"Localidad\"].isna().sum()\n"
   ]
  },
  {
   "cell_type": "code",
   "execution_count": 123,
   "metadata": {},
   "outputs": [
    {
     "data": {
      "text/html": [
       "<div>\n",
       "<style scoped>\n",
       "    .dataframe tbody tr th:only-of-type {\n",
       "        vertical-align: middle;\n",
       "    }\n",
       "\n",
       "    .dataframe tbody tr th {\n",
       "        vertical-align: top;\n",
       "    }\n",
       "\n",
       "    .dataframe thead th {\n",
       "        text-align: right;\n",
       "    }\n",
       "</style>\n",
       "<table border=\"1\" class=\"dataframe\">\n",
       "  <thead>\n",
       "    <tr style=\"text-align: right;\">\n",
       "      <th></th>\n",
       "      <th>Barrio</th>\n",
       "    </tr>\n",
       "    <tr>\n",
       "      <th>localidadVenta</th>\n",
       "      <th></th>\n",
       "    </tr>\n",
       "  </thead>\n",
       "  <tbody>\n",
       "    <tr>\n",
       "      <th>Aranzazu</th>\n",
       "      <td>0</td>\n",
       "    </tr>\n",
       "    <tr>\n",
       "      <th>Arauca</th>\n",
       "      <td>LAS AMERICAS</td>\n",
       "    </tr>\n",
       "    <tr>\n",
       "      <th>Bogota</th>\n",
       "      <td>SANTA BARBARA</td>\n",
       "    </tr>\n",
       "    <tr>\n",
       "      <th>Chiquinquira</th>\n",
       "      <td>BOYACÃ</td>\n",
       "    </tr>\n",
       "    <tr>\n",
       "      <th>Dosquebradas</th>\n",
       "      <td>LOS NARANJOS</td>\n",
       "    </tr>\n",
       "    <tr>\n",
       "      <th>Herveo</th>\n",
       "      <td>0</td>\n",
       "    </tr>\n",
       "    <tr>\n",
       "      <th>La Dorada</th>\n",
       "      <td>0</td>\n",
       "    </tr>\n",
       "    <tr>\n",
       "      <th>Manizales</th>\n",
       "      <td>0</td>\n",
       "    </tr>\n",
       "    <tr>\n",
       "      <th>Marquetalia</th>\n",
       "      <td>0</td>\n",
       "    </tr>\n",
       "    <tr>\n",
       "      <th>Marulanda</th>\n",
       "      <td>0</td>\n",
       "    </tr>\n",
       "  </tbody>\n",
       "</table>\n",
       "</div>"
      ],
      "text/plain": [
       "                       Barrio\n",
       "localidadVenta               \n",
       "Aranzazu                    0\n",
       "Arauca           LAS AMERICAS\n",
       "Bogota          SANTA BARBARA\n",
       "Chiquinquira          BOYACÃ\n",
       "Dosquebradas     LOS NARANJOS\n",
       "Herveo                      0\n",
       "La Dorada                   0\n",
       "Manizales                   0\n",
       "Marquetalia                 0\n",
       "Marulanda                   0"
      ]
     },
     "execution_count": 123,
     "metadata": {},
     "output_type": "execute_result"
    }
   ],
   "source": [
    "imputar = data[[\"localidadVenta\", \"Barrio\"]\n",
    "               ].dropna().groupby(\"localidadVenta\").agg(pd.Series.mode)\n",
    "imputar[\"Barrio\"] = imputar[\"Barrio\"].apply(\n",
    "      lambda x: x[1] if type(x) is np.ndarray else x)\n",
    "imputar = imputar.dropna()\n",
    "imputar.head(10)\n"
   ]
  },
  {
   "cell_type": "code",
   "execution_count": 124,
   "metadata": {},
   "outputs": [],
   "source": [
    "data[\"barrio\"] = data.apply(lambda row: imputar_valor(row, \"Barrio\", \"localidadVenta\", imputar), axis=1)\n",
    "data.drop(\"Barrio\", axis=1, inplace=True)\n"
   ]
  },
  {
   "cell_type": "code",
   "execution_count": 125,
   "metadata": {},
   "outputs": [
    {
     "data": {
      "text/plain": [
       "464"
      ]
     },
     "execution_count": 125,
     "metadata": {},
     "output_type": "execute_result"
    }
   ],
   "source": [
    "data[\"barrio\"].isna().sum()\n"
   ]
  },
  {
   "attachments": {},
   "cell_type": "markdown",
   "metadata": {},
   "source": [
    "En este caso logramos imputar gran cantidad de elementos aunque la localidad de la venta es muy general"
   ]
  },
  {
   "cell_type": "code",
   "execution_count": 126,
   "metadata": {},
   "outputs": [
    {
     "data": {
      "text/html": [
       "<div>\n",
       "<style scoped>\n",
       "    .dataframe tbody tr th:only-of-type {\n",
       "        vertical-align: middle;\n",
       "    }\n",
       "\n",
       "    .dataframe tbody tr th {\n",
       "        vertical-align: top;\n",
       "    }\n",
       "\n",
       "    .dataframe thead th {\n",
       "        text-align: right;\n",
       "    }\n",
       "</style>\n",
       "<table border=\"1\" class=\"dataframe\">\n",
       "  <thead>\n",
       "    <tr style=\"text-align: right;\">\n",
       "      <th></th>\n",
       "      <th>Localidad</th>\n",
       "    </tr>\n",
       "    <tr>\n",
       "      <th>localidadVenta</th>\n",
       "      <th></th>\n",
       "    </tr>\n",
       "  </thead>\n",
       "  <tbody>\n",
       "    <tr>\n",
       "      <th>Aranzazu</th>\n",
       "      <td>0</td>\n",
       "    </tr>\n",
       "    <tr>\n",
       "      <th>Arauca</th>\n",
       "      <td>0</td>\n",
       "    </tr>\n",
       "  </tbody>\n",
       "</table>\n",
       "</div>"
      ],
      "text/plain": [
       "               Localidad\n",
       "localidadVenta          \n",
       "Aranzazu               0\n",
       "Arauca                 0"
      ]
     },
     "execution_count": 126,
     "metadata": {},
     "output_type": "execute_result"
    }
   ],
   "source": [
    "imputar = data[[\"localidadVenta\", \"Localidad\"]\n",
    "               ].dropna().groupby(\"localidadVenta\").agg(pd.Series.mode)\n",
    "imputar\n",
    "imputar[\"Localidad\"] = imputar[\"Localidad\"].apply(\n",
    "    lambda x: x[1] if type(x) is np.ndarray else x)\n",
    "imputar = imputar.dropna()\n",
    "imputar.head(2)\n"
   ]
  },
  {
   "cell_type": "code",
   "execution_count": 127,
   "metadata": {},
   "outputs": [
    {
     "data": {
      "text/plain": [
       "0"
      ]
     },
     "execution_count": 127,
     "metadata": {},
     "output_type": "execute_result"
    }
   ],
   "source": [
    "data[\"localidad\"] = data.apply(lambda row: imputar_valor(\n",
    "    row, \"localidadVenta\", \"Localidad\", imputar), axis=1)\n",
    "data = data.drop(\"Localidad\", axis=1)\n",
    "data[\"localidad\"].isna().sum()\n"
   ]
  },
  {
   "cell_type": "code",
   "execution_count": 128,
   "metadata": {},
   "outputs": [
    {
     "data": {
      "text/html": [
       "<div>\n",
       "<style scoped>\n",
       "    .dataframe tbody tr th:only-of-type {\n",
       "        vertical-align: middle;\n",
       "    }\n",
       "\n",
       "    .dataframe tbody tr th {\n",
       "        vertical-align: top;\n",
       "    }\n",
       "\n",
       "    .dataframe thead th {\n",
       "        text-align: right;\n",
       "    }\n",
       "</style>\n",
       "<table border=\"1\" class=\"dataframe\">\n",
       "  <thead>\n",
       "    <tr style=\"text-align: right;\">\n",
       "      <th></th>\n",
       "      <th>CodigoPrograma</th>\n",
       "    </tr>\n",
       "    <tr>\n",
       "      <th>barrio</th>\n",
       "      <th></th>\n",
       "    </tr>\n",
       "  </thead>\n",
       "  <tbody>\n",
       "    <tr>\n",
       "      <th>0</th>\n",
       "      <td>4261</td>\n",
       "    </tr>\n",
       "    <tr>\n",
       "      <th>11 DE NOVIEMBRE</th>\n",
       "      <td>5</td>\n",
       "    </tr>\n",
       "    <tr>\n",
       "      <th>20 DE JULIO</th>\n",
       "      <td>27</td>\n",
       "    </tr>\n",
       "    <tr>\n",
       "      <th>A.S.D.</th>\n",
       "      <td>5</td>\n",
       "    </tr>\n",
       "    <tr>\n",
       "      <th>AEROPUERTO EL DORADO</th>\n",
       "      <td>1</td>\n",
       "    </tr>\n",
       "    <tr>\n",
       "      <th>...</th>\n",
       "      <td>...</td>\n",
       "    </tr>\n",
       "    <tr>\n",
       "      <th>VIVEROS</th>\n",
       "      <td>16</td>\n",
       "    </tr>\n",
       "    <tr>\n",
       "      <th>VOTO NACIONAL</th>\n",
       "      <td>2</td>\n",
       "    </tr>\n",
       "    <tr>\n",
       "      <th>ZONA INDUSTRIAL</th>\n",
       "      <td>1</td>\n",
       "    </tr>\n",
       "    <tr>\n",
       "      <th>ZONA INDUSTRIAL LA ROSA</th>\n",
       "      <td>1</td>\n",
       "    </tr>\n",
       "    <tr>\n",
       "      <th>ZONA INDUSTRIAL N.D.</th>\n",
       "      <td>1</td>\n",
       "    </tr>\n",
       "  </tbody>\n",
       "</table>\n",
       "<p>358 rows × 1 columns</p>\n",
       "</div>"
      ],
      "text/plain": [
       "                         CodigoPrograma\n",
       "barrio                                 \n",
       "0                                  4261\n",
       "11 DE NOVIEMBRE                       5\n",
       "20 DE JULIO                          27\n",
       "A.S.D.                                5\n",
       "AEROPUERTO EL DORADO                  1\n",
       "...                                 ...\n",
       "VIVEROS                              16\n",
       "VOTO NACIONAL                         2\n",
       "ZONA INDUSTRIAL                       1\n",
       "ZONA INDUSTRIAL LA ROSA               1\n",
       "ZONA INDUSTRIAL N.D.                  1\n",
       "\n",
       "[358 rows x 1 columns]"
      ]
     },
     "execution_count": 128,
     "metadata": {},
     "output_type": "execute_result"
    }
   ],
   "source": [
    "data[[\"barrio\", \"CodigoPrograma\"]].groupby(\"barrio\").count()\n"
   ]
  },
  {
   "cell_type": "code",
   "execution_count": 129,
   "metadata": {},
   "outputs": [
    {
     "data": {
      "text/html": [
       "<div>\n",
       "<style scoped>\n",
       "    .dataframe tbody tr th:only-of-type {\n",
       "        vertical-align: middle;\n",
       "    }\n",
       "\n",
       "    .dataframe tbody tr th {\n",
       "        vertical-align: top;\n",
       "    }\n",
       "\n",
       "    .dataframe thead th {\n",
       "        text-align: right;\n",
       "    }\n",
       "</style>\n",
       "<table border=\"1\" class=\"dataframe\">\n",
       "  <thead>\n",
       "    <tr style=\"text-align: right;\">\n",
       "      <th></th>\n",
       "      <th>CodigoPrograma</th>\n",
       "    </tr>\n",
       "    <tr>\n",
       "      <th>localidad</th>\n",
       "      <th></th>\n",
       "    </tr>\n",
       "  </thead>\n",
       "  <tbody>\n",
       "    <tr>\n",
       "      <th>Aranzazu</th>\n",
       "      <td>46</td>\n",
       "    </tr>\n",
       "    <tr>\n",
       "      <th>Arauca</th>\n",
       "      <td>45</td>\n",
       "    </tr>\n",
       "    <tr>\n",
       "      <th>Bogota</th>\n",
       "      <td>307</td>\n",
       "    </tr>\n",
       "    <tr>\n",
       "      <th>Call Center Manizales</th>\n",
       "      <td>36</td>\n",
       "    </tr>\n",
       "    <tr>\n",
       "      <th>Chiquinquira</th>\n",
       "      <td>314</td>\n",
       "    </tr>\n",
       "    <tr>\n",
       "      <th>Dosquebradas</th>\n",
       "      <td>343</td>\n",
       "    </tr>\n",
       "    <tr>\n",
       "      <th>Herveo</th>\n",
       "      <td>12</td>\n",
       "    </tr>\n",
       "    <tr>\n",
       "      <th>Kennedy</th>\n",
       "      <td>269</td>\n",
       "    </tr>\n",
       "    <tr>\n",
       "      <th>La Dorada</th>\n",
       "      <td>335</td>\n",
       "    </tr>\n",
       "    <tr>\n",
       "      <th>Manizales</th>\n",
       "      <td>5486</td>\n",
       "    </tr>\n",
       "    <tr>\n",
       "      <th>Marquetalia</th>\n",
       "      <td>39</td>\n",
       "    </tr>\n",
       "    <tr>\n",
       "      <th>Marulanda</th>\n",
       "      <td>8</td>\n",
       "    </tr>\n",
       "    <tr>\n",
       "      <th>Pensilvania</th>\n",
       "      <td>39</td>\n",
       "    </tr>\n",
       "    <tr>\n",
       "      <th>Promotora La Aurora S.A.S. Sin Oficina</th>\n",
       "      <td>157</td>\n",
       "    </tr>\n",
       "    <tr>\n",
       "      <th>Puerto Venus</th>\n",
       "      <td>2</td>\n",
       "    </tr>\n",
       "    <tr>\n",
       "      <th>Restrepo</th>\n",
       "      <td>235</td>\n",
       "    </tr>\n",
       "    <tr>\n",
       "      <th>Tequendama</th>\n",
       "      <td>456</td>\n",
       "    </tr>\n",
       "    <tr>\n",
       "      <th>Tunja</th>\n",
       "      <td>41</td>\n",
       "    </tr>\n",
       "    <tr>\n",
       "      <th>Ubate</th>\n",
       "      <td>94</td>\n",
       "    </tr>\n",
       "  </tbody>\n",
       "</table>\n",
       "</div>"
      ],
      "text/plain": [
       "                                        CodigoPrograma\n",
       "localidad                                             \n",
       "Aranzazu                                            46\n",
       "Arauca                                              45\n",
       "Bogota                                             307\n",
       "Call Center Manizales                               36\n",
       "Chiquinquira                                       314\n",
       "Dosquebradas                                       343\n",
       "Herveo                                              12\n",
       "Kennedy                                            269\n",
       "La Dorada                                          335\n",
       "Manizales                                         5486\n",
       "Marquetalia                                         39\n",
       "Marulanda                                            8\n",
       "Pensilvania                                         39\n",
       "Promotora La Aurora S.A.S. Sin Oficina             157\n",
       "Puerto Venus                                         2\n",
       "Restrepo                                           235\n",
       "Tequendama                                         456\n",
       "Tunja                                               41\n",
       "Ubate                                               94"
      ]
     },
     "execution_count": 129,
     "metadata": {},
     "output_type": "execute_result"
    }
   ],
   "source": [
    "data[[\"localidad\", \"CodigoPrograma\"]].groupby(\"localidad\").count()\n"
   ]
  },
  {
   "cell_type": "code",
   "execution_count": 130,
   "metadata": {},
   "outputs": [
    {
     "data": {
      "text/plain": [
       "<AxesSubplot:ylabel='Frequency'>"
      ]
     },
     "execution_count": 130,
     "metadata": {},
     "output_type": "execute_result"
    },
    {
     "data": {
      "image/png": "[encoded data removed]",
      "text/plain": [
       "<Figure size 432x288 with 1 Axes>"
      ]
     },
     "metadata": {
      "needs_background": "light"
     },
     "output_type": "display_data"
    }
   ],
   "source": [
    "data[\"nivelEconomico\"].plot.hist(bins=20)\n"
   ]
  },
  {
   "attachments": {},
   "cell_type": "markdown",
   "metadata": {},
   "source": [
    "El nivel socio economico medio y bajo contiene a la mayoría de los programas, mientras que en los altos se evidencia menor afiliación a los planes exequiales"
   ]
  },
  {
   "cell_type": "code",
   "execution_count": 131,
   "metadata": {},
   "outputs": [
    {
     "data": {
      "text/html": [
       "<div>\n",
       "<style scoped>\n",
       "    .dataframe tbody tr th:only-of-type {\n",
       "        vertical-align: middle;\n",
       "    }\n",
       "\n",
       "    .dataframe tbody tr th {\n",
       "        vertical-align: top;\n",
       "    }\n",
       "\n",
       "    .dataframe thead th {\n",
       "        text-align: right;\n",
       "    }\n",
       "</style>\n",
       "<table border=\"1\" class=\"dataframe\">\n",
       "  <thead>\n",
       "    <tr style=\"text-align: right;\">\n",
       "      <th></th>\n",
       "      <th>CodigoPrograma</th>\n",
       "    </tr>\n",
       "    <tr>\n",
       "      <th>barrio</th>\n",
       "      <th></th>\n",
       "    </tr>\n",
       "  </thead>\n",
       "  <tbody>\n",
       "    <tr>\n",
       "      <th>LAS MARGARITAS</th>\n",
       "      <td>1</td>\n",
       "    </tr>\n",
       "    <tr>\n",
       "      <th>LUNAPARK</th>\n",
       "      <td>1</td>\n",
       "    </tr>\n",
       "    <tr>\n",
       "      <th>MARTILLO MODELO</th>\n",
       "      <td>1</td>\n",
       "    </tr>\n",
       "    <tr>\n",
       "      <th>MERCURIO</th>\n",
       "      <td>1</td>\n",
       "    </tr>\n",
       "    <tr>\n",
       "      <th>MINUTO DE DIOS</th>\n",
       "      <td>1</td>\n",
       "    </tr>\n",
       "    <tr>\n",
       "      <th>...</th>\n",
       "      <td>...</td>\n",
       "    </tr>\n",
       "    <tr>\n",
       "      <th>LAS AMERICAS</th>\n",
       "      <td>94</td>\n",
       "    </tr>\n",
       "    <tr>\n",
       "      <th>BOYACÃ</th>\n",
       "      <td>176</td>\n",
       "    </tr>\n",
       "    <tr>\n",
       "      <th>SANTA BARBARA</th>\n",
       "      <td>184</td>\n",
       "    </tr>\n",
       "    <tr>\n",
       "      <th>LOS NARANJOS</th>\n",
       "      <td>191</td>\n",
       "    </tr>\n",
       "    <tr>\n",
       "      <th>0</th>\n",
       "      <td>4261</td>\n",
       "    </tr>\n",
       "  </tbody>\n",
       "</table>\n",
       "<p>358 rows × 1 columns</p>\n",
       "</div>"
      ],
      "text/plain": [
       "                 CodigoPrograma\n",
       "barrio                         \n",
       "LAS MARGARITAS                1\n",
       "LUNAPARK                      1\n",
       "MARTILLO MODELO               1\n",
       "MERCURIO                      1\n",
       "MINUTO DE DIOS                1\n",
       "...                         ...\n",
       "LAS AMERICAS                 94\n",
       "BOYACÃ                     176\n",
       "SANTA BARBARA               184\n",
       "LOS NARANJOS                191\n",
       "0                          4261\n",
       "\n",
       "[358 rows x 1 columns]"
      ]
     },
     "execution_count": 131,
     "metadata": {},
     "output_type": "execute_result"
    }
   ],
   "source": [
    "data[[\"barrio\", \"CodigoPrograma\"]].groupby(\n",
    "    \"barrio\").count().sort_values(\"CodigoPrograma\")\n"
   ]
  },
  {
   "cell_type": "code",
   "execution_count": 132,
   "metadata": {},
   "outputs": [
    {
     "data": {
      "text/html": [
       "<div>\n",
       "<style scoped>\n",
       "    .dataframe tbody tr th:only-of-type {\n",
       "        vertical-align: middle;\n",
       "    }\n",
       "\n",
       "    .dataframe tbody tr th {\n",
       "        vertical-align: top;\n",
       "    }\n",
       "\n",
       "    .dataframe thead th {\n",
       "        text-align: right;\n",
       "    }\n",
       "</style>\n",
       "<table border=\"1\" class=\"dataframe\">\n",
       "  <thead>\n",
       "    <tr style=\"text-align: right;\">\n",
       "      <th></th>\n",
       "      <th>CodigoPrograma</th>\n",
       "    </tr>\n",
       "    <tr>\n",
       "      <th>localidad</th>\n",
       "      <th></th>\n",
       "    </tr>\n",
       "  </thead>\n",
       "  <tbody>\n",
       "    <tr>\n",
       "      <th>Puerto Venus</th>\n",
       "      <td>2</td>\n",
       "    </tr>\n",
       "    <tr>\n",
       "      <th>Marulanda</th>\n",
       "      <td>8</td>\n",
       "    </tr>\n",
       "    <tr>\n",
       "      <th>Herveo</th>\n",
       "      <td>12</td>\n",
       "    </tr>\n",
       "    <tr>\n",
       "      <th>Call Center Manizales</th>\n",
       "      <td>36</td>\n",
       "    </tr>\n",
       "    <tr>\n",
       "      <th>Pensilvania</th>\n",
       "      <td>39</td>\n",
       "    </tr>\n",
       "    <tr>\n",
       "      <th>Marquetalia</th>\n",
       "      <td>39</td>\n",
       "    </tr>\n",
       "    <tr>\n",
       "      <th>Tunja</th>\n",
       "      <td>41</td>\n",
       "    </tr>\n",
       "    <tr>\n",
       "      <th>Arauca</th>\n",
       "      <td>45</td>\n",
       "    </tr>\n",
       "    <tr>\n",
       "      <th>Aranzazu</th>\n",
       "      <td>46</td>\n",
       "    </tr>\n",
       "    <tr>\n",
       "      <th>Ubate</th>\n",
       "      <td>94</td>\n",
       "    </tr>\n",
       "    <tr>\n",
       "      <th>Promotora La Aurora S.A.S. Sin Oficina</th>\n",
       "      <td>157</td>\n",
       "    </tr>\n",
       "    <tr>\n",
       "      <th>Restrepo</th>\n",
       "      <td>235</td>\n",
       "    </tr>\n",
       "    <tr>\n",
       "      <th>Kennedy</th>\n",
       "      <td>269</td>\n",
       "    </tr>\n",
       "    <tr>\n",
       "      <th>Bogota</th>\n",
       "      <td>307</td>\n",
       "    </tr>\n",
       "    <tr>\n",
       "      <th>Chiquinquira</th>\n",
       "      <td>314</td>\n",
       "    </tr>\n",
       "    <tr>\n",
       "      <th>La Dorada</th>\n",
       "      <td>335</td>\n",
       "    </tr>\n",
       "    <tr>\n",
       "      <th>Dosquebradas</th>\n",
       "      <td>343</td>\n",
       "    </tr>\n",
       "    <tr>\n",
       "      <th>Tequendama</th>\n",
       "      <td>456</td>\n",
       "    </tr>\n",
       "    <tr>\n",
       "      <th>Manizales</th>\n",
       "      <td>5486</td>\n",
       "    </tr>\n",
       "  </tbody>\n",
       "</table>\n",
       "</div>"
      ],
      "text/plain": [
       "                                        CodigoPrograma\n",
       "localidad                                             \n",
       "Puerto Venus                                         2\n",
       "Marulanda                                            8\n",
       "Herveo                                              12\n",
       "Call Center Manizales                               36\n",
       "Pensilvania                                         39\n",
       "Marquetalia                                         39\n",
       "Tunja                                               41\n",
       "Arauca                                              45\n",
       "Aranzazu                                            46\n",
       "Ubate                                               94\n",
       "Promotora La Aurora S.A.S. Sin Oficina             157\n",
       "Restrepo                                           235\n",
       "Kennedy                                            269\n",
       "Bogota                                             307\n",
       "Chiquinquira                                       314\n",
       "La Dorada                                          335\n",
       "Dosquebradas                                       343\n",
       "Tequendama                                         456\n",
       "Manizales                                         5486"
      ]
     },
     "execution_count": 132,
     "metadata": {},
     "output_type": "execute_result"
    }
   ],
   "source": [
    "data[[\"localidad\", \"CodigoPrograma\"]].groupby(\n",
    "    \"localidad\").count().sort_values(\"CodigoPrograma\")\n"
   ]
  },
  {
   "attachments": {},
   "cell_type": "markdown",
   "metadata": {},
   "source": [
    "Gran cantidad de personas ubicadas en Manizales, seguido por una 5 parte en Tequendama"
   ]
  },
  {
   "cell_type": "code",
   "execution_count": 133,
   "metadata": {},
   "outputs": [
    {
     "data": {
      "text/plain": [
       "Index(['CodigoPrograma', 'tomador', 'edad', 'Qinscritos', 'Qmascotas',\n",
       "       'valorCuota', 'QrecauExitoso', 'QrecauFallido', 'localidadVenta',\n",
       "       'Longitud', 'Latitud', 'nom_plan', 'profesion_tomador',\n",
       "       'moda_prof_inscritos', 'moda_parentesco', 'Neutral Score',\n",
       "       'Negative Score', 'Positive Score', 'estado', 'reintegrado',\n",
       "       'duracionActivoI', 'duracionActivoF', 'incrementoCuota', 'diaPago',\n",
       "       'nivelEconomico', 'barrio', 'localidad'],\n",
       "      dtype='object')"
      ]
     },
     "execution_count": 133,
     "metadata": {},
     "output_type": "execute_result"
    }
   ],
   "source": [
    "data.columns"
   ]
  },
  {
   "cell_type": "code",
   "execution_count": 134,
   "metadata": {},
   "outputs": [
    {
     "data": {
      "text/plain": [
       "3036"
      ]
     },
     "execution_count": 134,
     "metadata": {},
     "output_type": "execute_result"
    }
   ],
   "source": [
    "data[\"Longitud\"].isna().sum()"
   ]
  },
  {
   "attachments": {},
   "cell_type": "markdown",
   "metadata": {},
   "source": [
    "Los valores de longitud y latitud son un poco más complicados de imputar, por tal razón,tendremos en cuenta la localidad para estos 3036 registros y buscaremos su centroide principal"
   ]
  },
  {
   "cell_type": "code",
   "execution_count": 135,
   "metadata": {},
   "outputs": [
    {
     "data": {
      "text/html": [
       "<div>\n",
       "<style scoped>\n",
       "    .dataframe tbody tr th:only-of-type {\n",
       "        vertical-align: middle;\n",
       "    }\n",
       "\n",
       "    .dataframe tbody tr th {\n",
       "        vertical-align: top;\n",
       "    }\n",
       "\n",
       "    .dataframe thead th {\n",
       "        text-align: right;\n",
       "    }\n",
       "</style>\n",
       "<table border=\"1\" class=\"dataframe\">\n",
       "  <thead>\n",
       "    <tr style=\"text-align: right;\">\n",
       "      <th></th>\n",
       "      <th>localidad</th>\n",
       "      <th>Latitud</th>\n",
       "      <th>Longitud</th>\n",
       "    </tr>\n",
       "  </thead>\n",
       "  <tbody>\n",
       "    <tr>\n",
       "      <th>9</th>\n",
       "      <td>La Dorada</td>\n",
       "      <td>NaN</td>\n",
       "      <td>NaN</td>\n",
       "    </tr>\n",
       "    <tr>\n",
       "      <th>12</th>\n",
       "      <td>Manizales</td>\n",
       "      <td>NaN</td>\n",
       "      <td>NaN</td>\n",
       "    </tr>\n",
       "    <tr>\n",
       "      <th>221</th>\n",
       "      <td>Marquetalia</td>\n",
       "      <td>NaN</td>\n",
       "      <td>NaN</td>\n",
       "    </tr>\n",
       "    <tr>\n",
       "      <th>791</th>\n",
       "      <td>Arauca</td>\n",
       "      <td>NaN</td>\n",
       "      <td>NaN</td>\n",
       "    </tr>\n",
       "    <tr>\n",
       "      <th>874</th>\n",
       "      <td>Dosquebradas</td>\n",
       "      <td>NaN</td>\n",
       "      <td>NaN</td>\n",
       "    </tr>\n",
       "    <tr>\n",
       "      <th>927</th>\n",
       "      <td>Kennedy</td>\n",
       "      <td>NaN</td>\n",
       "      <td>NaN</td>\n",
       "    </tr>\n",
       "    <tr>\n",
       "      <th>1075</th>\n",
       "      <td>Chiquinquira</td>\n",
       "      <td>NaN</td>\n",
       "      <td>NaN</td>\n",
       "    </tr>\n",
       "    <tr>\n",
       "      <th>1308</th>\n",
       "      <td>Restrepo</td>\n",
       "      <td>NaN</td>\n",
       "      <td>NaN</td>\n",
       "    </tr>\n",
       "    <tr>\n",
       "      <th>1499</th>\n",
       "      <td>Tequendama</td>\n",
       "      <td>NaN</td>\n",
       "      <td>NaN</td>\n",
       "    </tr>\n",
       "    <tr>\n",
       "      <th>1573</th>\n",
       "      <td>Bogota</td>\n",
       "      <td>NaN</td>\n",
       "      <td>NaN</td>\n",
       "    </tr>\n",
       "    <tr>\n",
       "      <th>2212</th>\n",
       "      <td>Ubate</td>\n",
       "      <td>NaN</td>\n",
       "      <td>NaN</td>\n",
       "    </tr>\n",
       "    <tr>\n",
       "      <th>2420</th>\n",
       "      <td>Aranzazu</td>\n",
       "      <td>NaN</td>\n",
       "      <td>NaN</td>\n",
       "    </tr>\n",
       "    <tr>\n",
       "      <th>2480</th>\n",
       "      <td>Tunja</td>\n",
       "      <td>NaN</td>\n",
       "      <td>NaN</td>\n",
       "    </tr>\n",
       "    <tr>\n",
       "      <th>2854</th>\n",
       "      <td>Pensilvania</td>\n",
       "      <td>NaN</td>\n",
       "      <td>NaN</td>\n",
       "    </tr>\n",
       "    <tr>\n",
       "      <th>3743</th>\n",
       "      <td>Promotora La Aurora S.A.S. Sin Oficina</td>\n",
       "      <td>NaN</td>\n",
       "      <td>NaN</td>\n",
       "    </tr>\n",
       "    <tr>\n",
       "      <th>4265</th>\n",
       "      <td>Herveo</td>\n",
       "      <td>NaN</td>\n",
       "      <td>NaN</td>\n",
       "    </tr>\n",
       "    <tr>\n",
       "      <th>4866</th>\n",
       "      <td>Call Center Manizales</td>\n",
       "      <td>NaN</td>\n",
       "      <td>NaN</td>\n",
       "    </tr>\n",
       "    <tr>\n",
       "      <th>4958</th>\n",
       "      <td>Puerto Venus</td>\n",
       "      <td>NaN</td>\n",
       "      <td>NaN</td>\n",
       "    </tr>\n",
       "  </tbody>\n",
       "</table>\n",
       "</div>"
      ],
      "text/plain": [
       "                                   localidad  Latitud  Longitud\n",
       "9                                  La Dorada      NaN       NaN\n",
       "12                                 Manizales      NaN       NaN\n",
       "221                              Marquetalia      NaN       NaN\n",
       "791                                   Arauca      NaN       NaN\n",
       "874                             Dosquebradas      NaN       NaN\n",
       "927                                  Kennedy      NaN       NaN\n",
       "1075                            Chiquinquira      NaN       NaN\n",
       "1308                                Restrepo      NaN       NaN\n",
       "1499                              Tequendama      NaN       NaN\n",
       "1573                                  Bogota      NaN       NaN\n",
       "2212                                   Ubate      NaN       NaN\n",
       "2420                                Aranzazu      NaN       NaN\n",
       "2480                                   Tunja      NaN       NaN\n",
       "2854                             Pensilvania      NaN       NaN\n",
       "3743  Promotora La Aurora S.A.S. Sin Oficina      NaN       NaN\n",
       "4265                                  Herveo      NaN       NaN\n",
       "4866                   Call Center Manizales      NaN       NaN\n",
       "4958                            Puerto Venus      NaN       NaN"
      ]
     },
     "execution_count": 135,
     "metadata": {},
     "output_type": "execute_result"
    }
   ],
   "source": [
    "unicos = data[data[\"Longitud\"].isna()][[\"localidad\", \"Latitud\", \"Longitud\"]].drop_duplicates()\n",
    "unicos"
   ]
  },
  {
   "attachments": {},
   "cell_type": "markdown",
   "metadata": {},
   "source": [
    "Promotora la Aurora y Call Center Manizales, serán remplazados por Manizales"
   ]
  },
  {
   "cell_type": "code",
   "execution_count": 136,
   "metadata": {},
   "outputs": [
    {
     "data": {
      "text/html": [
       "<div>\n",
       "<style scoped>\n",
       "    .dataframe tbody tr th:only-of-type {\n",
       "        vertical-align: middle;\n",
       "    }\n",
       "\n",
       "    .dataframe tbody tr th {\n",
       "        vertical-align: top;\n",
       "    }\n",
       "\n",
       "    .dataframe thead th {\n",
       "        text-align: right;\n",
       "    }\n",
       "</style>\n",
       "<table border=\"1\" class=\"dataframe\">\n",
       "  <thead>\n",
       "    <tr style=\"text-align: right;\">\n",
       "      <th></th>\n",
       "      <th>localidad</th>\n",
       "      <th>Latitud</th>\n",
       "      <th>Longitud</th>\n",
       "    </tr>\n",
       "  </thead>\n",
       "  <tbody>\n",
       "    <tr>\n",
       "      <th>9</th>\n",
       "      <td>La Dorada</td>\n",
       "      <td>NaN</td>\n",
       "      <td>NaN</td>\n",
       "    </tr>\n",
       "    <tr>\n",
       "      <th>12</th>\n",
       "      <td>Manizales</td>\n",
       "      <td>NaN</td>\n",
       "      <td>NaN</td>\n",
       "    </tr>\n",
       "    <tr>\n",
       "      <th>221</th>\n",
       "      <td>Marquetalia</td>\n",
       "      <td>NaN</td>\n",
       "      <td>NaN</td>\n",
       "    </tr>\n",
       "    <tr>\n",
       "      <th>791</th>\n",
       "      <td>Arauca</td>\n",
       "      <td>NaN</td>\n",
       "      <td>NaN</td>\n",
       "    </tr>\n",
       "    <tr>\n",
       "      <th>874</th>\n",
       "      <td>Dosquebradas</td>\n",
       "      <td>NaN</td>\n",
       "      <td>NaN</td>\n",
       "    </tr>\n",
       "    <tr>\n",
       "      <th>927</th>\n",
       "      <td>Kennedy</td>\n",
       "      <td>NaN</td>\n",
       "      <td>NaN</td>\n",
       "    </tr>\n",
       "    <tr>\n",
       "      <th>1075</th>\n",
       "      <td>Chiquinquira</td>\n",
       "      <td>NaN</td>\n",
       "      <td>NaN</td>\n",
       "    </tr>\n",
       "    <tr>\n",
       "      <th>1308</th>\n",
       "      <td>Restrepo</td>\n",
       "      <td>NaN</td>\n",
       "      <td>NaN</td>\n",
       "    </tr>\n",
       "    <tr>\n",
       "      <th>1499</th>\n",
       "      <td>Tequendama</td>\n",
       "      <td>NaN</td>\n",
       "      <td>NaN</td>\n",
       "    </tr>\n",
       "    <tr>\n",
       "      <th>1573</th>\n",
       "      <td>Bogota</td>\n",
       "      <td>NaN</td>\n",
       "      <td>NaN</td>\n",
       "    </tr>\n",
       "    <tr>\n",
       "      <th>2212</th>\n",
       "      <td>Ubate</td>\n",
       "      <td>NaN</td>\n",
       "      <td>NaN</td>\n",
       "    </tr>\n",
       "    <tr>\n",
       "      <th>2420</th>\n",
       "      <td>Aranzazu</td>\n",
       "      <td>NaN</td>\n",
       "      <td>NaN</td>\n",
       "    </tr>\n",
       "    <tr>\n",
       "      <th>2480</th>\n",
       "      <td>Tunja</td>\n",
       "      <td>NaN</td>\n",
       "      <td>NaN</td>\n",
       "    </tr>\n",
       "    <tr>\n",
       "      <th>2854</th>\n",
       "      <td>Pensilvania</td>\n",
       "      <td>NaN</td>\n",
       "      <td>NaN</td>\n",
       "    </tr>\n",
       "    <tr>\n",
       "      <th>4265</th>\n",
       "      <td>Herveo</td>\n",
       "      <td>NaN</td>\n",
       "      <td>NaN</td>\n",
       "    </tr>\n",
       "    <tr>\n",
       "      <th>4958</th>\n",
       "      <td>Puerto Venus</td>\n",
       "      <td>NaN</td>\n",
       "      <td>NaN</td>\n",
       "    </tr>\n",
       "  </tbody>\n",
       "</table>\n",
       "</div>"
      ],
      "text/plain": [
       "         localidad  Latitud  Longitud\n",
       "9        La Dorada      NaN       NaN\n",
       "12       Manizales      NaN       NaN\n",
       "221    Marquetalia      NaN       NaN\n",
       "791         Arauca      NaN       NaN\n",
       "874   Dosquebradas      NaN       NaN\n",
       "927        Kennedy      NaN       NaN\n",
       "1075  Chiquinquira      NaN       NaN\n",
       "1308      Restrepo      NaN       NaN\n",
       "1499    Tequendama      NaN       NaN\n",
       "1573        Bogota      NaN       NaN\n",
       "2212         Ubate      NaN       NaN\n",
       "2420      Aranzazu      NaN       NaN\n",
       "2480         Tunja      NaN       NaN\n",
       "2854   Pensilvania      NaN       NaN\n",
       "4265        Herveo      NaN       NaN\n",
       "4958  Puerto Venus      NaN       NaN"
      ]
     },
     "execution_count": 136,
     "metadata": {},
     "output_type": "execute_result"
    }
   ],
   "source": [
    "drop = unicos[(unicos[\"localidad\"] == \"Promotora La Aurora S.A.S. Sin Oficina\") |\n",
    "       (unicos[\"localidad\"] == \"Call Center Manizales\")].index\n",
    "unicos.drop(drop, inplace= True)\n",
    "unicos"
   ]
  },
  {
   "attachments": {},
   "cell_type": "markdown",
   "metadata": {},
   "source": [
    "Usaremos el centroide principal de las ciudades para estos valores vacios"
   ]
  },
  {
   "cell_type": "code",
   "execution_count": 137,
   "metadata": {},
   "outputs": [
    {
     "data": {
      "text/plain": [
       "[5.4544379,\n",
       " 5.0668907,\n",
       " 5.2966038,\n",
       " 6.7940425,\n",
       " 4.8339551,\n",
       " 48.641925,\n",
       " 5.6182733,\n",
       " 4.2615882,\n",
       " 4.60178705,\n",
       " 4.6529539,\n",
       " 5.315719850000001,\n",
       " 43.156731,\n",
       " 5.5324313,\n",
       " 40.9699889,\n",
       " 5.049223,\n",
       " 5.5200484]"
      ]
     },
     "execution_count": 137,
     "metadata": {},
     "output_type": "execute_result"
    }
   ],
   "source": [
    "def get_latitude_longitude(city):\n",
    "    base_url = \"https://nominatim.openstreetmap.org/search\"\n",
    "    params = {\n",
    "        \"q\": city,\n",
    "        \"format\": \"json\",\n",
    "        \"limit\": 1\n",
    "    }\n",
    "\n",
    "    try:\n",
    "        response = requests.get(base_url, params=params)\n",
    "        data = response.json()\n",
    "\n",
    "        if response.status_code == 200 and data:\n",
    "            place = data[0]\n",
    "            latitude = float(place[\"lat\"])\n",
    "            longitude = float(place[\"lon\"])\n",
    "            return latitude, longitude\n",
    "        else:\n",
    "            return None\n",
    "\n",
    "    except requests.exceptions.RequestException as e:\n",
    "        return str(e)\n",
    "\n",
    "\n",
    "latitudes = []\n",
    "longitudes = []\n",
    "for ciudad in unicos[\"localidad\"]:\n",
    "    latitude, longitude = get_latitude_longitude(ciudad)\n",
    "    latitudes.append(latitude)\n",
    "    longitudes.append(longitude)\n",
    "latitudes"
   ]
  },
  {
   "cell_type": "code",
   "execution_count": 138,
   "metadata": {},
   "outputs": [
    {
     "data": {
      "text/html": [
       "<div>\n",
       "<style scoped>\n",
       "    .dataframe tbody tr th:only-of-type {\n",
       "        vertical-align: middle;\n",
       "    }\n",
       "\n",
       "    .dataframe tbody tr th {\n",
       "        vertical-align: top;\n",
       "    }\n",
       "\n",
       "    .dataframe thead th {\n",
       "        text-align: right;\n",
       "    }\n",
       "</style>\n",
       "<table border=\"1\" class=\"dataframe\">\n",
       "  <thead>\n",
       "    <tr style=\"text-align: right;\">\n",
       "      <th></th>\n",
       "      <th>Longitud</th>\n",
       "      <th>Latitud</th>\n",
       "    </tr>\n",
       "    <tr>\n",
       "      <th>localidad</th>\n",
       "      <th></th>\n",
       "      <th></th>\n",
       "    </tr>\n",
       "  </thead>\n",
       "  <tbody>\n",
       "    <tr>\n",
       "      <th>La Dorada</th>\n",
       "      <td>-74.663369</td>\n",
       "      <td>5.454438</td>\n",
       "    </tr>\n",
       "    <tr>\n",
       "      <th>Manizales</th>\n",
       "      <td>-75.506666</td>\n",
       "      <td>5.066891</td>\n",
       "    </tr>\n",
       "    <tr>\n",
       "      <th>Marquetalia</th>\n",
       "      <td>-75.054606</td>\n",
       "      <td>5.296604</td>\n",
       "    </tr>\n",
       "    <tr>\n",
       "      <th>Arauca</th>\n",
       "      <td>-70.496162</td>\n",
       "      <td>6.794042</td>\n",
       "    </tr>\n",
       "    <tr>\n",
       "      <th>Dosquebradas</th>\n",
       "      <td>-75.671301</td>\n",
       "      <td>4.833955</td>\n",
       "    </tr>\n",
       "    <tr>\n",
       "      <th>Kennedy</th>\n",
       "      <td>-96.908948</td>\n",
       "      <td>48.641925</td>\n",
       "    </tr>\n",
       "    <tr>\n",
       "      <th>Chiquinquira</th>\n",
       "      <td>-73.816748</td>\n",
       "      <td>5.618273</td>\n",
       "    </tr>\n",
       "    <tr>\n",
       "      <th>Restrepo</th>\n",
       "      <td>-73.563038</td>\n",
       "      <td>4.261588</td>\n",
       "    </tr>\n",
       "    <tr>\n",
       "      <th>Tequendama</th>\n",
       "      <td>-74.450942</td>\n",
       "      <td>4.601787</td>\n",
       "    </tr>\n",
       "    <tr>\n",
       "      <th>Bogota</th>\n",
       "      <td>-74.083564</td>\n",
       "      <td>4.652954</td>\n",
       "    </tr>\n",
       "    <tr>\n",
       "      <th>Ubate</th>\n",
       "      <td>-73.821341</td>\n",
       "      <td>5.315720</td>\n",
       "    </tr>\n",
       "    <tr>\n",
       "      <th>Aranzazu</th>\n",
       "      <td>-2.790589</td>\n",
       "      <td>43.156731</td>\n",
       "    </tr>\n",
       "    <tr>\n",
       "      <th>Tunja</th>\n",
       "      <td>-73.361601</td>\n",
       "      <td>5.532431</td>\n",
       "    </tr>\n",
       "    <tr>\n",
       "      <th>Pensilvania</th>\n",
       "      <td>-77.727883</td>\n",
       "      <td>40.969989</td>\n",
       "    </tr>\n",
       "    <tr>\n",
       "      <th>Herveo</th>\n",
       "      <td>-75.239869</td>\n",
       "      <td>5.049223</td>\n",
       "    </tr>\n",
       "    <tr>\n",
       "      <th>Puerto Venus</th>\n",
       "      <td>-75.192935</td>\n",
       "      <td>5.520048</td>\n",
       "    </tr>\n",
       "  </tbody>\n",
       "</table>\n",
       "</div>"
      ],
      "text/plain": [
       "               Longitud    Latitud\n",
       "localidad                         \n",
       "La Dorada    -74.663369   5.454438\n",
       "Manizales    -75.506666   5.066891\n",
       "Marquetalia  -75.054606   5.296604\n",
       "Arauca       -70.496162   6.794042\n",
       "Dosquebradas -75.671301   4.833955\n",
       "Kennedy      -96.908948  48.641925\n",
       "Chiquinquira -73.816748   5.618273\n",
       "Restrepo     -73.563038   4.261588\n",
       "Tequendama   -74.450942   4.601787\n",
       "Bogota       -74.083564   4.652954\n",
       "Ubate        -73.821341   5.315720\n",
       "Aranzazu      -2.790589  43.156731\n",
       "Tunja        -73.361601   5.532431\n",
       "Pensilvania  -77.727883  40.969989\n",
       "Herveo       -75.239869   5.049223\n",
       "Puerto Venus -75.192935   5.520048"
      ]
     },
     "execution_count": 138,
     "metadata": {},
     "output_type": "execute_result"
    }
   ],
   "source": [
    "imputar = pd.DataFrame()\n",
    "imputar[\"localidad\"] = unicos[\"localidad\"]\n",
    "imputar[\"Longitud\"] = longitudes\n",
    "imputar[\"Latitud\"] = latitudes\n",
    "imputar = imputar.set_index(\"localidad\")\n",
    "imputar\n"
   ]
  },
  {
   "attachments": {},
   "cell_type": "markdown",
   "metadata": {},
   "source": [
    "Reemplazamos primero valores sin ciudad adecuada"
   ]
  },
  {
   "cell_type": "code",
   "execution_count": 139,
   "metadata": {},
   "outputs": [
    {
     "data": {
      "text/plain": [
       "array(['La Dorada', 'Manizales', 'Aranzazu', 'Marquetalia', 'Pensilvania',\n",
       "       'Bogota', 'Kennedy', 'Arauca', 'Dosquebradas', 'Chiquinquira',\n",
       "       'Tequendama', 'Restrepo', 'Ubate', 'Marulanda', 'Herveo', 'Tunja',\n",
       "       'Puerto Venus'], dtype=object)"
      ]
     },
     "execution_count": 139,
     "metadata": {},
     "output_type": "execute_result"
    }
   ],
   "source": [
    "data[\"ciudad\"] = data[\"localidad\"].replace(\n",
    "    \"Promotora La Aurora S.A.S. Sin Oficina\", \"Manizales\").replace(\n",
    "    \"Call Center Manizales\", \"Manizales\")\n",
    "data[\"ciudad\"].unique()\n"
   ]
  },
  {
   "cell_type": "code",
   "execution_count": 140,
   "metadata": {},
   "outputs": [],
   "source": [
    "def imputar_valor(row, columna_imputar, columna_imputacion, df_imputacion):\n",
    "    if pd.notnull(row[columna_imputar]) or pd.isnull(row[columna_imputacion])\\\n",
    "            or row[columna_imputacion] not in df_imputacion.index:\n",
    "        return row[columna_imputar]\n",
    "    else:\n",
    "        return df_imputacion.loc[row[columna_imputacion]][columna_imputar]\n"
   ]
  },
  {
   "cell_type": "code",
   "execution_count": 141,
   "metadata": {},
   "outputs": [
    {
     "data": {
      "text/plain": [
       "0       5.479989\n",
       "1       5.475582\n",
       "2       5.472709\n",
       "3       5.204031\n",
       "4       5.446556\n",
       "          ...   \n",
       "8259    5.063365\n",
       "8260    5.063437\n",
       "8261    5.066891\n",
       "8262    5.066891\n",
       "8263    5.066891\n",
       "Name: latitud, Length: 8264, dtype: float64"
      ]
     },
     "execution_count": 141,
     "metadata": {},
     "output_type": "execute_result"
    }
   ],
   "source": [
    "data[\"latitud\"] = data.apply(lambda row: imputar_valor(\n",
    "    row, \"Latitud\", \"ciudad\", imputar), axis=1)\n",
    "data[\"latitud\"]\n"
   ]
  },
  {
   "cell_type": "code",
   "execution_count": 142,
   "metadata": {},
   "outputs": [
    {
     "data": {
      "text/plain": [
       "0      -74.674757\n",
       "1      -74.672998\n",
       "2      -74.667984\n",
       "3      -74.888705\n",
       "4      -74.660564\n",
       "          ...    \n",
       "8259   -75.509116\n",
       "8260   -75.512067\n",
       "8261   -75.506666\n",
       "8262   -75.506666\n",
       "8263   -75.506666\n",
       "Name: longitud, Length: 8264, dtype: float64"
      ]
     },
     "execution_count": 142,
     "metadata": {},
     "output_type": "execute_result"
    }
   ],
   "source": [
    "data[\"longitud\"] = data.apply(lambda row: imputar_valor(\n",
    "    row, \"Longitud\", \"ciudad\", imputar), axis=1)\n",
    "data[\"longitud\"]\n"
   ]
  },
  {
   "attachments": {},
   "cell_type": "markdown",
   "metadata": {},
   "source": [
    "Ya no tenemos nulos procedemos a eliminar columnas anteriores"
   ]
  },
  {
   "cell_type": "code",
   "execution_count": 143,
   "metadata": {},
   "outputs": [
    {
     "data": {
      "text/plain": [
       "Index(['CodigoPrograma', 'tomador', 'edad', 'Qinscritos', 'Qmascotas',\n",
       "       'valorCuota', 'QrecauExitoso', 'QrecauFallido', 'localidadVenta',\n",
       "       'nom_plan', 'profesion_tomador', 'moda_prof_inscritos',\n",
       "       'moda_parentesco', 'Neutral Score', 'Negative Score', 'Positive Score',\n",
       "       'estado', 'reintegrado', 'duracionActivoI', 'duracionActivoF',\n",
       "       'incrementoCuota', 'diaPago', 'nivelEconomico', 'barrio', 'localidad',\n",
       "       'latitud', 'longitud'],\n",
       "      dtype='object')"
      ]
     },
     "execution_count": 143,
     "metadata": {},
     "output_type": "execute_result"
    }
   ],
   "source": [
    "data.drop([\"ciudad\", \"Longitud\", \"Latitud\"], axis=1, inplace=True)\n",
    "data.columns"
   ]
  },
  {
   "cell_type": "markdown",
   "metadata": {},
   "source": [
    "Nombre del plan"
   ]
  },
  {
   "cell_type": "code",
   "execution_count": 144,
   "metadata": {},
   "outputs": [
    {
     "data": {
      "text/plain": [
       "5170"
      ]
     },
     "execution_count": 144,
     "metadata": {},
     "output_type": "execute_result"
    }
   ],
   "source": [
    "data[\"nom_plan\"].isna().sum()"
   ]
  },
  {
   "cell_type": "code",
   "execution_count": 145,
   "metadata": {},
   "outputs": [
    {
     "data": {
      "text/plain": [
       "5170"
      ]
     },
     "execution_count": 145,
     "metadata": {},
     "output_type": "execute_result"
    }
   ],
   "source": [
    "data[\"profesion_tomador\"].isna().sum()\n"
   ]
  },
  {
   "cell_type": "code",
   "execution_count": 146,
   "metadata": {},
   "outputs": [
    {
     "data": {
      "text/plain": [
       "5431"
      ]
     },
     "execution_count": 146,
     "metadata": {},
     "output_type": "execute_result"
    }
   ],
   "source": [
    "data['moda_prof_inscritos'].isna().sum()\n"
   ]
  },
  {
   "cell_type": "code",
   "execution_count": 147,
   "metadata": {},
   "outputs": [
    {
     "data": {
      "text/plain": [
       "5170"
      ]
     },
     "execution_count": 147,
     "metadata": {},
     "output_type": "execute_result"
    }
   ],
   "source": [
    "data['moda_parentesco'].isna().sum()\n"
   ]
  },
  {
   "attachments": {},
   "cell_type": "markdown",
   "metadata": {},
   "source": [
    "Estos 4 atributos tienen faltantes en más de un 50% de los registros, por tal razón al momento de explorar miraremos el peso de las caracteristicas, si estas tienen incidencia se procede a entrenar el modelo solo con 3000 registros y no los 9000, pero también se crea un segundo modelo sin estas caracteristicas para ver su resultado pero teniendo en cuenta los 9000 registros"
   ]
  },
  {
   "cell_type": "code",
   "execution_count": 148,
   "metadata": {},
   "outputs": [
    {
     "data": {
      "text/plain": [
       "108"
      ]
     },
     "execution_count": 148,
     "metadata": {},
     "output_type": "execute_result"
    }
   ],
   "source": [
    "data['Neutral Score'].isna().sum()\n"
   ]
  },
  {
   "cell_type": "code",
   "execution_count": 149,
   "metadata": {},
   "outputs": [
    {
     "data": {
      "text/plain": [
       "108"
      ]
     },
     "execution_count": 149,
     "metadata": {},
     "output_type": "execute_result"
    }
   ],
   "source": [
    "data['Negative Score'].isna().sum()\n"
   ]
  },
  {
   "cell_type": "code",
   "execution_count": 150,
   "metadata": {},
   "outputs": [
    {
     "data": {
      "text/plain": [
       "108"
      ]
     },
     "execution_count": 150,
     "metadata": {},
     "output_type": "execute_result"
    }
   ],
   "source": [
    "data['Positive Score'].isna().sum()\n"
   ]
  },
  {
   "attachments": {},
   "cell_type": "markdown",
   "metadata": {},
   "source": [
    "Estas 3 ultimas variables presentan solo 108 nulos, eliminaremos los registros, los cuales no tienen valor material"
   ]
  },
  {
   "cell_type": "code",
   "execution_count": 151,
   "metadata": {},
   "outputs": [
    {
     "data": {
      "text/html": [
       "<div>\n",
       "<style scoped>\n",
       "    .dataframe tbody tr th:only-of-type {\n",
       "        vertical-align: middle;\n",
       "    }\n",
       "\n",
       "    .dataframe tbody tr th {\n",
       "        vertical-align: top;\n",
       "    }\n",
       "\n",
       "    .dataframe thead th {\n",
       "        text-align: right;\n",
       "    }\n",
       "</style>\n",
       "<table border=\"1\" class=\"dataframe\">\n",
       "  <thead>\n",
       "    <tr style=\"text-align: right;\">\n",
       "      <th></th>\n",
       "      <th>CodigoPrograma</th>\n",
       "      <th>tomador</th>\n",
       "      <th>edad</th>\n",
       "      <th>Qinscritos</th>\n",
       "      <th>Qmascotas</th>\n",
       "      <th>valorCuota</th>\n",
       "      <th>QrecauExitoso</th>\n",
       "      <th>QrecauFallido</th>\n",
       "      <th>localidadVenta</th>\n",
       "      <th>nom_plan</th>\n",
       "      <th>...</th>\n",
       "      <th>reintegrado</th>\n",
       "      <th>duracionActivoI</th>\n",
       "      <th>duracionActivoF</th>\n",
       "      <th>incrementoCuota</th>\n",
       "      <th>diaPago</th>\n",
       "      <th>nivelEconomico</th>\n",
       "      <th>barrio</th>\n",
       "      <th>localidad</th>\n",
       "      <th>latitud</th>\n",
       "      <th>longitud</th>\n",
       "    </tr>\n",
       "  </thead>\n",
       "  <tbody>\n",
       "    <tr>\n",
       "      <th>0</th>\n",
       "      <td>59</td>\n",
       "      <td>Luis Roberto Murillo</td>\n",
       "      <td>68.0</td>\n",
       "      <td>5.0</td>\n",
       "      <td>0.0</td>\n",
       "      <td>16100</td>\n",
       "      <td>6</td>\n",
       "      <td>31</td>\n",
       "      <td>La Dorada</td>\n",
       "      <td>NaN</td>\n",
       "      <td>...</td>\n",
       "      <td>0</td>\n",
       "      <td>1716</td>\n",
       "      <td>757</td>\n",
       "      <td>1000.0</td>\n",
       "      <td>10</td>\n",
       "      <td>1.0</td>\n",
       "      <td>0</td>\n",
       "      <td>La Dorada</td>\n",
       "      <td>5.479989</td>\n",
       "      <td>-74.674757</td>\n",
       "    </tr>\n",
       "    <tr>\n",
       "      <th>1</th>\n",
       "      <td>84</td>\n",
       "      <td>Indris Isabel Morales Herrera</td>\n",
       "      <td>30.0</td>\n",
       "      <td>12.0</td>\n",
       "      <td>0.0</td>\n",
       "      <td>31100</td>\n",
       "      <td>22</td>\n",
       "      <td>16</td>\n",
       "      <td>Manizales</td>\n",
       "      <td>NaN</td>\n",
       "      <td>...</td>\n",
       "      <td>0</td>\n",
       "      <td>1649</td>\n",
       "      <td>1649</td>\n",
       "      <td>1000.0</td>\n",
       "      <td>16</td>\n",
       "      <td>NaN</td>\n",
       "      <td>0</td>\n",
       "      <td>Manizales</td>\n",
       "      <td>5.475582</td>\n",
       "      <td>-74.672998</td>\n",
       "    </tr>\n",
       "    <tr>\n",
       "      <th>2</th>\n",
       "      <td>87</td>\n",
       "      <td>Jose Nelio Ibarguen Hinestroza</td>\n",
       "      <td>56.0</td>\n",
       "      <td>2.0</td>\n",
       "      <td>0.0</td>\n",
       "      <td>24300</td>\n",
       "      <td>7</td>\n",
       "      <td>1</td>\n",
       "      <td>La Dorada</td>\n",
       "      <td>Aurora Plus 2020</td>\n",
       "      <td>...</td>\n",
       "      <td>0</td>\n",
       "      <td>1636</td>\n",
       "      <td>1161</td>\n",
       "      <td>3500.0</td>\n",
       "      <td>29</td>\n",
       "      <td>0.0</td>\n",
       "      <td>0</td>\n",
       "      <td>La Dorada</td>\n",
       "      <td>5.472709</td>\n",
       "      <td>-74.667984</td>\n",
       "    </tr>\n",
       "    <tr>\n",
       "      <th>3</th>\n",
       "      <td>260</td>\n",
       "      <td>Marcela Ruiz Montes</td>\n",
       "      <td>51.0</td>\n",
       "      <td>5.0</td>\n",
       "      <td>0.0</td>\n",
       "      <td>16100</td>\n",
       "      <td>8</td>\n",
       "      <td>17</td>\n",
       "      <td>La Dorada</td>\n",
       "      <td>NaN</td>\n",
       "      <td>...</td>\n",
       "      <td>0</td>\n",
       "      <td>1506</td>\n",
       "      <td>1061</td>\n",
       "      <td>1000.0</td>\n",
       "      <td>9</td>\n",
       "      <td>NaN</td>\n",
       "      <td>0</td>\n",
       "      <td>La Dorada</td>\n",
       "      <td>5.204031</td>\n",
       "      <td>-74.888705</td>\n",
       "    </tr>\n",
       "    <tr>\n",
       "      <th>4</th>\n",
       "      <td>108</td>\n",
       "      <td>Sefora Alberis Caicedo Nieto</td>\n",
       "      <td>28.0</td>\n",
       "      <td>3.0</td>\n",
       "      <td>0.0</td>\n",
       "      <td>18100</td>\n",
       "      <td>24</td>\n",
       "      <td>13</td>\n",
       "      <td>La Dorada</td>\n",
       "      <td>NaN</td>\n",
       "      <td>...</td>\n",
       "      <td>0</td>\n",
       "      <td>1600</td>\n",
       "      <td>1600</td>\n",
       "      <td>0.0</td>\n",
       "      <td>20</td>\n",
       "      <td>2.0</td>\n",
       "      <td>0</td>\n",
       "      <td>La Dorada</td>\n",
       "      <td>5.446556</td>\n",
       "      <td>-74.660564</td>\n",
       "    </tr>\n",
       "  </tbody>\n",
       "</table>\n",
       "<p>5 rows × 27 columns</p>\n",
       "</div>"
      ],
      "text/plain": [
       "   CodigoPrograma                         tomador  edad  Qinscritos  \\\n",
       "0              59           Luis Roberto Murillo   68.0         5.0   \n",
       "1              84   Indris Isabel Morales Herrera  30.0        12.0   \n",
       "2              87  Jose Nelio Ibarguen Hinestroza  56.0         2.0   \n",
       "3             260             Marcela Ruiz Montes  51.0         5.0   \n",
       "4             108    Sefora Alberis Caicedo Nieto  28.0         3.0   \n",
       "\n",
       "   Qmascotas  valorCuota  QrecauExitoso  QrecauFallido localidadVenta  \\\n",
       "0        0.0       16100              6             31      La Dorada   \n",
       "1        0.0       31100             22             16      Manizales   \n",
       "2        0.0       24300              7              1      La Dorada   \n",
       "3        0.0       16100              8             17      La Dorada   \n",
       "4        0.0       18100             24             13      La Dorada   \n",
       "\n",
       "           nom_plan  ... reintegrado duracionActivoI duracionActivoF  \\\n",
       "0               NaN  ...           0            1716             757   \n",
       "1               NaN  ...           0            1649            1649   \n",
       "2  Aurora Plus 2020  ...           0            1636            1161   \n",
       "3               NaN  ...           0            1506            1061   \n",
       "4               NaN  ...           0            1600            1600   \n",
       "\n",
       "   incrementoCuota  diaPago  nivelEconomico  barrio  localidad   latitud  \\\n",
       "0           1000.0       10             1.0       0  La Dorada  5.479989   \n",
       "1           1000.0       16             NaN       0  Manizales  5.475582   \n",
       "2           3500.0       29             0.0       0  La Dorada  5.472709   \n",
       "3           1000.0        9             NaN       0  La Dorada  5.204031   \n",
       "4              0.0       20             2.0       0  La Dorada  5.446556   \n",
       "\n",
       "    longitud  \n",
       "0 -74.674757  \n",
       "1 -74.672998  \n",
       "2 -74.667984  \n",
       "3 -74.888705  \n",
       "4 -74.660564  \n",
       "\n",
       "[5 rows x 27 columns]"
      ]
     },
     "execution_count": 151,
     "metadata": {},
     "output_type": "execute_result"
    }
   ],
   "source": [
    "data.drop(data[data['Positive Score'].isna()].index, inplace=True)\n",
    "data.head()\n"
   ]
  },
  {
   "cell_type": "code",
   "execution_count": 152,
   "metadata": {},
   "outputs": [
    {
     "data": {
      "text/plain": [
       "0"
      ]
     },
     "execution_count": 152,
     "metadata": {},
     "output_type": "execute_result"
    }
   ],
   "source": [
    "data['Negative Score'].isna().sum()\n"
   ]
  },
  {
   "cell_type": "code",
   "execution_count": 153,
   "metadata": {},
   "outputs": [
    {
     "data": {
      "text/plain": [
       "Index(['codigoPrograma', 'tomador', 'edad', 'Qinscritos', 'Qmascotas',\n",
       "       'valorCuota', 'QrecauExitoso', 'QrecauFallido', 'localidadVenta',\n",
       "       'nombrePlan', 'profesionTomador', 'modaProfesionInscritos',\n",
       "       'modaParentesco', 'neutralScore', 'negativeScore', 'positiveScore',\n",
       "       'estado', 'reintegrado', 'duracionActivoI', 'duracionActivoF',\n",
       "       'incrementoCuota', 'diaPago', 'nivelEconomico', 'barrio', 'localidad',\n",
       "       'latitud', 'longitud'],\n",
       "      dtype='object')"
      ]
     },
     "execution_count": 153,
     "metadata": {},
     "output_type": "execute_result"
    }
   ],
   "source": [
    "data = data.rename(columns={\"CodigoPrograma\": \"codigoPrograma\", \"Neutral Score\": \"neutralScore\",\n",
    "                     \"Negative Score\": \"negativeScore\", \"Positive Score\": \"positiveScore\",\n",
    "                            \"nom_plan\": \"nombrePlan\", \"profesion_tomador\": \"profesionTomador\",\n",
    "                            \"moda_prof_inscritos\": \"modaProfesionInscritos\", \"moda_parentesco\": \"modaParentesco\"})\n",
    "data.columns\n"
   ]
  },
  {
   "cell_type": "code",
   "execution_count": 154,
   "metadata": {},
   "outputs": [
    {
     "data": {
      "text/plain": [
       "<AxesSubplot:>"
      ]
     },
     "execution_count": 154,
     "metadata": {},
     "output_type": "execute_result"
    },
    {
     "data": {
      "image/png": "[encoded data removed]",
      "text/plain": [
       "<Figure size 432x288 with 1 Axes>"
      ]
     },
     "metadata": {
      "needs_background": "light"
     },
     "output_type": "display_data"
    }
   ],
   "source": [
    "sns.heatmap(data.isnull(), cbar=False)\n"
   ]
  },
  {
   "cell_type": "code",
   "execution_count": 155,
   "metadata": {},
   "outputs": [
    {
     "data": {
      "text/html": [
       "<div>\n",
       "<style scoped>\n",
       "    .dataframe tbody tr th:only-of-type {\n",
       "        vertical-align: middle;\n",
       "    }\n",
       "\n",
       "    .dataframe tbody tr th {\n",
       "        vertical-align: top;\n",
       "    }\n",
       "\n",
       "    .dataframe thead th {\n",
       "        text-align: right;\n",
       "    }\n",
       "</style>\n",
       "<table border=\"1\" class=\"dataframe\">\n",
       "  <thead>\n",
       "    <tr style=\"text-align: right;\">\n",
       "      <th></th>\n",
       "      <th>estado</th>\n",
       "      <th>codigoPrograma</th>\n",
       "    </tr>\n",
       "  </thead>\n",
       "  <tbody>\n",
       "    <tr>\n",
       "      <th>1</th>\n",
       "      <td>1</td>\n",
       "      <td>2511</td>\n",
       "    </tr>\n",
       "    <tr>\n",
       "      <th>0</th>\n",
       "      <td>0</td>\n",
       "      <td>5645</td>\n",
       "    </tr>\n",
       "  </tbody>\n",
       "</table>\n",
       "</div>"
      ],
      "text/plain": [
       "   estado  codigoPrograma\n",
       "1       1            2511\n",
       "0       0            5645"
      ]
     },
     "execution_count": 155,
     "metadata": {},
     "output_type": "execute_result"
    }
   ],
   "source": [
    "data[[\"codigoPrograma\", \"estado\"]].groupby(\"estado\")\\\n",
    "    .count().reset_index().sort_values(\"codigoPrograma\")\n"
   ]
  },
  {
   "cell_type": "code",
   "execution_count": 156,
   "metadata": {},
   "outputs": [
    {
     "data": {
      "text/html": [
       "<div>\n",
       "<style scoped>\n",
       "    .dataframe tbody tr th:only-of-type {\n",
       "        vertical-align: middle;\n",
       "    }\n",
       "\n",
       "    .dataframe tbody tr th {\n",
       "        vertical-align: top;\n",
       "    }\n",
       "\n",
       "    .dataframe thead th {\n",
       "        text-align: right;\n",
       "    }\n",
       "</style>\n",
       "<table border=\"1\" class=\"dataframe\">\n",
       "  <thead>\n",
       "    <tr style=\"text-align: right;\">\n",
       "      <th></th>\n",
       "      <th>estado</th>\n",
       "      <th>codigoPrograma</th>\n",
       "    </tr>\n",
       "  </thead>\n",
       "  <tbody>\n",
       "    <tr>\n",
       "      <th>0</th>\n",
       "      <td>0</td>\n",
       "      <td>753</td>\n",
       "    </tr>\n",
       "    <tr>\n",
       "      <th>1</th>\n",
       "      <td>1</td>\n",
       "      <td>1855</td>\n",
       "    </tr>\n",
       "  </tbody>\n",
       "</table>\n",
       "</div>"
      ],
      "text/plain": [
       "   estado  codigoPrograma\n",
       "0       0             753\n",
       "1       1            1855"
      ]
     },
     "execution_count": 156,
     "metadata": {},
     "output_type": "execute_result"
    }
   ],
   "source": [
    "data.dropna()[[\"codigoPrograma\", \"estado\"]].groupby(\"estado\")\\\n",
    "    .count().reset_index().sort_values(\"codigoPrograma\")\n"
   ]
  },
  {
   "attachments": {},
   "cell_type": "markdown",
   "metadata": {},
   "source": [
    "Nuestra base de datos contiene gran cantidad de inactivos, siendo casi el 30% solo usuarios activos, los inactivos nos permiten entrenar el modelo sin embargo los datos estaran desbalaceados, los balancearemos en un futuro"
   ]
  },
  {
   "cell_type": "code",
   "execution_count": 157,
   "metadata": {},
   "outputs": [],
   "source": [
    "data.to_csv(\"../data/outputs/principal_v0.4.csv\", index=False)"
   ]
  }
 ],
 "metadata": {
  "kernelspec": {
   "display_name": "Python 3",
   "language": "python",
   "name": "python3"
  },
  "language_info": {
   "codemirror_mode": {
    "name": "ipython",
    "version": 3
   },
   "file_extension": ".py",
   "mimetype": "text/x-python",
   "name": "python",
   "nbconvert_exporter": "python",
   "pygments_lexer": "ipython3",
   "version": "3.8.10"
  },
  "orig_nbformat": 4,
  "vscode": {
   "interpreter": {
    "hash": "916dbcbb3f70747c44a77c7bcd40155683ae19c65e1c03b4aa3499c5328201f1"
   }
  }
 },
 "nbformat": 4,
 "nbformat_minor": 2
}
