{
 "cells": [
  {
   "attachments": {},
   "cell_type": "markdown",
   "metadata": {},
   "source": [
    "<h1>Preparación y limpieza de de datos </h1>\n",
    "<p>Proyecto aplicado - Rescindidos Funeraria La Aurora</´p>\n",
    "<p>Carlos Felipe Cortés Cataño - Carlos Luis Mora Cañas </p>"
   ]
  },
  {
   "attachments": {},
   "cell_type": "markdown",
   "metadata": {},
   "source": [
    "Se transformará la información extraida de distintas fuentes para asegurar que exista coherencia, accesibilidad y uniformidad"
   ]
  },
  {
   "cell_type": "code",
   "execution_count": 105,
   "metadata": {},
   "outputs": [],
   "source": [
    "import pandas as pd"
   ]
  },
  {
   "cell_type": "code",
   "execution_count": 106,
   "metadata": {},
   "outputs": [
    {
     "data": {
      "text/html": [
       "<div>\n",
       "<style scoped>\n",
       "    .dataframe tbody tr th:only-of-type {\n",
       "        vertical-align: middle;\n",
       "    }\n",
       "\n",
       "    .dataframe tbody tr th {\n",
       "        vertical-align: top;\n",
       "    }\n",
       "\n",
       "    .dataframe thead th {\n",
       "        text-align: right;\n",
       "    }\n",
       "</style>\n",
       "<table border=\"1\" class=\"dataframe\">\n",
       "  <thead>\n",
       "    <tr style=\"text-align: right;\">\n",
       "      <th></th>\n",
       "      <th>CodigoPrograma</th>\n",
       "      <th>Direccion</th>\n",
       "      <th>TipoPrograma</th>\n",
       "      <th>coordenadas</th>\n",
       "      <th>LocalidadVenta</th>\n",
       "      <th>EstadoActual</th>\n",
       "      <th>FechaRescindido</th>\n",
       "      <th>Estados</th>\n",
       "      <th>Cuotas</th>\n",
       "      <th>Observaciones</th>\n",
       "      <th>GestionesRecaudo</th>\n",
       "    </tr>\n",
       "  </thead>\n",
       "  <tbody>\n",
       "    <tr>\n",
       "      <th>0</th>\n",
       "      <td>55</td>\n",
       "      <td>Calle 46 B - Carrera 9 # 99</td>\n",
       "      <td>Familiar</td>\n",
       "      <td>{\"pos\":{\"latitud\":5.457571499999999,\"longitud\"...</td>\n",
       "      <td>La Dorada</td>\n",
       "      <td>Inactivo - Inactivo rescindido</td>\n",
       "      <td>2019-06-14 07:00:02.857</td>\n",
       "      <td>NaN</td>\n",
       "      <td>NaN</td>\n",
       "      <td>NaN</td>\n",
       "      <td>NaN</td>\n",
       "    </tr>\n",
       "    <tr>\n",
       "      <th>1</th>\n",
       "      <td>56</td>\n",
       "      <td>Carrera 8 - Calle 17 # 28</td>\n",
       "      <td>Familiar</td>\n",
       "      <td>{\"pos\":{\"latitud\":5.4540733,\"longitud\":-74.668...</td>\n",
       "      <td>La Dorada</td>\n",
       "      <td>Inactivo - Influencia de seres cercanos</td>\n",
       "      <td>2020-07-23 05:00:00.000</td>\n",
       "      <td>[{\"Estado\":\"Inactivo - Influencia de seres cer...</td>\n",
       "      <td>[{\"factura\":\"AUOF-3815\",\"valorTotalFacturaSinD...</td>\n",
       "      <td>[{\"fechaIngreso\":\"18\\/05\\/2020 \",\"empleado\":\"J...</td>\n",
       "      <td>[{\"Estado\":\"Exitosa - Gestión de recaudo exito...</td>\n",
       "    </tr>\n",
       "    <tr>\n",
       "      <th>2</th>\n",
       "      <td>58</td>\n",
       "      <td>Calle 44 - Carrera 8 C # 14</td>\n",
       "      <td>Familiar</td>\n",
       "      <td>{\"pos\":{\"latitud\":5.443969399999999,\"longitud\"...</td>\n",
       "      <td>La Dorada</td>\n",
       "      <td>Inactivo - Dificultad para ubicarlo</td>\n",
       "      <td>2020-09-01 05:00:00.000</td>\n",
       "      <td>[{\"Estado\":\"Inactivo - Dificultad para ubicarl...</td>\n",
       "      <td>[{\"factura\":\"AUOF-1910\",\"valorTotalFacturaSinD...</td>\n",
       "      <td>[{\"fechaIngreso\":\"30\\/01\\/2020 \",\"empleado\":\"J...</td>\n",
       "      <td>[{\"Estado\":\"Exitosa - Gestión de recaudo exito...</td>\n",
       "    </tr>\n",
       "  </tbody>\n",
       "</table>\n",
       "</div>"
      ],
      "text/plain": [
       "  CodigoPrograma                    Direccion TipoPrograma  \\\n",
       "0             55  Calle 46 B - Carrera 9 # 99     Familiar   \n",
       "1             56    Carrera 8 - Calle 17 # 28     Familiar   \n",
       "2             58  Calle 44 - Carrera 8 C # 14     Familiar   \n",
       "\n",
       "                                         coordenadas LocalidadVenta  \\\n",
       "0  {\"pos\":{\"latitud\":5.457571499999999,\"longitud\"...      La Dorada   \n",
       "1  {\"pos\":{\"latitud\":5.4540733,\"longitud\":-74.668...      La Dorada   \n",
       "2  {\"pos\":{\"latitud\":5.443969399999999,\"longitud\"...      La Dorada   \n",
       "\n",
       "                              EstadoActual          FechaRescindido  \\\n",
       "0           Inactivo - Inactivo rescindido  2019-06-14 07:00:02.857   \n",
       "1  Inactivo - Influencia de seres cercanos  2020-07-23 05:00:00.000   \n",
       "2      Inactivo - Dificultad para ubicarlo  2020-09-01 05:00:00.000   \n",
       "\n",
       "                                             Estados  \\\n",
       "0                                                NaN   \n",
       "1  [{\"Estado\":\"Inactivo - Influencia de seres cer...   \n",
       "2  [{\"Estado\":\"Inactivo - Dificultad para ubicarl...   \n",
       "\n",
       "                                              Cuotas  \\\n",
       "0                                                NaN   \n",
       "1  [{\"factura\":\"AUOF-3815\",\"valorTotalFacturaSinD...   \n",
       "2  [{\"factura\":\"AUOF-1910\",\"valorTotalFacturaSinD...   \n",
       "\n",
       "                                       Observaciones  \\\n",
       "0                                                NaN   \n",
       "1  [{\"fechaIngreso\":\"18\\/05\\/2020 \",\"empleado\":\"J...   \n",
       "2  [{\"fechaIngreso\":\"30\\/01\\/2020 \",\"empleado\":\"J...   \n",
       "\n",
       "                                    GestionesRecaudo  \n",
       "0                                                NaN  \n",
       "1  [{\"Estado\":\"Exitosa - Gestión de recaudo exito...  \n",
       "2  [{\"Estado\":\"Exitosa - Gestión de recaudo exito...  "
      ]
     },
     "execution_count": 106,
     "metadata": {},
     "output_type": "execute_result"
    }
   ],
   "source": [
    "reporte = pd.read_excel(\"../data/reporte.xlsx\")\n",
    "reporte.head(3)"
   ]
  },
  {
   "attachments": {},
   "cell_type": "markdown",
   "metadata": {},
   "source": [
    "Se evidencia valores duplicados, eliminamos duplicados y reducimos el conjunto de datos de 70.787 a 70.320"
   ]
  },
  {
   "cell_type": "code",
   "execution_count": 107,
   "metadata": {},
   "outputs": [
    {
     "data": {
      "text/plain": [
       "70787"
      ]
     },
     "execution_count": 107,
     "metadata": {},
     "output_type": "execute_result"
    }
   ],
   "source": [
    "len(reporte)"
   ]
  },
  {
   "cell_type": "code",
   "execution_count": 108,
   "metadata": {},
   "outputs": [
    {
     "data": {
      "text/plain": [
       "70320"
      ]
     },
     "execution_count": 108,
     "metadata": {},
     "output_type": "execute_result"
    }
   ],
   "source": [
    "reporte = reporte.drop_duplicates(subset=[\"CodigoPrograma\", \"EstadoActual\"], keep=\"first\")\n",
    "len(reporte)\n"
   ]
  },
  {
   "attachments": {},
   "cell_type": "markdown",
   "metadata": {},
   "source": [
    "Se identifican registros donde en el ultimo atributo se obtiene mucho texto y se traslada a la siguiente columna, dichos valores son eliminados"
   ]
  },
  {
   "cell_type": "code",
   "execution_count": 109,
   "metadata": {},
   "outputs": [
    {
     "data": {
      "text/plain": [
       "70301"
      ]
     },
     "execution_count": 109,
     "metadata": {},
     "output_type": "execute_result"
    }
   ],
   "source": [
    "reporte = reporte.drop(reporte[reporte[\"TipoPrograma\"].isna()].index)\n",
    "len(reporte)\n"
   ]
  },
  {
   "attachments": {},
   "cell_type": "markdown",
   "metadata": {},
   "source": [
    "Se identifica tipo de programa Empresarial, no es nuestro objetivo. El análisis se realizará en Familiar, debido a que empresarial no tiene un comportamiento similar según el experto de la organización."
   ]
  },
  {
   "cell_type": "code",
   "execution_count": 110,
   "metadata": {},
   "outputs": [
    {
     "data": {
      "text/plain": [
       "[]"
      ]
     },
     "execution_count": 110,
     "metadata": {},
     "output_type": "execute_result"
    },
    {
     "data": {
      "image/png": "[encoded data removed]",
      "text/plain": [
       "<Figure size 432x288 with 1 Axes>"
      ]
     },
     "metadata": {
      "needs_background": "light"
     },
     "output_type": "display_data"
    }
   ],
   "source": [
    "reporte[\"TipoPrograma\"].hist().plot()"
   ]
  },
  {
   "cell_type": "code",
   "execution_count": 111,
   "metadata": {},
   "outputs": [
    {
     "data": {
      "text/plain": [
       "36960"
      ]
     },
     "execution_count": 111,
     "metadata": {},
     "output_type": "execute_result"
    }
   ],
   "source": [
    "reporte = reporte[reporte[\"TipoPrograma\"] != \"Empresarial\"]\n",
    "len(reporte)"
   ]
  },
  {
   "cell_type": "code",
   "execution_count": 112,
   "metadata": {},
   "outputs": [
    {
     "data": {
      "text/plain": [
       "0        {\"pos\":{\"latitud\":5.457571499999999,\"longitud\"...\n",
       "1        {\"pos\":{\"latitud\":5.4540733,\"longitud\":-74.668...\n",
       "2        {\"pos\":{\"latitud\":5.443969399999999,\"longitud\"...\n",
       "3                                                      NaN\n",
       "4                                                      NaN\n",
       "                               ...                        \n",
       "70779                                                  NaN\n",
       "70780                                                  NaN\n",
       "70782                                                  NaN\n",
       "70783                                                  NaN\n",
       "70784                                                  NaN\n",
       "Name: coordenadas, Length: 36960, dtype: object"
      ]
     },
     "execution_count": 112,
     "metadata": {},
     "output_type": "execute_result"
    }
   ],
   "source": [
    "reporte[\"coordenadas\"]"
   ]
  },
  {
   "cell_type": "code",
   "execution_count": 113,
   "metadata": {},
   "outputs": [
    {
     "name": "stderr",
     "output_type": "stream",
     "text": [
      "/home/apoyo/.local/lib/python3.8/site-packages/pandas/core/indexes/base.py:6982: FutureWarning: In a future version, the Index constructor will not infer numeric dtypes when passed object-dtype sequences (matching Series behavior)\n",
      "  return Index(sequences[0], name=names)\n"
     ]
    },
    {
     "data": {
      "text/html": [
       "<div>\n",
       "<style scoped>\n",
       "    .dataframe tbody tr th:only-of-type {\n",
       "        vertical-align: middle;\n",
       "    }\n",
       "\n",
       "    .dataframe tbody tr th {\n",
       "        vertical-align: top;\n",
       "    }\n",
       "\n",
       "    .dataframe thead th {\n",
       "        text-align: right;\n",
       "    }\n",
       "</style>\n",
       "<table border=\"1\" class=\"dataframe\">\n",
       "  <thead>\n",
       "    <tr style=\"text-align: right;\">\n",
       "      <th></th>\n",
       "      <th>CodigoPrograma</th>\n",
       "      <th>Direccion</th>\n",
       "      <th>TipoPrograma</th>\n",
       "      <th>LocalidadVenta</th>\n",
       "      <th>EstadoActual</th>\n",
       "      <th>FechaRescindido</th>\n",
       "      <th>Estados</th>\n",
       "      <th>Cuotas</th>\n",
       "      <th>Observaciones</th>\n",
       "      <th>GestionesRecaudo</th>\n",
       "      <th>latitud</th>\n",
       "      <th>longitud</th>\n",
       "    </tr>\n",
       "  </thead>\n",
       "  <tbody>\n",
       "    <tr>\n",
       "      <th>0</th>\n",
       "      <td>55</td>\n",
       "      <td>Calle 46 B - Carrera 9 # 99</td>\n",
       "      <td>Familiar</td>\n",
       "      <td>La Dorada</td>\n",
       "      <td>Inactivo - Inactivo rescindido</td>\n",
       "      <td>2019-06-14 07:00:02.857</td>\n",
       "      <td>NaN</td>\n",
       "      <td>NaN</td>\n",
       "      <td>NaN</td>\n",
       "      <td>NaN</td>\n",
       "      <td>5.457571499999999</td>\n",
       "      <td>-74.67034009999998</td>\n",
       "    </tr>\n",
       "    <tr>\n",
       "      <th>1</th>\n",
       "      <td>56</td>\n",
       "      <td>Carrera 8 - Calle 17 # 28</td>\n",
       "      <td>Familiar</td>\n",
       "      <td>La Dorada</td>\n",
       "      <td>Inactivo - Influencia de seres cercanos</td>\n",
       "      <td>2020-07-23 05:00:00.000</td>\n",
       "      <td>[{\"Estado\":\"Inactivo - Influencia de seres cer...</td>\n",
       "      <td>[{\"factura\":\"AUOF-3815\",\"valorTotalFacturaSinD...</td>\n",
       "      <td>[{\"fechaIngreso\":\"18\\/05\\/2020 \",\"empleado\":\"J...</td>\n",
       "      <td>[{\"Estado\":\"Exitosa - Gestión de recaudo exito...</td>\n",
       "      <td>5.4540733</td>\n",
       "      <td>-74.66815350000002</td>\n",
       "    </tr>\n",
       "    <tr>\n",
       "      <th>2</th>\n",
       "      <td>58</td>\n",
       "      <td>Calle 44 - Carrera 8 C # 14</td>\n",
       "      <td>Familiar</td>\n",
       "      <td>La Dorada</td>\n",
       "      <td>Inactivo - Dificultad para ubicarlo</td>\n",
       "      <td>2020-09-01 05:00:00.000</td>\n",
       "      <td>[{\"Estado\":\"Inactivo - Dificultad para ubicarl...</td>\n",
       "      <td>[{\"factura\":\"AUOF-1910\",\"valorTotalFacturaSinD...</td>\n",
       "      <td>[{\"fechaIngreso\":\"30\\/01\\/2020 \",\"empleado\":\"J...</td>\n",
       "      <td>[{\"Estado\":\"Exitosa - Gestión de recaudo exito...</td>\n",
       "      <td>5.443969399999999</td>\n",
       "      <td>-74.6851792</td>\n",
       "    </tr>\n",
       "  </tbody>\n",
       "</table>\n",
       "</div>"
      ],
      "text/plain": [
       "  CodigoPrograma                    Direccion TipoPrograma LocalidadVenta  \\\n",
       "0             55  Calle 46 B - Carrera 9 # 99     Familiar      La Dorada   \n",
       "1             56    Carrera 8 - Calle 17 # 28     Familiar      La Dorada   \n",
       "2             58  Calle 44 - Carrera 8 C # 14     Familiar      La Dorada   \n",
       "\n",
       "                              EstadoActual          FechaRescindido  \\\n",
       "0           Inactivo - Inactivo rescindido  2019-06-14 07:00:02.857   \n",
       "1  Inactivo - Influencia de seres cercanos  2020-07-23 05:00:00.000   \n",
       "2      Inactivo - Dificultad para ubicarlo  2020-09-01 05:00:00.000   \n",
       "\n",
       "                                             Estados  \\\n",
       "0                                                NaN   \n",
       "1  [{\"Estado\":\"Inactivo - Influencia de seres cer...   \n",
       "2  [{\"Estado\":\"Inactivo - Dificultad para ubicarl...   \n",
       "\n",
       "                                              Cuotas  \\\n",
       "0                                                NaN   \n",
       "1  [{\"factura\":\"AUOF-3815\",\"valorTotalFacturaSinD...   \n",
       "2  [{\"factura\":\"AUOF-1910\",\"valorTotalFacturaSinD...   \n",
       "\n",
       "                                       Observaciones  \\\n",
       "0                                                NaN   \n",
       "1  [{\"fechaIngreso\":\"18\\/05\\/2020 \",\"empleado\":\"J...   \n",
       "2  [{\"fechaIngreso\":\"30\\/01\\/2020 \",\"empleado\":\"J...   \n",
       "\n",
       "                                    GestionesRecaudo            latitud  \\\n",
       "0                                                NaN  5.457571499999999   \n",
       "1  [{\"Estado\":\"Exitosa - Gestión de recaudo exito...          5.4540733   \n",
       "2  [{\"Estado\":\"Exitosa - Gestión de recaudo exito...  5.443969399999999   \n",
       "\n",
       "             longitud  \n",
       "0  -74.67034009999998  \n",
       "1  -74.66815350000002  \n",
       "2         -74.6851792  "
      ]
     },
     "execution_count": 113,
     "metadata": {},
     "output_type": "execute_result"
    }
   ],
   "source": [
    "temp = reporte.copy()[[\"CodigoPrograma\", \"coordenadas\"]].dropna()\n",
    "temp = temp.set_index(\"CodigoPrograma\")\n",
    "temp[\"coordenadas\"] = temp[\"coordenadas\"].apply(\n",
    "    lambda indice: indice.split(',\"pov\":')[0])\n",
    "temp[\"coordenadas\"] = temp[\"coordenadas\"].apply(\n",
    "    lambda indice: indice.replace('{\"pos\":{\"latitud\":', \"\").replace(\"}\", \"\").replace('\"longitud\":', \"\"))\n",
    "temp = temp[\"coordenadas\"].str.split(\",\", expand=True).rename(\n",
    "    columns={0: \"latitud\", 1: \"longitud\"}).reset_index()\n",
    "reporte = reporte.merge(temp, on=\"CodigoPrograma\", how=\"left\").drop(\"coordenadas\", axis=1)\n",
    "reporte.head(3)\n"
   ]
  },
  {
   "cell_type": "code",
   "execution_count": 114,
   "metadata": {},
   "outputs": [
    {
     "data": {
      "text/plain": [
       "36960"
      ]
     },
     "execution_count": 114,
     "metadata": {},
     "output_type": "execute_result"
    }
   ],
   "source": [
    "len(reporte[\"latitud\"].isna())"
   ]
  },
  {
   "cell_type": "code",
   "execution_count": 115,
   "metadata": {},
   "outputs": [
    {
     "data": {
      "text/plain": [
       "36960"
      ]
     },
     "execution_count": 115,
     "metadata": {},
     "output_type": "execute_result"
    }
   ],
   "source": [
    "len(reporte)\n"
   ]
  },
  {
   "attachments": {},
   "cell_type": "markdown",
   "metadata": {},
   "source": [
    "Dada la cantidad de nulos se busca la oportunidad de completar algunas localizaciones usando la dirección y adicionar la variable estrato, para ello se usará un georeferenciador provisionado por la empresa"
   ]
  },
  {
   "cell_type": "code",
   "execution_count": 116,
   "metadata": {},
   "outputs": [],
   "source": [
    "reporte[[\"CodigoPrograma\", \"latitud\", \"longitud\", \"Direccion\", \"LocalidadVenta\"]].to_csv(\"../data/outputs/search_loc.csv\", index=False)"
   ]
  },
  {
   "attachments": {},
   "cell_type": "markdown",
   "metadata": {},
   "source": [
    "<p></h1>Se encuentran registros fuera del pais</p>\n",
    "<img src=\"../data/outputs/fuera_pais.png\"/>"
   ]
  },
  {
   "cell_type": "code",
   "execution_count": 127,
   "metadata": {},
   "outputs": [
    {
     "data": {
      "text/html": [
       "<div>\n",
       "<style scoped>\n",
       "    .dataframe tbody tr th:only-of-type {\n",
       "        vertical-align: middle;\n",
       "    }\n",
       "\n",
       "    .dataframe tbody tr th {\n",
       "        vertical-align: top;\n",
       "    }\n",
       "\n",
       "    .dataframe thead th {\n",
       "        text-align: right;\n",
       "    }\n",
       "</style>\n",
       "<table border=\"1\" class=\"dataframe\">\n",
       "  <thead>\n",
       "    <tr style=\"text-align: right;\">\n",
       "      <th></th>\n",
       "      <th>CodigoPrograma</th>\n",
       "      <th>latitud</th>\n",
       "      <th>longitud</th>\n",
       "      <th>Direccion</th>\n",
       "      <th>Fuera del Pais</th>\n",
       "      <th>LocalidadVenta</th>\n",
       "      <th>MunicipioS</th>\n",
       "      <th>Nivel Socio Economico</th>\n",
       "    </tr>\n",
       "  </thead>\n",
       "  <tbody>\n",
       "    <tr>\n",
       "      <th>0</th>\n",
       "      <td>1603</td>\n",
       "      <td>-33.675352</td>\n",
       "      <td>-65.458672</td>\n",
       "      <td>CONJUNTO VILLA MERCEDES BLOQUE A APTO 603</td>\n",
       "      <td>0</td>\n",
       "      <td>Manizales</td>\n",
       "      <td>NaN</td>\n",
       "      <td>NaN</td>\n",
       "    </tr>\n",
       "    <tr>\n",
       "      <th>1</th>\n",
       "      <td>9074</td>\n",
       "      <td>-32.897442</td>\n",
       "      <td>-68.829727</td>\n",
       "      <td>MZA 22 CASA 444 CIUDADELA LA LINDA</td>\n",
       "      <td>0</td>\n",
       "      <td>Manizales</td>\n",
       "      <td>NaN</td>\n",
       "      <td>NaN</td>\n",
       "    </tr>\n",
       "    <tr>\n",
       "      <th>2</th>\n",
       "      <td>33574</td>\n",
       "      <td>-32.889459</td>\n",
       "      <td>-68.845839</td>\n",
       "      <td>MZA 3 CASA 29 LAURELES</td>\n",
       "      <td>0</td>\n",
       "      <td>Dosquebradas</td>\n",
       "      <td>NaN</td>\n",
       "      <td>NaN</td>\n",
       "    </tr>\n",
       "  </tbody>\n",
       "</table>\n",
       "</div>"
      ],
      "text/plain": [
       "   CodigoPrograma    latitud   longitud  \\\n",
       "0            1603 -33.675352 -65.458672   \n",
       "1            9074 -32.897442 -68.829727   \n",
       "2           33574 -32.889459 -68.845839   \n",
       "\n",
       "                                   Direccion  Fuera del Pais LocalidadVenta  \\\n",
       "0  CONJUNTO VILLA MERCEDES BLOQUE A APTO 603               0      Manizales   \n",
       "1         MZA 22 CASA 444 CIUDADELA LA LINDA               0      Manizales   \n",
       "2                     MZA 3 CASA 29 LAURELES               0   Dosquebradas   \n",
       "\n",
       "  MunicipioS  Nivel Socio Economico  \n",
       "0        NaN                    NaN  \n",
       "1        NaN                    NaN  \n",
       "2        NaN                    NaN  "
      ]
     },
     "execution_count": 127,
     "metadata": {},
     "output_type": "execute_result"
    }
   ],
   "source": [
    "estratos = pd.read_csv(\"../data/outputs/estratos.csv\", sep=\";\")\n",
    "estratos.head(3)\n"
   ]
  },
  {
   "cell_type": "code",
   "execution_count": 141,
   "metadata": {},
   "outputs": [
    {
     "data": {
      "text/plain": [
       "Index(['CodigoPrograma', 'Direccion', 'TipoPrograma', 'LocalidadVenta',\n",
       "       'EstadoActual', 'FechaRescindido', 'Estados', 'Cuotas', 'Observaciones',\n",
       "       'GestionesRecaudo', 'latitud', 'longitud'],\n",
       "      dtype='object')"
      ]
     },
     "execution_count": 141,
     "metadata": {},
     "output_type": "execute_result"
    }
   ],
   "source": [
    "reporte.columns"
   ]
  },
  {
   "cell_type": "code",
   "execution_count": 142,
   "metadata": {},
   "outputs": [],
   "source": [
    "reporte.drop([\"latitud\", \"longitud\", \"Direccion\",\n",
    "             \"LocalidadVenta\"], axis=1, inplace=True)\n"
   ]
  },
  {
   "cell_type": "code",
   "execution_count": 144,
   "metadata": {},
   "outputs": [],
   "source": [
    "\n",
    "reporte = reporte.merge(estratos, on=\"CodigoPrograma\", how=\"left\")\n"
   ]
  },
  {
   "cell_type": "code",
   "execution_count": 145,
   "metadata": {},
   "outputs": [],
   "source": [
    "reporte.to_csv(\"../data/outputs/reporte_v2.csv\")"
   ]
  },
  {
   "cell_type": "code",
   "execution_count": null,
   "metadata": {},
   "outputs": [
    {
     "data": {
      "text/plain": [
       "'{\"pos\":{\"latitud\":5.475582019363229,\"longitud\":-74.67299778430248}'"
      ]
     },
     "execution_count": 69,
     "metadata": {},
     "output_type": "execute_result"
    }
   ],
   "source": [
    "temp[\"coordenadas\"].iloc[55].split(',\"pov\":')[0]\n"
   ]
  },
  {
   "cell_type": "code",
   "execution_count": null,
   "metadata": {},
   "outputs": [],
   "source": [
    "\n",
    "\n",
    "temp = temp[\"Estados\"].str.split(\"},\", expand=True).stack(\n",
    ").reset_index().drop(\"level_1\", axis=1).set_index(\"CodigoPrograma\")\n",
    "temp = temp[0].str.split(\",\", expand=True)\n",
    "temp[1] = temp[2].where(~temp[2].isna(), temp[1])\n",
    "temp = temp.reset_index().rename(columns={\"CodigoPrograma\": \"id_programa\", 0: \"nombre_estado\",\n",
    "                                          1: \"fecha_estado\"}).drop(2, axis=1)\n",
    "temp[\"nombre_estado\"] = temp[\"nombre_estado\"].str.replace(\n",
    "    '{\"Estado\":\"', \"\", regex=True).str.replace('\"', \"\", regex=True)\n",
    "temp[\"fecha_estado\"] = temp[\"fecha_estado\"].str.replace(\n",
    "    '\"fechainicio\":\"', \"\", regex=True).str.replace(\n",
    "    '\"fechacancelacion\":\"', \"\", regex=True).str.replace('\"}', \"\", regex=True).str.replace('\"', \"\", regex=True)\n",
    "temp = temp.merge(new_historico.drop(\n",
    "    [\"nombre_estado\", \"fecha_estado\"], axis=1), on=\"id_programa\", how=\"left\")\n",
    "temp[\"fecha_estado\"] = pd.to_datetime(temp[\"fecha_estado\"])\n",
    "temp\n"
   ]
  }
 ],
 "metadata": {
  "kernelspec": {
   "display_name": "Python 3",
   "language": "python",
   "name": "python3"
  },
  "language_info": {
   "codemirror_mode": {
    "name": "ipython",
    "version": 3
   },
   "file_extension": ".py",
   "mimetype": "text/x-python",
   "name": "python",
   "nbconvert_exporter": "python",
   "pygments_lexer": "ipython3",
   "version": "3.8.10"
  },
  "orig_nbformat": 4,
  "vscode": {
   "interpreter": {
    "hash": "916dbcbb3f70747c44a77c7bcd40155683ae19c65e1c03b4aa3499c5328201f1"
   }
  }
 },
 "nbformat": 4,
 "nbformat_minor": 2
}
